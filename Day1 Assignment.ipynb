{
 "cells": [
  {
   "cell_type": "markdown",
   "metadata": {
    "application/vnd.databricks.v1+cell": {
     "cellMetadata": {},
     "inputWidgets": {},
     "nuid": "0c0c175b-b78b-4243-97c9-aaf07220b6e4",
     "showTitle": false,
     "title": ""
    }
   },
   "source": [
    "Question 24 : Create a dictionary to store username and password"
   ]
  },
  {
   "cell_type": "code",
   "execution_count": 0,
   "metadata": {
    "application/vnd.databricks.v1+cell": {
     "cellMetadata": {
      "byteLimit": 2048000,
      "rowLimit": 10000
     },
     "inputWidgets": {},
     "nuid": "c2e03c05-c545-4d17-81bf-49f4d463f751",
     "showTitle": false,
     "title": ""
    }
   },
   "outputs": [
    {
     "output_type": "stream",
     "name": "stdout",
     "output_type": "stream",
     "text": [
      "{'user1': 'password123', 'user2': '123password', 'user4': 'kodeord'}\n"
     ]
    }
   ],
   "source": [
    "#Dictionaries are created with { }\n",
    "\n",
    "user_credentials = {\n",
    "    \"user1\": \"password123\",\n",
    "    \"user2\": \"123password\",\n",
    "    \"user4\": \"kodeord\"\n",
    "}\n",
    "\n",
    "print(user_credentials)"
   ]
  },
  {
   "cell_type": "markdown",
   "metadata": {
    "application/vnd.databricks.v1+cell": {
     "cellMetadata": {},
     "inputWidgets": {},
     "nuid": "a720f23c-3bbb-4f97-862c-93d3512227af",
     "showTitle": false,
     "title": ""
    }
   },
   "source": [
    "Question 25 : Create a Tuple with values 1, 10 and 30"
   ]
  },
  {
   "cell_type": "code",
   "execution_count": 0,
   "metadata": {
    "application/vnd.databricks.v1+cell": {
     "cellMetadata": {
      "byteLimit": 2048000,
      "rowLimit": 10000
     },
     "inputWidgets": {},
     "nuid": "28a84d10-c8ea-43db-9435-e7f2832ac2bc",
     "showTitle": false,
     "title": ""
    }
   },
   "outputs": [
    {
     "output_type": "stream",
     "name": "stdout",
     "output_type": "stream",
     "text": [
      "(1, 10, 30)\n"
     ]
    }
   ],
   "source": [
    "#Tuples are created with ( ) which can be seen below:\n",
    "tuple1 = (1, 10, 30)\n",
    "print(tuple1)"
   ]
  },
  {
   "cell_type": "markdown",
   "metadata": {
    "application/vnd.databricks.v1+cell": {
     "cellMetadata": {},
     "inputWidgets": {},
     "nuid": "88137be5-11a2-42a0-811a-afce8427b7a8",
     "showTitle": false,
     "title": ""
    }
   },
   "source": [
    "Question 26 : Print the first value in the above created tuple"
   ]
  },
  {
   "cell_type": "code",
   "execution_count": 0,
   "metadata": {
    "application/vnd.databricks.v1+cell": {
     "cellMetadata": {
      "byteLimit": 2048000,
      "rowLimit": 10000
     },
     "inputWidgets": {},
     "nuid": "569f7598-702b-4494-bb5e-7bab18016091",
     "showTitle": false,
     "title": ""
    }
   },
   "outputs": [
    {
     "output_type": "stream",
     "name": "stdout",
     "output_type": "stream",
     "text": [
      "1\n"
     ]
    }
   ],
   "source": [
    "#tuple is named tuple1 and the first value will start from 0. Putting that inside a print it will show the first value\n",
    "print(tuple1[0])"
   ]
  },
  {
   "cell_type": "markdown",
   "metadata": {
    "application/vnd.databricks.v1+cell": {
     "cellMetadata": {},
     "inputWidgets": {},
     "nuid": "eaaa3002-0355-414e-ad33-69231babf229",
     "showTitle": false,
     "title": ""
    }
   },
   "source": [
    "Question 27 : Will this work 'my_tuple[1] = 3' to the above tuple? Give reason"
   ]
  },
  {
   "cell_type": "markdown",
   "metadata": {
    "application/vnd.databricks.v1+cell": {
     "cellMetadata": {},
     "inputWidgets": {},
     "nuid": "3b4ab070-1d6f-4330-a700-98dc4528773c",
     "showTitle": false,
     "title": ""
    }
   },
   "source": [
    "Its trying to change the second value in the tuple to the number 3.\n",
    "\n",
    "This will no work since tuples in Python are immutable. This means that elements are unable to to changed."
   ]
  }
 ],
 "metadata": {
  "application/vnd.databricks.v1+notebook": {
   "dashboards": [],
   "environmentMetadata": null,
   "language": "python",
   "notebookMetadata": {
    "pythonIndentUnit": 4
   },
   "notebookName": "Day1 Assignment",
   "widgets": {}
  }
 },
 "nbformat": 4,
 "nbformat_minor": 0
}
