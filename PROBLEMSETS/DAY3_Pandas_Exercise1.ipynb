{
  "nbformat": 4,
  "nbformat_minor": 0,
  "metadata": {
    "colab": {
      "name": "Day4_Pandas_Exercise1.ipynb",
      "provenance": []
    },
    "kernelspec": {
      "name": "python3",
      "display_name": "Python 3"
    },
    "language_info": {
      "name": "python"
    }
  },
  "cells": [
    {
      "cell_type": "markdown",
      "source": [
        "Import the Pandas Library"
      ],
      "metadata": {
        "id": "O94e71H_h_PU"
      }
    },
    {
      "cell_type": "code",
      "source": [
        ""
      ],
      "metadata": {
        "id": "GtFDZjKmiHW1"
      },
      "execution_count": null,
      "outputs": []
    },
    {
      "cell_type": "markdown",
      "source": [
        "1) Create a dictionary with the data in the table below.\n",
        "\n",
        "\n",
        "![Capture.PNG](data:image/png;base64,iVBORw0KGgoAAAANSUhEUgAAASEAAAD5CAYAAABoB4PtAAAAAXNSR0IArs4c6QAAAARnQU1BAACxjwv8YQUAAAAJcEhZcwAAEnQAABJ0Ad5mH3gAAC3JSURBVHhe7X1BayNZlq5+hUALr8zLTeaqE7R4eKFNmQLXQgsnFF2gZgx6XiQFzRQEaDFNQbWYpER7FlH0YiBIq2CYByaSgeLhlBuRhRG8Mik/Q3a2A0HzKBKjWhRvEmOGJDHie/dG3CtFhEIKhaQbVwqdDz5IR9wIxzlxznfPuTcyMwcCgUDQCBIhAoGgFSRCBAJBK0iECASCVpAIEQgErSARIhAIWkEiRCAQtIJEiEAgaEUiEcrlckQikZiIcSARIhKJShkHEiEikaiUcSARIhKJShkHEiEikaiUcSARIhKJShmHzRChXQu9ATNg4MDaLUSPIRKJShiHpYhQwWjj1h0xwG27hkLEmMl8Aqv3gV37K9rG44jzS+Aai9Bivl0VFrBrOcwCZkXPwm7kOW7fP+Gz4Z9jbJXv9LYNoxBxfsU4eo8+3PXQtgyUIsZ79PtmkXe/rPvMxzgsQYQew2j/yqLrv3D3XywqEgcFidBkLurbFeLEd+B///999mQZEyF5nw/oWU/Gx2tmpAi5eI9uYy/yGqUilGJOxGFxESrU0L5l5vX+J454wkx1qiauqwitg29n5gSRGBOTebkmIjS0cw+N7nt+JKI6TIHZESGpsN6Ll44OOFUYO/h7G8dnPdy5d/qIXy6+w+8iZzDx8+D/on18ht4d9xT78ZcOjoyvcdz9hf0+jlv0XtREKSvv4cPgF3SPRam7liI0g29zj/C7xsuhj0aQVSU//wLdXz6K48zv3e9hlHT4QNrjtyE8Q0eMKRm+d84hbPO/08/+yRXrANx3/d9QMr732c+gqZocE6HCASzHfaOe7b48+f6C28vf+28jfRa2afBLFy8avwtUONPu81lEVTboHeMw8C6Czx2Mu2SMw4IiJAVDJLeYuQPJLoNlDCHRGft5Fshkm3RNRMCujQgt4lvP7sLBC9xEnF8koBbi2HuQ702+x7AIiXY0gKh3+tvx98+PR4mTbhEKY/AzXhw8iniXXAzkGpn0B7vPhHc65pchIu4TETeB43cXaLgTlfS/zM1o2+IYh8VESD708MWGBcU3hr0CxzpgCjsKLM+x4WvkzwPcOcesWmLK37jwKihW3VwcMcUvPMWLGz4TTHJO6J7yGfwJvOqM9e2kKkKel37+iJsXT72ZrXSELq+atPlhwnsZ2jhJhFjV27aCFdzYOw37h42Rwh27AKye4yLE4rvXhmXsemOG9tygXRPHJvqDVbTtr4U9sq0LVlTT7+P/ff5YkPcSPhz6T4oSH5OccVhAhEaGRWGysWGHhINnPJjGStmIhCwZFtq98Fwjzkc6fJWZ0LcByKpC+igC2vzgf/dR5X9EspRqeDF8rzxxX3hiNPZOI0TIjYsXvnbV38Kny/EYDjEyRiflinzHEWNmus+k3zd6Tj5uz/2z//3MxzgsIEJTgpxDGjdm7CTHLiBC8nfI8+FKaYLDV5ez+bbwu2M4/vUg/zrY8B6+SmgVOHxX/xsvXvFZfUpC+a8brg2FZ3z5TsfjZkT/Oor/96XH5YqQrxKasLY0/T6Tfh+/n2z7f0b3//w/NmBxf8VhfhEaBlPYqRMEYmisQhEaw6Rn8D/vCnIm3/4PUZpPChJfGxvCWIKnSmmDQMDGSbHhx6R3GhrLjx8ej8eFphhYjghNfqdja0tT7+P7fQKjmBiNdTHpeRMwDnOKkHzQqFItZPCYU8IOCQnK2M8ziBDfBTrq4BfpubseXrmz5qSA9T/vqnEO3/oRWP+I3j0bBZwOjmzwv+PwuWBsSLB26uzI21WNeKeBypDHymch/zDfnMldpJS5HBHix8LvdNLa0gz3sf4qBC0Ua8O4iorB5IzD/JUQUTNHC/xjWAuxJa4sZUu2pNY1DiRCa8twleDDgrsZxM1mbNWWkHEgEVpjFn53hLPAjiD/GPGHUWlOJCZmxKcdCzIOJEJEIlEp40AiRCQSlTIOJEJEIlEp40AiRCQSlTIOiUWo1+sRZ2AWfbXp75/iPzlJhDSSRCh7pPhPThIhjSQRyh4p/pOTREgjSYSyR4r/5ExHhK5aaNarKLJz/Hwut4NqvYnWlTM+doO4vIC9RKtZR7WYF/59gLJhTfHvjzDLW2LsiFuGjevI8bOT3yfqeCq8OoVZ3WHPUIRhX0WPUcx07Xdw2TxEPldi9r4eHXdewdx/gNxOHS3HP341yX0Wh8VE6OoEBk+O4iHM1qV7zOmc4Fn1E5TNH4NjI3htG9jSGFQqubSAvWyiulPFM7sDp/cWneaXruDnq01cRo13RejhTP5PSj0i5OCqZfpEeFNEiFHkV37fxLkrOMwXdo29/4eoNn8aH7+C5D6LwwIi9Aat+qfs2Keot974js9OEqE5eG3D2GLJOHEmzJoIcXseoFitw6r/g9Z4Sd/+tzg3vxhVQ2tWBXGqFSHnFPUdNjtNdQifxSwYLIj4tblcngWTyVoJNqObn4tjktkSo4CvlkkpQmUTnajzmROhEXVPWlrsF3nGq6EfT+vYCVVBXufB21Qvj/LlGp6LrsRt5c1D31JJ+hUU/71xmF+ERDJMbgsYA60EE6TTZyjn89ipn7KfqRJKTlmOP8C++cr14fiY8JoQF/46msPAnJ9qbJqdGylC7J17a0MPUSyy9+qf9KVAlZ/hlK8ROudoHjJBKtZgs5+dFhOt/Bcwz9+G7pkeuc/isLAIJVrwDF1DIpSQY2sEcfStp4jAjB43G0mENNkvu45QJRPlD/8xV4T4RpF5iitxPm2qFaGZ2rHwzo5HEqE5ePUD6rytLX6JZifJzCZn0sX9vHSbEnJjRah3BdsoIrdlwL6Wx64jljQkpY/eomObYjkkbldVDfnzxGF+Eeq9Zo4psWOTFqZl8PuUmCqh+Tgss5MKEKcM1vk3ECSXatMcJBHyi1Ayfzid5zjkVfS05RMFVCxCPsN8i2FOx4Zp7KNU/194HfjOgVVFz2so50ci5JWL67PdmIRLC1gpQBN7+5/QrD4cBui1XUOp+i1sV6xG7djsLdxkkgitlgh57fmW2OyJqXBkK581EeL0RKfMxEaWgr6PFZ0OTmryHF8g/b2bEMN1JJlg7vnFZ+pV4rIC1ks86Vs/ZTKKhWjRFk99HxH3T0J+v6jjaikScGiPZPpipMd+zgki5E4yTdR9u2Mu3XHhdo3nn5yc/PdQS/6747CwCBGjmZavnHMT+/nQV7WKuOnvn+I/OUmENDIdX/F1uU9QNE5S2f0gEaL4T0oSIY3Moq9IhCj+k5JESCNJhLJHiv/kJBHSSBKh7JHiPzmViBCRSCQmYRwSixBhNmTRV5v+/in+k4NESCNIhLIHiv/kIBHSCBKh7IHiPzlIhDSCRCh7oPhPjnRE6K6HtmWgxM7x87ncLgyrjd7dQAzYTKgP2Fv02haMUkH4vYCS8T26/Y/i/PKh3qYopG/nJKRr/wC37RoKuT00uu/FMYbBz7APHiG3a6G3Bik2i88SeXXshncXaPDgKNVg927dQ4P+BY6NMir2O/fnabjvNrCdKzEn34kj2YHygL3vorFn4LjbZ+E6wJ1zjEohh4LRZmmrBukmoYAGOychdftFfhUObNy4gsPs7x6xCf8xjPav7pBVh2IR+oCe9YQdewKr90EcSwYSoSWCJ+s2qxQqNvri0LKhRYTCSMHOSUjf/o+4sZ+OqqE1q4I41IrQwIG1y6qgqQ5hyt17iUaFOY5d65XSNmvVPqJvH4pjktkSo4CvlIO1LPyf8GCtcK19w7yuBunaFIV07JwELfaLPOPV0DvHwm6oCvI6j12RQ6xCrBzhTHQlI3/JHEu/gprFZ4m8GrihmJGmlsW3bRi74VK6gF3LcQOIKqHF4PlPBhgT+NoZ+gozMw2bopC2nZOgx365NvQYpdJ2cNKXAlU5hsPXYAc3aNeYIJWO0GU/D3pMtApPYd+kv34mMYvPEnk1cEMhQtuNLu7FoViEriERWhZYZXnxnbdWMlw/WD70JKEf6dg5Cdrsl11HqJKJyh//MVeE+EaR7UBXhqkVoZnasfDOhkcSIRVYfI0uDunbFAX1dk6CPvvv0G2UkNtuoDuc8e8jljQkZU4x0e7aYjnkESqNl6nvWvPniUMirwZv+J45Zo8dmxQMsoz0KTFVQgpBIqQa+uyPEqFk+TPon6HGd9pS3lVULEI+w3yLYYN+F3bjAHvW3/Cfge8cWFV0duSW0lKEvHJxfbYbk0B1wN53j7BnWGi7fucbALZbcWatHdNh5ySsmgh5W/jbYrMnxhlyuz9rIsThiU6FiY0sBX0fKw76uDiS5/jO2B/dABquI8mFNPd8+jObSigP2LGPRNWX28ptioIGOydBi/0uJoiQK8ptWL7dMZfuuHC7pucjT/6745DIq7PckOAhi77a9PdP8Z8cJEIaQSKUPVD8JweJkEaQCGUPFP/JQSKkESRC2QPFf3KQCGkEiVD2QPGfHEpEiEgkEpMwDolFKOpf1CeOM4u+2vT3T/GfnCRCGkkilD1S/CcniZBGkghljxT/yUkipJEkQtkjxX9yrrEIXcE2ishtGbCvo86vPkmEskcSoeRULkJOx4ZplJFnx3O5PIrVb2F33gbGzEcSIT+dzgmeVXfce7osHsJsXUaO7fV+hFneGo0V3DJsXEeOn538PlHH1fISrWYd1WJe2PIAZcNC68qJGKuWeuznlO+U5Zhxgqvh8Wt0zM/Z8c9hdq5941eH3GdxmF+EnFcw9x+whPgSTS48Tgf2s6r7N3oXDXYSIR+Fn/PlZzjliSf9nj9E8zIqEXnAPkTZ/DHi3GLUkoSXTVR3qnhmd+D03qLT/BJF9hz5ahOXUeMVUr8IMRHOfwHzXE70my5C1zaMreXMsOMkEZJ0WnXs5B6i2vxp6rERMyZCYYq4y+3U0XIiziukPvuFCBU/Q5lVhPl9E+eu7VQJiRl5H/XT8dbg2jawldtB9ZuvUM6LtiDQRji4alkwyuwe/JzbzpmizA6J0NUPqPNxxRps9zybEe1vV6JEn8SAr+bmhCDj1QHzafQEsCEiVDbRiTqvkPrsFyJU/hNOzC+Qz5Vg2K/Z8fH4CC6RMObLMJ63fC1cuuTPEIf5RYjR6TzHoSsEXEC+wZ/dktk754kQc4IUnqsTGHysnMECZTYTpNNnTKzy2Kmfsp99IvTaE6B8+Q84EetNXiXAhKf+g+tc7zm2Qv2yXi4nYN+gVf+U3SskQlOrUF/p7pK/mzqaE9eQZudybFqELE7sGmvHHmDffDWMtbSoz34pQkx4nVPUd2QehURI5NgoVy5xWt9ngqTHX5zcZ3FYSIQ88oXDfxEVzUgYPBEqMsW+EuNEQk1qsQKJJUQo/wnKn/nWQ9yxUa3a6rVvywlYYVciEfKTV5umVzEOq8iocbNRuwjJJBu2I+lyJUQoIMR/wblPhLycC7XpUrQ0VI6cKYmQoHOO5iHfwfE7xC9CQrWHQhHe9fAYFKHfoPibcNCFZ3ofMydC09oxWTX6x0fRwWXzkM2G/ncxH5dj05wctuRiIyRqjGLqs98vQuzn4abQVzBZpePFx5voWAlfmzK5z+KwPBEaJsynqLfexIiQTIwdVM1Tr4WKqoS2vkLzB69NG7Vaq1f1RHFZARs1u01fmA4z+F6ix8xGbUkoJziNAsS5MiLE6MXAForFh+y5uPC8jZ5sRCWkYzeRU6kI8eR4UDZginUgp/PvqPGZSqz5zCZCcoGNVUXPa+4CdlCE+Fi5LSv7WlmO+gRsBbm0gB32+aIlHVuk/wnNKgtEIcrX/H/cHH6vNWrHltHCaElCKUCBrWk9XCUR6vVesxwpuc80rH7CsTJcE5J55r9nOuTPF4f5KyH+XZBpjHa++HqQYQ4/Voxtx9j1JzX/h46/d5NlXIT4tWFnTmvlxPNpZsBXC5ELSXgX0f9RqAhQIf5juyNcrOvNpewcLs+m2enF0egdj7h4e5mUOuz3GN1SDTeGht+MhWOFsSg3f/z3S4/8GeIwvwgRpzItXznnJvbz6cx0m/7+Kf6Tk0RII9PxFS/JP0nt0wQSIYr/pCQR0sgs+opEiOI/KUmENJJEKHuk+E9OEiGNJBHKHin+k1OJCBGJRGISxiGxCBFmQxZ9tenvn+I/OUiENIJEKHug+E8OEiGNIBHKHij+k4NESCNIhLIHiv/kIBHSCBKh7IHiPzkUi9A9+vahe8zPQqUBu9vHQIzaVAR9pQK36LUtGKWC8P0jVBov0btT53n1NkUhbGcBJeN7dPsfxfn0kK79A9y2ayjk9tDovhfHGAY/wz54hNyuhd4aJNksPkvk1eANpQgdwu7fe4fuejhrVJjjHuHA/nmjhUh5wN62YewaOHYF/yP67a9RYr+zYLRZ2qpBukkocN9FY0/aOcCdc4xKQa2dk5C6/XcXaDDxLRzYuHGTidnfPWLv+TGM9q/ukFVH+iLk4j26jT3kCk9h36Q/W60KUg9YnqzbrFJQOENqEaEwpJ0VG31xKC2kb/9H3NhPR9XQmlVBHJpEiPmqZ2E3t42K/U4c6KNrN9wZjN9jrHXg548Ndyb3zgtqCLRlIeirFJBCcqZu0xhYa8b/vaTcLmrtm9QrbS32DxxYu1419M7heRWsggb9Cxwbu8OcKVSOcNaTNaL0l8yp9CuoWXyWyKvBG04WIXYCFTZ2u9Flo2RlVMHRRaikdsvMUO+7hmofhVmcvzzIMl1tG5yuTSPcdxvYZr/bS6QCSrUz9DXEhh77ZX48Rqm0HcwLKVCVYzh8Qh/coF1jglQ6Qpf97BYDmjuSWXyWyKvBG8aJUAG7loOBmKGDPfwH9Kwn4louUiXkthvoureZct81QqoBO7Z2oAZ6ktCPj+hffOebwMThlKDNfiE24UrGE+cSm7zvxJHgMa8j2YVhOxiNSBfaRMgzXjjMFSRfa+bCf+1HT+kLB7AcJlNUCSXD3V9hVZi/Sl+jrXjHSL8IccgJ7Ams3gdxLB3os/8uNFFzyBySFaKfUpiYaHdtNHh8pLB7GgX+PHFI5NXgDSeJkGy/amjfMoP5Lg6bubzWTEIEkjvmg1h8Gzkx2NeuJ2Zx/sIYlt/qBYgjFZtiQSIkEVUJTcKgf4Yar5ZT3lWcxWeJvBq8YYQIRW7RS1ESlc5wTYj19o0L5t53sCvbWrZcVUJ5wEoBSrHn15GE990j7BkW2u6kxGKnZ7vfDG1UOzZBhLw2fBslw46vcGTLnk0R8peB/EOyf8V/hD9WHIqTHMf61OMLsbgoF97C99HzQdqywO1QieBirZ+zzYzzQLVNkWCx07b8O6d62goOLfa7mCBCrii3Yfl2x1y648L5qSen+O+OQyKvznLDxHAX3Zia+3c8NKn2MqHEV5qRRZuSYNPtnwfrIULumpF/21WW3EyY3HZtPUEilD2QCCXHeoiQu4L/ve/vBnGyds1qaym5l4UsBmwWbUqCTbd/Hszis0RepZcwO0iEsgeK/+QgEdIIEqHsgeI/OZSIEJFIJCZhHBKLUNR/60EcZxZ9tenvn+I/OUmENJJEKHuk+E9OEiGNJBHKHin+k5NESCNJhLJHiv/kJBHSSBKh7JHiPzkVi9A1Oubn7jE/82UDpt2B43uQTWTQVyr4I8zy1pj/twwb15HjF6d6m6J4iVazjmoxL2x8gLJhoXXlRIxVSz32c8p3nUfROMHV8LjMwc9hdq5941eH3GdxWIII+Rxw1cJzo4w8C5R989VGC5H6gOWB+RBl88eIc2qoJQkvm6juVPHMndjeotP8EkX2HPlqE5dR4xVSvwgxEc5/AfP8rThOIjTBAa9hG6WQszaP6gN2Q0QozGsbxhZLxp06Wk7EeYXUZ78QoeJnKLOKML9v4ty1nURoogOcVh07ua1Rgjgd2KaBcl62DaGSmp9/VnVnOO+8YNlEx3ffdWLQVyq44SKkITb02S9EqPwnnJhfsE6jBMN+zY6P56DTsWG63YjIoXwZxvOWr4VLl/wZ4qBEhHodE2U21lufkJVRGbUTXlI7uDp95gqSp+gOLpuHI8c6r2DuP9Ay0y2T6gPWV6K7zKNYraPZuowYuxyqtymOLHbsGpus9LT7+uyXIsSE1zlFfScv8iOUg1cnMHilVP4DTjq8C7nEaX1f6/II91kcFIpQHjv1Uzhi5gr28G/Qqn8qruUiVURuy4B9zc9Nue8aMd2AZcnZMr3F22INtqJFW+0iJJNs2I6ky5UQoYAQ/wXnvly5tg1s5R6i2vxpdK0ULU1dhTYR8tox4QxXkHyt2di1b71KKL+P+imbxakSmpOyoiyyivIq4vzi1CpCVz+gXmZxUfwSTXeWjxijmKshQuxnmSPFr2CySsfLozcT8jF0bcrUJEKy/TpE85LNyHx3g7Vewa1jUQm5Y94wNed9rmwr+DZ/Dc8VthVpMP2Ale/jU9RbbyLOL870bRJ0ztE83NEqQJza7I8QErnuWiw+ZM/lm8zDk5CohHTsJnJyn8VhuSIUuUUvRUlUOsM1IfnNg+dgXU5SRdUBe83/Z83qt7DdpBy1YypbFS1JKAVoBXZbV0mEhnnFnmmYg8M1oWc4dVtyuSYkF7L990yH/PnisAQRGlUw3uLoN/hz+GPFoTjJcTuoPjtBx00W2UaE7yMTzHefNSK3I+r4sji2C8J9Wm8q/YhPtU1R9NY5/LEhqa7tnEQd9nuMbqmcznMc8nVA2XW4k5EFg7et0k9F+Y2V/37pkT9DHBYQoSXRLRdZWXn4XIgSo1T0Na6O9AWsOmbRpiTcdPvn4XqIkLtmxCqfoQjJ1oIJU+AT9fUiiVD2SCKUnOshQvxTfPtb398N4lTfWqhmFgM2izYl4abbPw+5z+KwAiKUTZIIZY8U/8lJIqSRJELZI8V/cioRISKRSEzCOCQWIcJsyKKvNv39U/wnB4mQRpAIZQ8U/8lBIqQRJELZA8V/cpAIaQSJUPZA8Z8c6YjQXQ9ty0CJnePnc7ldGFYbvbuBGLCZUB+wt+i1LRilgvD7I1QaL5X6Xb1NUQjbWUDJ+B7d/kdxPj3osZ/jHezKtmd74wJ34ihwj759yI4fwu7fi2OrhVl8lsirYze8u0CDB0epBrt36x4a9C9wbJRRsd+5P0/DfbeB7VwJje7IrVmB8oC9bcPYNXDc7WOAj+i3v3YngoLRZmmrBlqS8L6Lxp60c4A75xiVglo7J0G/CDERLjyFfSMFeONF6AN61hN27Ams3gdxLBlIhJYInqzbLEh3LfQUFUP6ktAHaWfFRl8cSgv67BciVPotKmzSLxzYuHHf8aaL0MCBtcuqoKlBz2au3ks0Ko/ca71S2mYtA5u5XefxY5LZEqOAr9JACsmZuk1jYK0Z/ydMWMtfa9+w6EoX+uwXIlT5N1zYT1HI7bFcec+Oj4vQoN+F3aiwMSKvChU0znq+Fi5dzOKzRF4N3FAE/dSyONAyyFK6gF3LcQOIKqFlgfm2e8SS8xEO7J+VJaeuJPTiRE5WbCKrnaGftgIx6LJ/JEJsgglM/iEREssjhcp3uHDXzG7hWAdMkNTGxTTM4rNEXg3cUIjQdqPL9HhGhK4hEVoSZPANy3Q10JeEEqyCvvjOWxNSbGsUVkKEAhPO33HjEyEvnx7DaP8qrmOQoqWhfeVQK0IztWPhnQ2PJEJLxN1fYfF2t/Q12op3jFKzaSoWX4ucF/rs94sQw+Bn2Af8nf8zbFbpeCL0YcL6UOjalDGLzxJ5NXjD9+g29tixScEwYN1YjZWCuzBsx+tJqRJaLgY3aNd2UxEgDhIhXfaPC8mgZ2E3t41S6TF7Li48H0W+hfJJFAs6dhM5FIsQs69/hprbgx7hbLhFzxfGDrBn/Q3/6TpFLqKxqujsyC2lpQh5jgyVjxmB8oCVAhTYslULHUl4z1qPPcNC240vvtFhu5X15rZjErII4N1FeE3oGI77vZhcE5I5mD5m8Vkir0bdcGw13v+x4qCPiyN5ju+M/dENoOE6kkwk93z6M5tKzOL8RRBcrPVTXWWp2qZIjH0Mq/6jzEnQYr+L6JZKFgG5Qg3tW+6P8G40Y0luDOnBLD5L5FV9L2H9kEVfbfr7p/hPDhIhjSARyh4o/pODREgjSISyB4r/5CAR0ggSoeyB4j85SIQ0gkQoe6D4Tw4lIkQkEolJGIfEIhT1L+oTx5lFX236+6f4T04SIY0kEcoeKf6Tk0RII0mEskeK/+QkEdJIEqHskeI/OddYhK5gG0XktgzY11HnV58kQtkjiVByKhchp2PDNMrIs+O5XB7F6rewO28DY+YjiVAkL5uo5rmvizDsq+gxvR9hlrfc3+/nlmHjOnL87FRi06y8OoVZ3WHPMM12tdRnv3ynLMeME1wNj1+jY37Ojn8Os3PtG7865D6Lw/wi5LyCuf8AueKXaHLhcTqwn1Xdf7510WAnEYria+aTknvfeBF6iLL5Y8S5xagnCR1ctUxUi/kZbFdLPfZz+iaW/Bcwz+VEv+kidG3D2FrODDtOEqEwnVYdO7kSfm9UsLVRIsTtecCq7Dqs+j/E2K6WeuznFCJU/AxlJsb5fRPnDj9OlZBXCeX3UT+9DPxizmvbYAGzg+o3X6HsthCMxUOYLTmWz3AWDBZg7jm3nTPRunLYuZAIXf2AOh9XrMF2z79Fx/7WNzs+QNmwxLXB59DFgK8WpfB1vtrEhevXTRKhEb2Y2mARKv8JJ+YXyLPJyLBfs+PjIhRcImHMl2E8b/lauHTJnyEO84sQo9N5jkNXCLiAfIM/2x044pwXMD7huTqBwcfu1NHiKs7XN3aqeOZewwTp9BkTqzx26qfsZ58IvfYEKF/+A07EepNXFTDhqf/gOtd7jq1Qv6yXywtY5hu7hqIow+MTUQQs971L/m7qaA7Ff34uz6b5SCJkouOcor4j8ygkQiLHRrlyidP6PhOkB9g3Xw1zM01yn8VhIRHyeIlW819ERTMShvGAeYNW/dPJLVagvRMilP8E5c+4AD3D6bDKiWrVVq99W1rAuoE1EthkiehbTxlWkVHjZiOJ0AqIkJyUXGH5C859IuT55yGqzZ9G10rRcq/13zMdpiRCgs45mod898LvEH/ACNUeCgUXr7qvpfIYFKHfoPgbfw/MGZ7pfcycCL1lQcbK7/whmpeegCRPRAeXzUM2Gy6evMuxaX6SCAkhGW4KfQWTVTpezr2ZsD4UujZlcp/FYXkiNOxPP0W99SZGhGRi7KBqnnotVFQltPUVmj94bdqo1Vq9qieKywnYKYLLOVNgBd9L9JjZyH9n1PG0SCI0et/ekgSrkIsP2XNx4XkbPdmISoivJ17KYymS+ywOc4sQD4gHZQOmWAdyOv+OGm/JxJrPbCIkF9hYVfS85i5gB0WIj32LTvNLUX7yvlaWoz4BW0GqCthxv/6EZpUFohDla/4/lA6/1xq1Y8Fqcj6SCK2OCAU/2RDVz3BNSC5fyDUhmWf+e6ZD/nxxmL8S4t8FmcZo54uvBxnm8GPF6SLkXX9S83/o+Hs3WcZFiF8bdua0Vk48n2YGfLVEjvtVBKgQ/7HdES7W9eZSdg5V2TSdIhaG9kimL0Z67OeMbqmGG0PDdp1POv4dZ8ai3Pzx3y898meIw/wiRJzKtHzlnJvYz6cz0236+6f4T04SIY1Mx1e8JP8ktU8TSIQo/pOSREgjs+grEiGK/6QkEdJIEqHskeI/OUmENJJEKHuk+E9OJSJEJBKJSRiHxCJEmA1Z9NWmv3+K/+QgEdIIEqHsgeI/OUiENIJEKHug+E8OEiGNIBHKHij+k4NESCNIhLIHiv/kSEeE7npoWwZK7Bw/n8vtwrDa6N0NxIDNhPqAvUWvbcEoFYTfCygZ36Pb/yjOLx/qbZqCOwe2scueoYRG904cTBfp2j/AbbuGQm6P2fteHGMY/Az74BFyuxZ6a5Bis/gskVfHbnh3gQZPglINdu/WPTToX+DYKKNiv3N/nob7bgPbGoNKJZQH7H0XjT0Dx90+C9cBy9FjVAo5FIw2kyc10CNCzLae7RPbTREhBpFfhQMbN67gMF90j9iE/xhG+1d3yKpjFp8l8mrwhh/Qs56wY09g9T6IY8lAIrREcFHaZklasdEXh5aN1G1y8Q525RGr8iy8tP5Ra7ykb/9H3NhPR9XQmlVBHGpFaODA2mWz01SH8FnsJRosiPi1Xstgs1btI/r2oTgmmS0xCvhKOVhrxv8dIdYK19o3zOtqkK5N49A9aWmxX+QZr4beORZ2Q1WQ13nwNtXLo0LlCGeiKxnFhcyx9CuoWXyWyKuBG4qZd2r5f9uGsRtuGQrYtRw3UagSWgye/2SAMYGvnaGvcIZMw6Zp2EgRYpnirQ09Rqm0HZz0pUBVjuHwNdjBDdo1JkilI3TZz4MeE63CU9g36tYJ4zCLzxJ5NXBDIULbjS7uxaFYhK4hEVoWWGV58Z23JjRcP1g+SIQ02S+7jlAlE+UP/zFXhPhGke1AV4apFaGZ2rHwDo5HEiEVWHyNLg7p2xTExooQk5Buo4TcdgPd4Yx/H7GkISl9xCanri2WQx6h0niZ+q41f544JPJq8IbvmWP22LFJQS/LSJ8SUyWkECRCqqHP/igRSuaPQf8MNb7TpnD3NAqKRchnmG8xbNDvwm4cYM/6G/4z8J0Dq4rOjtyWQYqQVy6uz3ZjEqgO2PvuEfYMC23X76NtbGrH1GHVRMjbwt8Wmz0xL11u92dNhDg80akwsZGloO9jxUEfF0fyHN8Z+6ObKMN1JLmQ5p5XN4PrgPKAHftIVH25rdymSIgEHNopmb4Y6bGfY4IIuZNPG5Zvd8ylOy7crqn/mDUK/HfHIZFXZ7khwUMWfbXp75/iPzlIhDSCRCh7oPhPDhIhjSARyh4o/pODREgjSISyB4r/5CAR0ggSoeyB4j85lIgQkUgkJmEcEotQ1H/rQRxnFn216e+f4j85SYQ0kkQoe6T4T04SIY0kEcoeKf6Tk0RII0mEskeK/+RULELX6Jifu8f8zJcNmHYHju9BNpFBXy2f17aBrZDvPW6hbP4Yec2iVG1TNC/RatZRLeaFfQ9QNiy0rpyIsWqpx37OH2GWt9jvz6NonOBqeFzm4OcwO9e+8atD7rM4LEGEfA64auG5UUaeBcq++WqjhSj9gHVw2Txkvv8U9dabiPOLU0sSXjZR3animTuxvUWn+SWK7Dny1SYuo8YrpH4RYiKc/wLm+VtxnERoggNewzZKIWdtHlMPWOcU9Z088vsmzp2I80ugviT08dqGscWScaeOliI7J1Gf/UKEip+hzCrC0TsmEZroAKdVx46/LXA6sE0D5bxsGUIlNT//rOrOcN55wbKJju++68Sgr1TTwZVdY/57iGrzp4jzy2G6Nk2gFCENsaHPfiFC5T/hxPyCVbslGPZrdnw8B52ODdPtRkQO5cswnrd8LVy65M8QByUi1OuYKLOxW4aN62FlVEbthJfULGFOn7mC5Cm6bCOEY51XMPcfaJnplsl0A/YnNKsPlftMXxJKSrHV0+7rs1+KEBNeUfF67zqUg1cnMHilVP4DTjq8C7nEaX1f6/KIZhHKY6d+CkfMXMEe/g1a9U/FtVykishtGbCv+bkp910jphmwXuWpPtC0i5BMMoUt5zSuhAgFhPgvOPflirdZEaqGpWhp6iq0iZCXFMIZriCFd2z81771KqH8Puqnl1QJJaaogvKHaF6q3THSKkJXP6BeZnFR/BJNd5aPGKOYqyFC7GeZI8WvYLJKx8ujNxPyMXRtytQkQrL9EknBdzdY6+W1ZnKMqITcMW+YmvM+V/SwjPlyDc9bTJCG49ePaQWsc25iPx/eulXDtGwao3OO5uGOVgHi1GZ/hJDIdddikU1A/sk8V4RhX42ulRsWGnYTObnP4rBcEYrcopeiJCqd4ZqQTBzPwbqcpIrpBKxsa9Vty/upJQmlAK3AbusqidAwr9gzDXNwuCb0DKfupo9cE5IL2f57pkP+fHFYggiNKhj3Y6rqN/hz+GPFoTjJcTuoPjtBx2235MJ0+D7fwtY46y1KbkfU8aVSVJlpCXgqNoU4+aPM0IyfAnXY7zG6pXI6z3HIP+IctuJsgm9ZMHjbKv1UlN9Y+e+XHvkzxGEBEVoS3XKRlZWHz4UoMUpFX+PqSF/AqmMWbUrCTbd/Hq6HCLmzOat8hiLE1dxEtciEKYV1DlUkEcoeSYSScz1EiH+Kb3/r+7tBnKxdqze1/P2gZTGLAZtFm5Jw0+2fh9xncVgBEcomSYSyR4r/5CQR0kgSoeyR4j85lYgQkUgkJmEcqBJSxCz6atPfP8V/cioRIcJsyKKvNv39U/wnB4mQRpAIZQ8U/8lBIqQRJELZA8V/cpAIaQSJUPZA8Z8cikXoHn370D3mZ6HSgN3tYyBGbSqCvlKBW/TaFoxSQfi+gJLxPbr9j+L88qHepim4c2Abu+wZSmh078TBdKHP/newK9veO25cYGS9zMFD2P17cWy1MIvPEnk1eMMIB9z1cNaooJB7hAP7540WIuUBe99FY8/AsSv4A5ajx6gU2CRgtJk8qYGeJGS29Wyf2G6yCDH7C09h38iJhkRoggPeo9vYCzlr85B6wHJR2mZBWrHRF4eWDT1JyBPwEavyLLy0/hHbmyxCpd+iwsS4cGDjxp3hSYQmOmDQs7Cb20bFficO9NG1G+5Mze+RY5VSpfESvTtRK/HzxwZK7jkfFSaUagR9pRqsNbNrzH+7qLVvlFWg6do0jvtuY7NFqPJvuLCfsk5jj/ngPTs+noODfhe2242IHCpU0Djr+Vq4dDGLzxJ5NXjDKSrct1FhY7cbXTZKVkYVHF2EWgdX0Qe4bddGjh38DPvgEXK7Fnpr3M+lEbBeUkrRLqBUO0Nfoc/SsGkaSITYpDxwYO2y1tTNj1AO3l2gwSulyne4cNcGb+FYB1qXR2bxWSKvBm8YJ0IF7FoOBqJNCK5VfEDPeiKu5SJVQm67ga57myn3XSOkG7Af0b/4zifs4vCSQSKky36fCPFJvHvEql4uLH/HjS9XPP88htH+VVzHIEVLU1ehTYS8dkw4wxUkX2vmwn/tR68SKhzAcphMUSU0J6SwP4HV+yCOLRckQrrs94sQg8yR0j/DZpWOl0cfJuRj6NqUoUmEZPtVQ/uWqchtGwabob3WTEIkjDvmA1Nz3ufKtoJv8x/hrKdqjycdpB+wJEKqoc/+cSGR666l0mP2XL7JPOwfUQmp3DWdhll8lsirwRtGiFDkFr0UJVHpDNeE5DcPnoN1OUkVVAfsPSvJ9wwLbVesR9vY1I6pwyqJ0DCv2DMNc3C4JnQMx930kWtCciE7fczis0ReDd5QitCogvE+mPtX/Ef4Y8WhOMlxuzCOL8QiqlyYDt9H7Yd3qsHtUArm07bl31EM7TgqgHKbInHnrRkO7ZRMX4z02M8R3VIN+meo8e+nZNfhTkYv0aiwVk36qSS/JdODWXyWyKtKXoJbLrKy0r+zIxV9jasjfQGrDlm0KQk23f55sB4i5K4Z+beXZWvBhCnwifp6gUQoeyARSo71ECG+vdz93vdZPidr16y20tZCNbIYsFm0KQk23f55MIvPEnmVXsLsIBHKHij+k0OJCBGJRGISxoFEiEgkKmUcSISIRKJSxoFEiEgkKmUcEokQgUAgLBskQgQCQStIhAgEglaQCBEIBK0gESIQCFpBIkQgELSCRIhAIGgFiRCBQNAKEiECgaARwP8HJErR/gKljcEAAAAASUVORK5CYII=)\n",
        "\n",
        "Also create a list with the labels below.\n",
        "labels: a, b, c, d, e, f, g, h, i, j"
      ],
      "metadata": {
        "id": "LFCb-pmGhwau"
      }
    },
    {
      "cell_type": "code",
      "source": [
        ""
      ],
      "metadata": {
        "id": "_AgABz-NjBQm"
      },
      "execution_count": null,
      "outputs": []
    },
    {
      "cell_type": "markdown",
      "source": [
        "2) Create a dataframe with the above dictionary that has the above labels as index"
      ],
      "metadata": {
        "id": "Dg_QeHMPjCoE"
      }
    },
    {
      "cell_type": "code",
      "source": [
        ""
      ],
      "metadata": {
        "id": "_jZEifUCjWYr"
      },
      "execution_count": null,
      "outputs": []
    },
    {
      "cell_type": "markdown",
      "source": [
        "3) Get a summary of the basic information for this dataframe and the descriptive statistics of it"
      ],
      "metadata": {
        "id": "hKb2Z1tTjXHz"
      }
    },
    {
      "cell_type": "code",
      "source": [
        ""
      ],
      "metadata": {
        "id": "aiTBnSaMjhIj"
      },
      "execution_count": null,
      "outputs": []
    },
    {
      "cell_type": "code",
      "source": [
        ""
      ],
      "metadata": {
        "id": "Jp6gmas5Ox5n"
      },
      "execution_count": null,
      "outputs": []
    },
    {
      "cell_type": "markdown",
      "source": [
        "4) Get the first 4 rows of this dataframe"
      ],
      "metadata": {
        "id": "GjEX2iSZjhSr"
      }
    },
    {
      "cell_type": "code",
      "source": [
        ""
      ],
      "metadata": {
        "id": "61ejq42Erejy"
      },
      "execution_count": null,
      "outputs": []
    },
    {
      "cell_type": "markdown",
      "source": [
        "5) Get only the Animal and priority columns of the dataframe"
      ],
      "metadata": {
        "id": "Xcl-FUbBre3b"
      }
    },
    {
      "cell_type": "code",
      "source": [
        ""
      ],
      "metadata": {
        "id": "OIaRkYlQroFw"
      },
      "execution_count": null,
      "outputs": []
    },
    {
      "cell_type": "markdown",
      "source": [
        "6) Select the data from rows 4,5 & 6 and display only the animal and visits column"
      ],
      "metadata": {
        "id": "27aaqeekroUY"
      }
    },
    {
      "cell_type": "code",
      "source": [
        ""
      ],
      "metadata": {
        "id": "dLFqv-jRsB7x"
      },
      "execution_count": null,
      "outputs": []
    },
    {
      "cell_type": "markdown",
      "source": [
        "7) Get only the rows where the age is greater than 2"
      ],
      "metadata": {
        "id": "cvYe55F_sCH-"
      }
    },
    {
      "cell_type": "code",
      "source": [
        ""
      ],
      "metadata": {
        "id": "IVUxEZQssNRg"
      },
      "execution_count": null,
      "outputs": []
    },
    {
      "cell_type": "markdown",
      "source": [
        "8) Get the rows where the animal is a dog and the age is greater than 3"
      ],
      "metadata": {
        "id": "at-LhgpnsNgP"
      }
    },
    {
      "cell_type": "code",
      "source": [
        ""
      ],
      "metadata": {
        "id": "RM-3sVAzsitR"
      },
      "execution_count": null,
      "outputs": []
    },
    {
      "cell_type": "markdown",
      "source": [
        "9) Get the rows where the age is between 3 and 7 (both included)"
      ],
      "metadata": {
        "id": "jlr2yaYQsjAG"
      }
    },
    {
      "cell_type": "code",
      "source": [
        ""
      ],
      "metadata": {
        "id": "EOjrUQxvsuHm"
      },
      "execution_count": null,
      "outputs": []
    },
    {
      "cell_type": "markdown",
      "source": [
        "10) Get the row where the age is 4.5 and change it to 5"
      ],
      "metadata": {
        "id": "mUyNUwVws1IH"
      }
    },
    {
      "cell_type": "code",
      "source": [
        ""
      ],
      "metadata": {
        "id": "iwlBaQyps6vY"
      },
      "execution_count": null,
      "outputs": []
    },
    {
      "cell_type": "markdown",
      "source": [
        "11) Loop through each row and print the animal and visits if the visit is smaller than 2"
      ],
      "metadata": {
        "id": "uiPeEB-S5zZb"
      }
    },
    {
      "cell_type": "code",
      "source": [
        ""
      ],
      "metadata": {
        "id": "yO48nKJW52Ir"
      },
      "execution_count": null,
      "outputs": []
    },
    {
      "cell_type": "markdown",
      "source": [
        "12) Calculate the total number of visits"
      ],
      "metadata": {
        "id": "w-uRmUSh52mr"
      }
    },
    {
      "cell_type": "code",
      "source": [
        ""
      ],
      "metadata": {
        "id": "jU0aAz305-mC"
      },
      "execution_count": null,
      "outputs": []
    },
    {
      "cell_type": "markdown",
      "source": [
        "13) (Bonus) Calculate the mean age for each of the animal type (Hint: use groupy)"
      ],
      "metadata": {
        "id": "j5vzF2bds7Ah"
      }
    },
    {
      "cell_type": "code",
      "source": [
        ""
      ],
      "metadata": {
        "id": "eyX18yKrtEku"
      },
      "execution_count": null,
      "outputs": []
    }
  ]
}