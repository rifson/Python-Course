{
  "nbformat": 4,
  "nbformat_minor": 0,
  "metadata": {
    "colab": {
      "provenance": []
    },
    "kernelspec": {
      "name": "python3",
      "display_name": "Python 3"
    },
    "language_info": {
      "name": "python"
    }
  },
  "cells": [
    {
      "cell_type": "markdown",
      "source": [
        "Question 1 : Create a string named str_var and assign the value 'ML is awesome' to the variable and print the variable\n",
        "\n",
        "```\n",
        "# This is formatted as code\n",
        "```\n",
        "\n"
      ],
      "metadata": {
        "id": "xM4N2608TeVM"
      }
    },
    {
      "cell_type": "markdown",
      "source": [
        "Question 2 : Print the second last element of the above created variable"
      ],
      "metadata": {
        "id": "jloQAvhHTxWY"
      }
    },
    {
      "cell_type": "markdown",
      "source": [
        "Question 3 : Perform #Addition operations on strings mentioned below and print them with and without space\n",
        "a = \"tom\"\n",
        "b = \"haverford\""
      ],
      "metadata": {
        "id": "nYEFQDiTUavQ"
      }
    },
    {
      "cell_type": "markdown",
      "metadata": {
        "id": "hjBYdlaNxUVV"
      },
      "source": [
        "**Question 4**: Write code to ask the user to enter 3 numbers (a,b,c) and then these values are passed on to a function called **find_largest(a,b,c)** which does some comparison operations (using python comparison operators) between these three numbers and print the result"
      ]
    },
    {
      "cell_type": "markdown",
      "source": [
        "Question 5 : Create a class named car to store the information model,manufactures and year"
      ],
      "metadata": {
        "id": "ttn8qNcwFJB2"
      }
    },
    {
      "cell_type": "markdown",
      "source": [
        "Question 6 : Create an object of the class and print informations mentioned in the above question"
      ],
      "metadata": {
        "id": "uTLCHxWjFX13"
      }
    },
    {
      "cell_type": "markdown",
      "metadata": {
        "id": "HUz42uzjVF6T"
      },
      "source": [
        "**Question 7**: Write a python class called \"Employee\" with four attributes - name, base_salary, bonus, travel_allowance, with a parameterized constructor to initialize these values and another function called print_total_salary which just adds up the base_salary with bonus and travel_allowance and prints it.\n",
        "\n",
        "After you define this class, create two or three objects of this class type, say emp1, emp2 and emp3 like this -\n",
        "\n",
        "```\n",
        "emp1 = Employee(\"Tom\",1000,300,100)\n",
        "emp2 = Employee(\"Dick\",2000,600,100)\n",
        "emp3 = Employee(\"Harry\",500,100,50)\n",
        "```\n",
        "\n",
        "And then print the total salaries by accessing the print_total_salary method -\n",
        "\n",
        "```\n",
        "emp1.print_total_salary()\n",
        "emp2.print_total_salary()\n",
        "emp3.print_total_salary()\n",
        "```\n",
        "\n",
        "\n"
      ]
    },
    {
      "cell_type": "markdown",
      "source": [
        "Question 8: Create a One-dimensional array of size 9 with a range of 15 random elements. Create a Two-dimensional array with 3 rows and 4 columns inside the range of 15 random elements. Create a Three-dimensional array of 3 arrays with 4 rows and 5 columns with a range of 15 random elements."
      ],
      "metadata": {
        "id": "NEbflxkuC6-3"
      }
    },
    {
      "cell_type": "markdown",
      "source": [
        "Question 9 : Write a code to print the values stored in an integer list but use excemption handling in case the user tries to print a value from a position in the list that does not have a value"
      ],
      "metadata": {
        "id": "ljIf4fEVETxm"
      }
    }
  ]
}