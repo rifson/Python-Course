{
  "nbformat": 4,
  "nbformat_minor": 0,
  "metadata": {
    "colab": {
      "provenance": [],
      "toc_visible": true
    },
    "kernelspec": {
      "name": "python3",
      "display_name": "Python 3"
    },
    "language_info": {
      "name": "python"
    }
  },
  "cells": [
    {
      "cell_type": "markdown",
      "source": [
        "Question 1: Are the rules for naming variables followed\n",
        "\n",
        "price\n",
        "\n",
        "1price\n",
        "\n",
        "_price\n",
        "\n",
        "Price\n",
        "\n",
        "\n",
        "Incorrect : 1price\n",
        "\n",
        "\n"
      ],
      "metadata": {
        "id": "IeFa2Xc2VuZo"
      }
    },
    {
      "cell_type": "markdown",
      "source": [
        "Question 2: Are the rules for naming variables followed\n",
        "\n",
        "_age\n",
        "\n",
        "age_\n",
        "\n",
        "age_*\n",
        "\n",
        "+age\n",
        "\n",
        "\n",
        "Incorrect\n",
        "age_*\n",
        "\n",
        "+age\n"
      ],
      "metadata": {
        "id": "-N3BZvATXeHU"
      }
    },
    {
      "cell_type": "markdown",
      "source": [
        "Question 3 : variable and Variable are different?\n",
        "\n",
        "variable = 3\n",
        "\n",
        "Variable = 4\n",
        "\n",
        "Yes, as python variables are case sensitive"
      ],
      "metadata": {
        "id": "4Xln_dUVYQdh"
      }
    },
    {
      "cell_type": "markdown",
      "source": [
        "Question 4: Student 1 tells to student 2 that arithmetic operators can be used in python while student 2 disagrees. Can you help student 1  \n",
        " with a python code to add 4 string variables in python.\n",
        "\n"
      ],
      "metadata": {
        "id": "k0Ibq4RBZPZ-"
      }
    },
    {
      "cell_type": "code",
      "source": [],
      "metadata": {
        "id": "pfMqXySmkcnf"
      },
      "execution_count": null,
      "outputs": []
    },
    {
      "cell_type": "code",
      "source": [
        "#Strings # Addition\n",
        "a = \"Aarhus\"\n",
        "b = \"University\"\n",
        "c = \"Summer\"\n",
        "d = \"Camp\"\n",
        "e = a + b + c + d\n",
        "print(e)\n"
      ],
      "metadata": {
        "colab": {
          "base_uri": "https://localhost:8080/"
        },
        "id": "IMxyjcIV9vgs",
        "outputId": "1fd1f65f-13a9-4e34-8c7c-9ecd31327758"
      },
      "execution_count": null,
      "outputs": [
        {
          "output_type": "stream",
          "name": "stdout",
          "text": [
            "AarhusUniversitySummerCamp\n"
          ]
        }
      ]
    },
    {
      "cell_type": "markdown",
      "source": [
        "Question 5: Can you help Jack run the below code\n",
        "\n",
        "variable1 = 3\n",
        "\n",
        "\n",
        "9variable2 = 5\n",
        "\n",
        "  \n",
        "variable3 = variable1 + variable2\n",
        "  \n",
        "\n",
        "print(variable3)\n",
        "\n"
      ],
      "metadata": {
        "id": "680yZaGQcKQJ"
      }
    },
    {
      "cell_type": "code",
      "source": [],
      "metadata": {
        "id": "r5BLWztOk82H"
      },
      "execution_count": null,
      "outputs": []
    },
    {
      "cell_type": "markdown",
      "source": [
        "Question 5: Can you help Jack run the below code\n",
        "\n",
        "variable1 = 3\n",
        "\n",
        "\n",
        " # 9variable2 = 5  -  This is incorrect. Remove the 9\n",
        "\n",
        "variable2 = 5\n",
        "\n",
        "  \n",
        "variable3 = variable1 + variable2\n",
        "  \n",
        "\n",
        "print(variable3)\n",
        "\n"
      ],
      "metadata": {
        "id": "_U5DEzSQk-m4"
      }
    },
    {
      "cell_type": "markdown",
      "source": [
        " Question 6: Student 1 is not able to run the below code to assign a value to a. Please help him.\n",
        "\n",
        " print(\"Add and Assign:\",a += b)"
      ],
      "metadata": {
        "id": "R5Vv6h79dE6B"
      }
    },
    {
      "cell_type": "code",
      "source": [],
      "metadata": {
        "id": "6TILloGGlPnv"
      },
      "execution_count": null,
      "outputs": []
    },
    {
      "cell_type": "code",
      "source": [
        "a = 300\n",
        "b = 10\n",
        "\n",
        "# Add and Assign\",\n",
        "a += b\n",
        "print(\"Add and Assign:\",a)\n",
        "\n",
        "\n",
        "\n"
      ],
      "metadata": {
        "id": "9pTph8IkM6AX"
      },
      "execution_count": null,
      "outputs": []
    },
    {
      "cell_type": "markdown",
      "source": [
        "Question 7: Sam has 100 oranges in his garden while Jack has 100 apples. If 1 orange is 10 euros and 1 apple is 20 euros. Can you write a python code to help Sam and Jack understand the value of 100 oranges and apples each.  "
      ],
      "metadata": {
        "id": "urD7x-ZndsYR"
      }
    },
    {
      "cell_type": "code",
      "source": [
        "Sam_Oranges = 100\n",
        "Jack_Apples = 100\n",
        "\n",
        "# The value of 100 orange is\n",
        "\n",
        "oranges_100 = Sam_Oranges * 10\n",
        "print(\"The value of 100 orange is:\", oranges_100)\n"
      ],
      "metadata": {
        "colab": {
          "base_uri": "https://localhost:8080/"
        },
        "id": "te0iT0OplZu2",
        "outputId": "b911136c-c186-4ac1-88a7-0bebc3357670"
      },
      "execution_count": null,
      "outputs": [
        {
          "output_type": "stream",
          "name": "stdout",
          "text": [
            "The value of 100 orange is: 1000\n"
          ]
        }
      ]
    },
    {
      "cell_type": "markdown",
      "source": [
        "Question 8: Complete the code below to get the output mentioned\n",
        "\n",
        "for x in range(9):\n",
        "print(5+7*x)\n",
        "\n",
        "5\n",
        "\n",
        "12\n",
        "\n",
        "19\n",
        "\n",
        "26\n",
        "\n",
        "33\n",
        "\n",
        "40\n",
        "\n",
        "47\n",
        "\n",
        "54\n",
        "\n",
        "61\n",
        "\n",
        "\n"
      ],
      "metadata": {
        "id": "EY0PT8dbiTGy"
      }
    },
    {
      "cell_type": "code",
      "source": [
        "for x in range(9):\n",
        "  print(5+7*x)"
      ],
      "metadata": {
        "colab": {
          "base_uri": "https://localhost:8080/"
        },
        "outputId": "62195956-81a9-4ce5-e81e-a49fa1a4b404",
        "id": "fqBBjcSoihXs"
      },
      "execution_count": null,
      "outputs": [
        {
          "output_type": "stream",
          "name": "stdout",
          "text": [
            "5\n",
            "12\n",
            "19\n",
            "26\n",
            "33\n",
            "40\n",
            "47\n",
            "54\n",
            "61\n"
          ]
        }
      ]
    },
    {
      "cell_type": "markdown",
      "source": [
        "Question 9: Write a python code to generate the below output\n",
        "\n",
        "0\n",
        "\n",
        "5\n",
        "\n",
        "10\n",
        "\n",
        "15\n",
        "\n",
        "20\n",
        "\n",
        "25\n",
        "\n",
        "30\n",
        "\n",
        "35\n",
        "\n",
        "40\n",
        "\n",
        "\n",
        "\n",
        "\n"
      ],
      "metadata": {
        "id": "A-k6SA6_h8gl"
      }
    },
    {
      "cell_type": "code",
      "source": [
        "for x in range(9):\n",
        "  print(5*x)"
      ],
      "metadata": {
        "colab": {
          "base_uri": "https://localhost:8080/"
        },
        "id": "hzJtY18om4lI",
        "outputId": "e93b0c82-0d25-4de2-ff90-9ff01cfe28ba"
      },
      "execution_count": null,
      "outputs": [
        {
          "output_type": "stream",
          "name": "stdout",
          "text": [
            "0\n",
            "5\n",
            "10\n",
            "15\n",
            "20\n",
            "25\n",
            "30\n",
            "35\n",
            "40\n"
          ]
        }
      ]
    },
    {
      "cell_type": "markdown",
      "source": [
        "Question 10: Create a list of fruits with 9 elements and print it"
      ],
      "metadata": {
        "id": "yh3Ohy7bKqDy"
      }
    },
    {
      "cell_type": "code",
      "source": [
        "fruits = ['Mango', 'Banana', 'Pineapple', 'Grape','Strawberry', 'Kiwi', 'Watermelon', 'Blueberry','Pear']\n",
        "print(fruits)"
      ],
      "metadata": {
        "colab": {
          "base_uri": "https://localhost:8080/"
        },
        "id": "k7NT-ifLK4kG",
        "outputId": "e798e786-f68a-4992-a6b4-8083e90afd19"
      },
      "execution_count": null,
      "outputs": [
        {
          "output_type": "stream",
          "name": "stdout",
          "text": [
            "['Mango', 'Banana', 'Pineapple', 'Grape', 'Strawberry', 'Kiwi', 'Watermelon', 'Blueberry', 'Pear']\n"
          ]
        }
      ]
    },
    {
      "cell_type": "markdown",
      "source": [
        "Question 11 :  Slice from 1st element to the 4th. Print only the first 4 elements in the above list."
      ],
      "metadata": {
        "id": "-R-U09iPLsFT"
      }
    },
    {
      "cell_type": "code",
      "source": [
        "fruits = ['Mango', 'Banana', 'Pineapple', 'Grape','Strawberry', 'Kiwi', 'Watermelon', 'Blueberry','Pear']\n",
        "print(fruits)\n",
        "print(fruits[0:4])"
      ],
      "metadata": {
        "colab": {
          "base_uri": "https://localhost:8080/"
        },
        "id": "PDctVcYWLrzR",
        "outputId": "46a43cbe-c09f-4fdc-b71a-0c55d8bdabf5"
      },
      "execution_count": null,
      "outputs": [
        {
          "output_type": "stream",
          "name": "stdout",
          "text": [
            "['Mango', 'Banana', 'Pineapple', 'Grape', 'Strawberry', 'Kiwi', 'Watermelon', 'Blueberry', 'Pear']\n",
            "['Mango', 'Banana', 'Pineapple', 'Grape']\n"
          ]
        }
      ]
    },
    {
      "cell_type": "markdown",
      "source": [
        "Question 12 : Create a list named 'list_nums' of numbers  (3,4,7,23,1,4,23,90,0,5)"
      ],
      "metadata": {
        "id": "IbKG1zXzMWTA"
      }
    },
    {
      "cell_type": "code",
      "source": [
        "list_nums = [3,4,7,23,1,4,23,90,0,5]"
      ],
      "metadata": {
        "id": "noDfF_XnMd_U"
      },
      "execution_count": 1,
      "outputs": []
    },
    {
      "cell_type": "markdown",
      "source": [
        "Question 14 : Iterate through each element in the above list using a for loop and add one to each element in the list and print the list"
      ],
      "metadata": {
        "id": "WA_-1-4aNJyh"
      }
    },
    {
      "cell_type": "code",
      "source": [
        "list_nums = [3, 4, 7, 23, 1, 4, 23, 90, 0, 5]\n",
        "\n",
        "# Iterate through each element in the list\n",
        "for i in range(len(list_nums)):\n",
        "    # Add one to each element\n",
        "    list_nums[i] += 1\n",
        "\n",
        "# Print the updated list\n",
        "print(list_nums)\n"
      ],
      "metadata": {
        "id": "WzQXrUkHNGTO",
        "colab": {
          "base_uri": "https://localhost:8080/"
        },
        "outputId": "c912a057-1ad0-408c-fe09-5b9473892907"
      },
      "execution_count": 2,
      "outputs": [
        {
          "output_type": "stream",
          "name": "stdout",
          "text": [
            "[4, 5, 8, 24, 2, 5, 24, 91, 1, 6]\n"
          ]
        }
      ]
    },
    {
      "cell_type": "markdown",
      "source": [
        "Question 15: Create an empty list named motorcycles"
      ],
      "metadata": {
        "id": "4H_jl0kRN4A4"
      }
    },
    {
      "cell_type": "code",
      "source": [
        "\n",
        "motorcycles = []\n"
      ],
      "metadata": {
        "id": "3rUJctgCN5LL"
      },
      "execution_count": null,
      "outputs": []
    },
    {
      "cell_type": "markdown",
      "source": [
        "Question 16: Add elements to the empty list created above,atleast 3 motorcycles"
      ],
      "metadata": {
        "id": "uqqL8i0NOCfg"
      }
    },
    {
      "cell_type": "code",
      "source": [
        "motorcycles.append('honda')\n",
        "motorcycles.append('yamaha')\n",
        "motorcycles.append('suzuki')\n",
        "print(motorcycles)"
      ],
      "metadata": {
        "id": "3o8BGfK_OBJs"
      },
      "execution_count": null,
      "outputs": []
    },
    {
      "cell_type": "markdown",
      "source": [
        "Question 17: Remove two motorcycles from the list above by value"
      ],
      "metadata": {
        "id": "jOK60vLaPKX8"
      }
    },
    {
      "cell_type": "code",
      "source": [
        "\n",
        "motorcycles = ['honda', 'yamaha', 'suzuki', 'ducati']\n",
        "print(motorcycles)\n",
        "motorcycles.remove('ducati')\n",
        "print(motorcycles)\n",
        "motorcycles.remove('yamaha')\n",
        "print(motorcycles)"
      ],
      "metadata": {
        "colab": {
          "base_uri": "https://localhost:8080/"
        },
        "id": "vShS_pD7OeJP",
        "outputId": "3903f4b2-29ee-4a91-dbd7-a070c8afbde4"
      },
      "execution_count": null,
      "outputs": [
        {
          "output_type": "stream",
          "name": "stdout",
          "text": [
            "['honda', 'yamaha', 'suzuki', 'ducati']\n",
            "['honda', 'yamaha', 'suzuki']\n",
            "['honda', 'suzuki']\n"
          ]
        }
      ]
    },
    {
      "cell_type": "markdown",
      "source": [
        "Question 18: Create a dictionary for four countries. With the country as the key and their capital as the value and print the dictionary"
      ],
      "metadata": {
        "id": "q0RY_sF6PnKU"
      }
    },
    {
      "cell_type": "code",
      "source": [
        "dict2 = {'Denmark' : 'Copenhagen', 'Finland' : 'Helsinki', 'India' : 'New Delhi', 'Germany' : 'Berlin'}\n",
        "print(dict2)\n"
      ],
      "metadata": {
        "colab": {
          "base_uri": "https://localhost:8080/"
        },
        "id": "di7i7xuRPjiV",
        "outputId": "1bfeb04a-1306-4e6a-9124-83b096290812"
      },
      "execution_count": null,
      "outputs": [
        {
          "output_type": "stream",
          "name": "stdout",
          "text": [
            "{'Denmark': 'Copenhagen', 'Finland': 'Helsinki', 'India': 'New Delhi', 'Germany': 'Berlin'}\n"
          ]
        }
      ]
    },
    {
      "cell_type": "markdown",
      "source": [
        "Question 19 : Print the length of the above created dictionary"
      ],
      "metadata": {
        "id": "yzm_xXKRQgDk"
      }
    },
    {
      "cell_type": "code",
      "source": [
        "dict2 = {'Denmark' : 'Copenhagen', 'Finland' : 'Helsinki', 'India' : 'New Delhi', 'Germany' : 'Berlin'}\n",
        "print(dict2)\n",
        "print('Length of dictionary - ' + str(len(dict2)))\n"
      ],
      "metadata": {
        "colab": {
          "base_uri": "https://localhost:8080/"
        },
        "id": "YSVdHsVrQcGK",
        "outputId": "3e95693f-0718-4aab-aa29-84569cb1f8e2"
      },
      "execution_count": null,
      "outputs": [
        {
          "output_type": "stream",
          "name": "stdout",
          "text": [
            "{'Denmark': 'Copenhagen', 'Finland': 'Helsinki', 'India': 'New Delhi', 'Germany': 'Berlin'}\n",
            "Length of dictionary - 4\n",
            "{'Denmark': 'Copenhagen', 'India': 'New Delhi', 'Germany': 'Berlin'}\n"
          ]
        }
      ]
    },
    {
      "cell_type": "markdown",
      "source": [
        "*Question* 20 : Remove a country and its capital (key-value pair) from the dictionary created and print the dictionay minus that value"
      ],
      "metadata": {
        "id": "44gEekGWQqMH"
      }
    },
    {
      "cell_type": "code",
      "source": [
        "dict2 = {'Denmark' : 'Copenhagen', 'Finland' : 'Helsinki', 'India' : 'New Delhi', 'Germany' : 'Berlin'}\n",
        "print(dict2)\n",
        "#Remove key-value pairs\n",
        "del dict2['Finland']\n",
        "print(dict2)"
      ],
      "metadata": {
        "colab": {
          "base_uri": "https://localhost:8080/"
        },
        "id": "SBdSA7CVQqq-",
        "outputId": "37521a8f-0a52-4582-89ce-0acf447c2416"
      },
      "execution_count": null,
      "outputs": [
        {
          "output_type": "stream",
          "name": "stdout",
          "text": [
            "{'Denmark': 'Copenhagen', 'Finland': 'Helsinki', 'India': 'New Delhi', 'Germany': 'Berlin'}\n",
            "{'Denmark': 'Copenhagen', 'India': 'New Delhi', 'Germany': 'Berlin'}\n"
          ]
        }
      ]
    },
    {
      "cell_type": "markdown",
      "source": [
        "Question 21 : Create an empty dictionary"
      ],
      "metadata": {
        "id": "E5j6cZ_VRLpL"
      }
    },
    {
      "cell_type": "code",
      "source": [
        "dict4 = {} #Empty dictionary"
      ],
      "metadata": {
        "id": "l9XpkZGqRQp_"
      },
      "execution_count": null,
      "outputs": []
    },
    {
      "cell_type": "markdown",
      "source": [
        "Question 22: Add the two key-vale pair mentioned below into the above created empty dictionary and print the dictionary\n",
        "1. 'Denmark' - 'Copenhagen'\n",
        "2. 'Finland' - 'Helsinki"
      ],
      "metadata": {
        "id": "vT61Qp6oRSy-"
      }
    },
    {
      "cell_type": "code",
      "source": [
        "#Modifying dictionary values\n",
        "dict4 = {} #Empty dictionary\n",
        "dict4['Denmark'] = 'Copenhagen'\n",
        "dict4['Finland'] = 'Helsinki'\n",
        "print(dict4)\n"
      ],
      "metadata": {
        "colab": {
          "base_uri": "https://localhost:8080/"
        },
        "id": "NqeWTH40RJCi",
        "outputId": "b07f518d-5cae-4cd0-9fcc-f0c25276b8d8"
      },
      "execution_count": null,
      "outputs": [
        {
          "output_type": "stream",
          "name": "stdout",
          "text": [
            "{'Denmark': 'Copenhagen', 'Finland': 'Helsinki'}\n",
            "{'Denmark': 'Copenhagen', 'Finland': 'Rome'}\n"
          ]
        }
      ]
    },
    {
      "cell_type": "markdown",
      "source": [
        "Question 23 : Modify the value of Finland from Helsinki to Rome and print the dictionary"
      ],
      "metadata": {
        "id": "fnR4UuMoRvgT"
      }
    },
    {
      "cell_type": "code",
      "source": [
        "#Modifying dictionary values\n",
        "dict4 = {} #Empty dictionary\n",
        "dict4['Denmark'] = 'Copenhagen'\n",
        "dict4['Finland'] = 'Helsinki'\n",
        "print(dict4)\n",
        "dict4['Finland'] = 'Rome'\n",
        "print(dict4)"
      ],
      "metadata": {
        "id": "-a8hfV49Rt6D"
      },
      "execution_count": null,
      "outputs": []
    },
    {
      "cell_type": "markdown",
      "source": [
        "Question 24 : Create a dictionary to store username and password"
      ],
      "metadata": {
        "id": "82pbm4VPSRJf"
      }
    },
    {
      "cell_type": "code",
      "source": [
        "#Dictionary to store username and password\n",
        "userpass_dict = {\n",
        "                  \"chris\" : \"passwd123\",\n",
        "                  \"admin\" : \"admin123\",\n",
        "                }"
      ],
      "metadata": {
        "id": "1rHbmF-VSQZq"
      },
      "execution_count": null,
      "outputs": []
    },
    {
      "cell_type": "markdown",
      "source": [
        "Question 25 : Create a Tuple wiht values 1,10 and 30"
      ],
      "metadata": {
        "id": "E46rGGKfSkJv"
      }
    },
    {
      "cell_type": "code",
      "source": [
        "my_tuple = (1,10,30)\n"
      ],
      "metadata": {
        "id": "naXDI4veSoDw"
      },
      "execution_count": null,
      "outputs": []
    },
    {
      "cell_type": "markdown",
      "source": [
        "Question 26 : Print the first value in the above created tuple"
      ],
      "metadata": {
        "id": "o9DY-rDMSvPC"
      }
    },
    {
      "cell_type": "code",
      "source": [
        "my_tuple = (1,10,30)\n",
        "my_tuple[1]\n",
        "#Will this will  work?\n",
        "my_tuple[1] = 3"
      ],
      "metadata": {
        "id": "k1qiaMAIS3-k"
      },
      "execution_count": null,
      "outputs": []
    },
    {
      "cell_type": "markdown",
      "source": [
        "Question 27 : Will this work 'my_tuple[1] = 3' to the above tuple? Give reason"
      ],
      "metadata": {
        "id": "yAAWUXOMS9D7"
      }
    },
    {
      "cell_type": "code",
      "source": [
        "my_tuple = (1,10,30)\n",
        "my_tuple[1]\n",
        "#Will this will  work?\n",
        "my_tuple[1] = 3\n",
        "#no, as once a tuple is created. we cannot modify an element"
      ],
      "metadata": {
        "id": "rZI0uwDbTFcp",
        "colab": {
          "base_uri": "https://localhost:8080/",
          "height": 206
        },
        "outputId": "a5039cdd-c62e-41be-833c-725fd8f24bc9"
      },
      "execution_count": null,
      "outputs": [
        {
          "output_type": "error",
          "ename": "TypeError",
          "evalue": "ignored",
          "traceback": [
            "\u001b[0;31m---------------------------------------------------------------------------\u001b[0m",
            "\u001b[0;31mTypeError\u001b[0m                                 Traceback (most recent call last)",
            "\u001b[0;32m<ipython-input-2-2024cdca846d>\u001b[0m in \u001b[0;36m<cell line: 4>\u001b[0;34m()\u001b[0m\n\u001b[1;32m      2\u001b[0m \u001b[0mmy_tuple\u001b[0m\u001b[0;34m[\u001b[0m\u001b[0;36m1\u001b[0m\u001b[0;34m]\u001b[0m\u001b[0;34m\u001b[0m\u001b[0;34m\u001b[0m\u001b[0m\n\u001b[1;32m      3\u001b[0m \u001b[0;31m#Will this will  work?\u001b[0m\u001b[0;34m\u001b[0m\u001b[0;34m\u001b[0m\u001b[0m\n\u001b[0;32m----> 4\u001b[0;31m \u001b[0mmy_tuple\u001b[0m\u001b[0;34m[\u001b[0m\u001b[0;36m1\u001b[0m\u001b[0;34m]\u001b[0m \u001b[0;34m=\u001b[0m \u001b[0;36m3\u001b[0m\u001b[0;34m\u001b[0m\u001b[0;34m\u001b[0m\u001b[0m\n\u001b[0m",
            "\u001b[0;31mTypeError\u001b[0m: 'tuple' object does not support item assignment"
          ]
        }
      ]
    }
  ]
}