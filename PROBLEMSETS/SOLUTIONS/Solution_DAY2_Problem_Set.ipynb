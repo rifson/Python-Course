{
  "nbformat": 4,
  "nbformat_minor": 0,
  "metadata": {
    "colab": {
      "provenance": []
    },
    "kernelspec": {
      "name": "python3",
      "display_name": "Python 3"
    },
    "language_info": {
      "name": "python"
    }
  },
  "cells": [
    {
      "cell_type": "markdown",
      "source": [
        "Question 1 : Create a string named str_var and assign the value 'ML is awesome' to the variable and print the variable\n",
        "\n",
        "```\n",
        "# This is formatted as code\n",
        "```\n",
        "\n"
      ],
      "metadata": {
        "id": "xM4N2608TeVM"
      }
    },
    {
      "cell_type": "code",
      "source": [
        "#Strings\n",
        "str_var = 'ML is awesome'\n",
        "#ML is awesome\n",
        "#0123456789... #order of indices\n",
        "print(str_var)\n"
      ],
      "metadata": {
        "id": "T8Cu8DA9Thp3"
      },
      "execution_count": null,
      "outputs": []
    },
    {
      "cell_type": "markdown",
      "source": [
        "Question 2 : Print the second last element of the above created variable"
      ],
      "metadata": {
        "id": "jloQAvhHTxWY"
      }
    },
    {
      "cell_type": "code",
      "source": [
        "#Strings\n",
        "str_var = 'ML is awesome'\n",
        "#ML is awesome\n",
        "#0123456789... #order of indices\n",
        "print(str_var)\n",
        "#Accessing with respect to the last element\n",
        "print(str_var[-2])\n",
        "print(str_var[11])"
      ],
      "metadata": {
        "colab": {
          "base_uri": "https://localhost:8080/"
        },
        "id": "fiZhdXOdTxtA",
        "outputId": "7578795b-6eeb-4d4b-8771-53704f080bb5"
      },
      "execution_count": null,
      "outputs": [
        {
          "output_type": "stream",
          "name": "stdout",
          "text": [
            "ML is awesome\n",
            "m\n",
            "m\n"
          ]
        }
      ]
    },
    {
      "cell_type": "markdown",
      "source": [
        "Question 3 : Perform #Addition operations on strings mentioned below and print them with and without space\n",
        "a = \"tom\"\n",
        "b = \"haverford\""
      ],
      "metadata": {
        "id": "nYEFQDiTUavQ"
      }
    },
    {
      "cell_type": "code",
      "source": [
        "#Addition  operations on strings\n",
        "a = \"tom\"\n",
        "b = \"haverford\"\n",
        "c = a + b\n",
        "print(c)\n",
        "#Add space in between\n",
        "c = a + ' ' + b\n",
        "print(c)\n"
      ],
      "metadata": {
        "id": "oozPiwHkUZ9a"
      },
      "execution_count": null,
      "outputs": []
    },
    {
      "cell_type": "markdown",
      "metadata": {
        "id": "hjBYdlaNxUVV"
      },
      "source": [
        "**Question 4**: Write code to ask the user to enter 3 numbers (a,b,c) and then these values are passed on to a function called **find_largest(a,b,c)** which does some comparison operations (using python comparison operators) between these three numbers and print the result"
      ]
    },
    {
      "cell_type": "code",
      "metadata": {
        "id": "ZdsGl6VCz1fO",
        "colab": {
          "base_uri": "https://localhost:8080/"
        },
        "outputId": "f4bbbd00-ff25-46fe-9cc9-13e24e4d2cc4"
      },
      "source": [
        "#Find largest of three numbers\n",
        "def find_largest(a,b,c):\n",
        "  if (a >= b) and (a >= c):\n",
        "    largest = a\n",
        "    print(\"a is the largest\")\n",
        "  elif (b >= a) and (b >= c):\n",
        "    largest = b\n",
        "    print(\"b is the largest\")\n",
        "  else:\n",
        "    largest = c\n",
        "    print(\"c is the largest\")\n",
        "\n",
        "\n",
        "a = float(input(\"A= \"))\n",
        "b = float(input(\"B= \"))\n",
        "c = float(input(\"C= \"))\n",
        "find_largest(a,b,c)\n"
      ],
      "execution_count": null,
      "outputs": [
        {
          "output_type": "stream",
          "name": "stdout",
          "text": [
            "A= 3\n",
            "B= 4\n",
            "C= 6\n",
            "c is the largest\n"
          ]
        }
      ]
    },
    {
      "cell_type": "markdown",
      "source": [
        "Question 5 : Create a class named car to store the information model,manufactures and year"
      ],
      "metadata": {
        "id": "ttn8qNcwFJB2"
      }
    },
    {
      "cell_type": "code",
      "source": [
        "class Car:\n",
        " # class methods\n",
        "  def __init__(self, model, manufactures, year):\n",
        "         self.model = model\n",
        "         self.manufactures = manufactures\n",
        "         self.year = year\n",
        ""
      ],
      "metadata": {
        "id": "ofur_E4fEoSr"
      },
      "execution_count": 3,
      "outputs": []
    },
    {
      "cell_type": "markdown",
      "source": [
        "Question 6 : Create an object of the class and print informations mentioned in the above question"
      ],
      "metadata": {
        "id": "uTLCHxWjFX13"
      }
    },
    {
      "cell_type": "code",
      "source": [
        "t1 = Car(\"S\",\"Tesla\",2018) #t1 is an object of type Car\n",
        "print(t1) #This prints the location in memory of the object\n",
        "print(t1.model)\n",
        "print(t1.manufactures)\n",
        "print(t1.year)"
      ],
      "metadata": {
        "id": "2g2m1ClxSXwg",
        "colab": {
          "base_uri": "https://localhost:8080/"
        },
        "outputId": "4b1f61cc-2223-45cd-f831-f053c99e16a2"
      },
      "execution_count": 5,
      "outputs": [
        {
          "output_type": "stream",
          "name": "stdout",
          "text": [
            "<__main__.Car object at 0x7f2853fed9f0>\n",
            "S\n",
            "Tesla\n",
            "2018\n"
          ]
        }
      ]
    },
    {
      "cell_type": "markdown",
      "metadata": {
        "id": "HUz42uzjVF6T"
      },
      "source": [
        "**Question 7**: Write a python class called \"Employee\" with four attributes - name, base_salary, bonus, travel_allowance, with a parameterized constructor to initialize these values and another function called print_total_salary which just adds up the base_salary with bonus and travel_allowance and prints it.\n",
        "\n",
        "After you define this class, create two or three objects of this class type, say emp1, emp2 and emp3 like this -\n",
        "\n",
        "```\n",
        "emp1 = Employee(\"Tom\",1000,300,100)\n",
        "emp2 = Employee(\"Dick\",2000,600,100)\n",
        "emp3 = Employee(\"Harry\",500,100,50)\n",
        "```\n",
        "\n",
        "And then print the total salaries by accessing the print_total_salary method -\n",
        "\n",
        "```\n",
        "emp1.print_total_salary()\n",
        "emp2.print_total_salary()\n",
        "emp3.print_total_salary()\n",
        "```\n",
        "\n",
        "\n"
      ]
    },
    {
      "cell_type": "code",
      "metadata": {
        "id": "TIXAhsVr1ekP",
        "colab": {
          "base_uri": "https://localhost:8080/"
        },
        "outputId": "eecde5f7-5d58-43e5-8f18-150a8cb14988"
      },
      "source": [
        "class Employee:\n",
        "  def __init__(self, n, s, b, t): #Parameterized constructor\n",
        "    self.name = n #n=\"Tom\"\n",
        "    self.base_salary = s #s = 1000\n",
        "    self.bonus = b #b=300\n",
        "    self.travel_allowance = t #t=100\n",
        "\n",
        "  def print_total_salary(self):\n",
        "    total_salary = self.base_salary + self.bonus + self.travel_allowance\n",
        "    print('Total salary for ', self.name, 'is', total_salary)\n",
        "\n",
        "#Create objects of class type Employee\n",
        "emp1 = Employee(\"Tom\",1000,300,100)\n",
        "emp2 = Employee(\"Dick\",2000,600,100)\n",
        "emp3 = Employee(\"Harry\",500,100,50)\n",
        "\n",
        "\n",
        "\n",
        "#emp1_total_salary = emp1.base_salary+emp1.bonus+emp1.travel_allowance\n",
        "#print(emp1_total_salary)\n",
        "\n",
        "emp1.print_total_salary()\n",
        "emp2.print_total_salary()\n",
        "emp3.print_total_salary()"
      ],
      "execution_count": null,
      "outputs": [
        {
          "output_type": "stream",
          "name": "stdout",
          "text": [
            "Total salary for  Tom is 1400\n",
            "Total salary for  Dick is 2700\n",
            "Total salary for  Harry is 650\n"
          ]
        }
      ]
    },
    {
      "cell_type": "markdown",
      "source": [
        "Question 8: Create a One-dimensional array of size 9 with a range of 15 random elements. Create a Two-dimensional array with 3 rows and 4 columns inside the range of 15 random elements. Create a Three-dimensional array of 3 arrays with 4 rows and 5 columns with a range of 15 random elements."
      ],
      "metadata": {
        "id": "NEbflxkuC6-3"
      }
    },
    {
      "cell_type": "code",
      "source": [
        "import numpy as np #alias\n",
        "np.random.seed(42)  # seed for reproducibility\n",
        "\n",
        "x1 = np.random.randint(15, size=9)  # One-dimensional array\n",
        "x2 = np.random.randint(15, size=(3, 4))  # Two-dimensional array\n",
        "x3 = np.random.randint(15, size=(3, 4, 5))  # Three-dimensional array"
      ],
      "metadata": {
        "id": "jPQvvAuDCjSs"
      },
      "execution_count": null,
      "outputs": []
    },
    {
      "cell_type": "markdown",
      "source": [
        "Question 9 : Write a code to print the values stored in an integer list but use excemption handling in case the user tries to print a value from a position in the list that does not have a value"
      ],
      "metadata": {
        "id": "ljIf4fEVETxm"
      }
    },
    {
      "cell_type": "code",
      "source": [
        "a = [1, 2, 3]\n",
        "try:\n",
        "    print (\"Second element\", (a[1]))\n",
        "\n",
        "    # Throws error since there are only 3 elements in array\n",
        "    print (\"Fourth element\", (a[3]))\n",
        "\n",
        "except:\n",
        "    print (\"An error occurred\")"
      ],
      "metadata": {
        "id": "5Ur9Fom1E4NW"
      },
      "execution_count": null,
      "outputs": []
    }
  ]
}