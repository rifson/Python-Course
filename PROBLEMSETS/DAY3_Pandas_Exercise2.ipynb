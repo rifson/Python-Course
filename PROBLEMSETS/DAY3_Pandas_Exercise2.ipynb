{
  "nbformat": 4,
  "nbformat_minor": 0,
  "metadata": {
    "colab": {
      "name": "Day4_Pandas_Exercise2.ipynb",
      "provenance": []
    },
    "kernelspec": {
      "name": "python3",
      "display_name": "Python 3"
    },
    "language_info": {
      "name": "python"
    }
  },
  "cells": [
    {
      "cell_type": "markdown",
      "source": [
        "Import Pandas"
      ],
      "metadata": {
        "id": "O94e71H_h_PU"
      }
    },
    {
      "cell_type": "code",
      "source": [
        ""
      ],
      "metadata": {
        "id": "GtFDZjKmiHW1"
      },
      "execution_count": null,
      "outputs": []
    },
    {
      "cell_type": "markdown",
      "source": [
        "1) Load the Automobile dataset as a dataframe\n",
        "\n"
      ],
      "metadata": {
        "id": "LFCb-pmGhwau"
      }
    },
    {
      "cell_type": "code",
      "source": [
        ""
      ],
      "metadata": {
        "id": "_AgABz-NjBQm"
      },
      "execution_count": null,
      "outputs": []
    },
    {
      "cell_type": "markdown",
      "source": [
        "2) Get the basic information for this dataframe"
      ],
      "metadata": {
        "id": "Dg_QeHMPjCoE"
      }
    },
    {
      "cell_type": "code",
      "source": [
        ""
      ],
      "metadata": {
        "id": "_jZEifUCjWYr"
      },
      "execution_count": null,
      "outputs": []
    },
    {
      "cell_type": "markdown",
      "source": [
        "3) Delete the index column (the first column)"
      ],
      "metadata": {
        "id": "hKb2Z1tTjXHz"
      }
    },
    {
      "cell_type": "code",
      "source": [
        ""
      ],
      "metadata": {
        "id": "aiTBnSaMjhIj"
      },
      "execution_count": null,
      "outputs": []
    },
    {
      "cell_type": "markdown",
      "source": [
        "4) Display the first 5 and the last 5 rows of the dataset"
      ],
      "metadata": {
        "id": "GjEX2iSZjhSr"
      }
    },
    {
      "cell_type": "code",
      "source": [
        ""
      ],
      "metadata": {
        "id": "61ejq42Erejy"
      },
      "execution_count": null,
      "outputs": []
    },
    {
      "cell_type": "code",
      "source": [
        ""
      ],
      "metadata": {
        "id": "L-IuvuCK9qrw"
      },
      "execution_count": null,
      "outputs": []
    },
    {
      "cell_type": "markdown",
      "source": [
        "5) Get the descriptive statistics for this dataset"
      ],
      "metadata": {
        "id": "Xcl-FUbBre3b"
      }
    },
    {
      "cell_type": "code",
      "source": [
        ""
      ],
      "metadata": {
        "id": "OIaRkYlQroFw"
      },
      "execution_count": null,
      "outputs": []
    },
    {
      "cell_type": "markdown",
      "source": [
        "6) Check the shape of the dataset"
      ],
      "metadata": {
        "id": "27aaqeekroUY"
      }
    },
    {
      "cell_type": "code",
      "source": [
        ""
      ],
      "metadata": {
        "id": "dLFqv-jRsB7x"
      },
      "execution_count": null,
      "outputs": []
    },
    {
      "cell_type": "markdown",
      "source": [
        "7) Create a new dataframe that contains the same data sorted by price "
      ],
      "metadata": {
        "id": "cvYe55F_sCH-"
      }
    },
    {
      "cell_type": "code",
      "source": [
        ""
      ],
      "metadata": {
        "id": "IVUxEZQssNRg"
      },
      "execution_count": null,
      "outputs": []
    },
    {
      "cell_type": "markdown",
      "source": [
        "8) Create a new column called price-range, loop through the dataset:\n",
        " \n",
        "\n",
        "*   Price below 10000 ==> price-range = cheap\n",
        "*   Price between 10000 and 20000 (both included) ==> price-range = affordable\n",
        "*   Price over 20000 ==> price-range = expensive \n",
        "\n",
        "\n",
        "\n",
        "\n"
      ],
      "metadata": {
        "id": "at-LhgpnsNgP"
      }
    },
    {
      "cell_type": "code",
      "source": [
        ""
      ],
      "metadata": {
        "id": "RM-3sVAzsitR"
      },
      "execution_count": null,
      "outputs": []
    },
    {
      "cell_type": "markdown",
      "source": [
        "9) Get the company name and the price of the most expensive car"
      ],
      "metadata": {
        "id": "jlr2yaYQsjAG"
      }
    },
    {
      "cell_type": "code",
      "source": [
        ""
      ],
      "metadata": {
        "id": "EOjrUQxvsuHm"
      },
      "execution_count": null,
      "outputs": []
    },
    {
      "cell_type": "markdown",
      "source": [
        "10) Count the total number of cars for each of the price range"
      ],
      "metadata": {
        "id": "mUyNUwVws1IH"
      }
    },
    {
      "cell_type": "code",
      "source": [
        ""
      ],
      "metadata": {
        "id": "iwlBaQyps6vY"
      },
      "execution_count": null,
      "outputs": []
    },
    {
      "cell_type": "markdown",
      "source": [
        "11) Display the average price for each of the companies in ascending order"
      ],
      "metadata": {
        "id": "uiPeEB-S5zZb"
      }
    },
    {
      "cell_type": "code",
      "source": [
        ""
      ],
      "metadata": {
        "id": "0R0irWquGDwV"
      },
      "execution_count": null,
      "outputs": []
    },
    {
      "cell_type": "markdown",
      "source": [
        "12) Make a scatterplot of the horsepower (x-axis) against the price (y-axis)"
      ],
      "metadata": {
        "id": "w-uRmUSh52mr"
      }
    },
    {
      "cell_type": "code",
      "source": [
        ""
      ],
      "metadata": {
        "id": "jU0aAz305-mC"
      },
      "execution_count": null,
      "outputs": []
    },
    {
      "cell_type": "markdown",
      "source": [
        "13) Make a histogram of the length"
      ],
      "metadata": {
        "id": "j5vzF2bds7Ah"
      }
    },
    {
      "cell_type": "code",
      "source": [
        ""
      ],
      "metadata": {
        "id": "eyX18yKrtEku"
      },
      "execution_count": null,
      "outputs": []
    }
  ]
}