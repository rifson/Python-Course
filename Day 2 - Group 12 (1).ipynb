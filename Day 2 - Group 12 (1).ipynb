{
 "cells": [
  {
   "cell_type": "markdown",
   "metadata": {
    "application/vnd.databricks.v1+cell": {
     "cellMetadata": {
      "byteLimit": 2048000,
      "rowLimit": 10000
     },
     "inputWidgets": {},
     "nuid": "9f26632c-8963-4099-abe7-525a9d146957",
     "showTitle": false,
     "title": ""
    }
   },
   "source": [
    "####Questions 1:\n",
    "Create a string named str_var and assign the value 'ML is awesome' to the variable and print the variable.\n",
    "\n",
    "```\n",
    "# This is formatted as code\n",
    "```"
   ]
  },
  {
   "cell_type": "code",
   "execution_count": 0,
   "metadata": {
    "application/vnd.databricks.v1+cell": {
     "cellMetadata": {
      "byteLimit": 2048000,
      "rowLimit": 10000
     },
     "inputWidgets": {},
     "nuid": "2ceeeda1-81e4-4153-b381-7516c1c56f1f",
     "showTitle": false,
     "title": ""
    }
   },
   "outputs": [
    {
     "output_type": "stream",
     "name": "stdout",
     "output_type": "stream",
     "text": [
      "ML is awesome\n"
     ]
    }
   ],
   "source": [
    "str_var =\"ML is awesome\"\n",
    "print(str_var)"
   ]
  },
  {
   "cell_type": "markdown",
   "metadata": {
    "application/vnd.databricks.v1+cell": {
     "cellMetadata": {
      "byteLimit": 2048000,
      "rowLimit": 10000
     },
     "inputWidgets": {},
     "nuid": "9a0d820a-f79f-435c-9c92-d0881a7e5a48",
     "showTitle": false,
     "title": ""
    }
   },
   "source": [
    "####Question 2:\n",
    "Print the second last element of the above created variable."
   ]
  },
  {
   "cell_type": "code",
   "execution_count": 0,
   "metadata": {
    "application/vnd.databricks.v1+cell": {
     "cellMetadata": {
      "byteLimit": 2048000,
      "rowLimit": 10000
     },
     "inputWidgets": {},
     "nuid": "82d3e388-5105-4ab8-ba53-8769465efc07",
     "showTitle": false,
     "title": ""
    }
   },
   "outputs": [
    {
     "output_type": "stream",
     "name": "stdout",
     "output_type": "stream",
     "text": [
      "m\nm\n"
     ]
    }
   ],
   "source": [
    "print(str_var[11]) #From left to right \n",
    "print(str_var[-2]) #From right to left"
   ]
  },
  {
   "cell_type": "markdown",
   "metadata": {
    "application/vnd.databricks.v1+cell": {
     "cellMetadata": {
      "byteLimit": 2048000,
      "rowLimit": 10000
     },
     "inputWidgets": {},
     "nuid": "1612f432-47c6-4240-b159-d232f7539451",
     "showTitle": false,
     "title": ""
    }
   },
   "source": [
    "####Question 3:\n",
    "Perform #Addition operations on strings mentioned below and print them with and without space."
   ]
  },
  {
   "cell_type": "code",
   "execution_count": 0,
   "metadata": {
    "application/vnd.databricks.v1+cell": {
     "cellMetadata": {
      "byteLimit": 2048000,
      "rowLimit": 10000
     },
     "inputWidgets": {},
     "nuid": "f1d78ab8-c099-456a-9d86-9519fec4f540",
     "showTitle": false,
     "title": ""
    }
   },
   "outputs": [
    {
     "output_type": "stream",
     "name": "stdout",
     "output_type": "stream",
     "text": [
      "tomhaverford\ntom haverford\n"
     ]
    }
   ],
   "source": [
    "a = \"tom\"\n",
    "b = \"haverford\"\n",
    "print(a+b)\n",
    "print(a + \" \" + b)"
   ]
  },
  {
   "cell_type": "markdown",
   "metadata": {
    "application/vnd.databricks.v1+cell": {
     "cellMetadata": {
      "byteLimit": 2048000,
      "rowLimit": 10000
     },
     "inputWidgets": {},
     "nuid": "bcd8e77e-ed23-4e3c-8689-593c8e4d9764",
     "showTitle": false,
     "title": ""
    }
   },
   "source": [
    "####Question 4:\n",
    "Write code to ask the user to enter 3 numbers (a,b,c) and then these values are passed on to a function called **find_largest(a,b,c)** which does some comparison operations (using python comparison operators) between these three numbers and print the result"
   ]
  },
  {
   "cell_type": "code",
   "execution_count": 0,
   "metadata": {
    "application/vnd.databricks.v1+cell": {
     "cellMetadata": {
      "byteLimit": 2048000,
      "rowLimit": 10000
     },
     "inputWidgets": {},
     "nuid": "fa49363d-fa2a-4609-b07c-1068bb1e70c1",
     "showTitle": false,
     "title": ""
    }
   },
   "outputs": [],
   "source": [
    "def find_largest(number1, number2, number3):  \n",
    "    if number1 >= number2 and number1 >= number3:  \n",
    "        print(f\"{number1} is the biggest number\")  \n",
    "    elif number2 >= number1 and number2 >= number3:  \n",
    "        print(f\"{number2} is the biggest number\")  \n",
    "    else:  \n",
    "        print(f\"{number3} is the biggest number\")"
   ]
  },
  {
   "cell_type": "code",
   "execution_count": 0,
   "metadata": {
    "application/vnd.databricks.v1+cell": {
     "cellMetadata": {
      "byteLimit": 2048000,
      "rowLimit": 10000
     },
     "inputWidgets": {},
     "nuid": "8378aa17-6177-4bfc-bb4d-241d620529b4",
     "showTitle": false,
     "title": ""
    }
   },
   "outputs": [
    {
     "output_type": "display_data",
     "data": {
      "text/plain": [
       "Enter Number  1"
      ]
     },
     "metadata": {},
     "output_type": "display_data"
    },
    {
     "output_type": "display_data",
     "data": {
      "text/plain": [
       "Enter Number  4"
      ]
     },
     "metadata": {},
     "output_type": "display_data"
    },
    {
     "output_type": "display_data",
     "data": {
      "text/plain": [
       "Enter Number  7"
      ]
     },
     "metadata": {},
     "output_type": "display_data"
    },
    {
     "output_type": "stream",
     "name": "stdout",
     "output_type": "stream",
     "text": [
      "Number 1 is: 1\nNumber 2 is: 4\nNumber 3 is: 7\n"
     ]
    }
   ],
   "source": [
    "number1 = input(\"Enter Number \")\n",
    "number2 = input(\"Enter Number \")\n",
    "number3 = input(\"Enter Number \")\n",
    "print(\"Number 1 is: \" + number1)\n",
    "print(\"Number 2 is: \" + number2)\n",
    "print(\"Number 3 is: \" + number3)"
   ]
  },
  {
   "cell_type": "code",
   "execution_count": 0,
   "metadata": {
    "application/vnd.databricks.v1+cell": {
     "cellMetadata": {
      "byteLimit": 2048000,
      "rowLimit": 10000
     },
     "inputWidgets": {},
     "nuid": "0244d8d2-d805-487f-9bfb-17047ec9e48a",
     "showTitle": false,
     "title": ""
    }
   },
   "outputs": [
    {
     "output_type": "stream",
     "name": "stdout",
     "output_type": "stream",
     "text": [
      "7 is the biggest number\n"
     ]
    }
   ],
   "source": [
    "find_largest(number1, number2, number3)"
   ]
  },
  {
   "cell_type": "markdown",
   "metadata": {
    "application/vnd.databricks.v1+cell": {
     "cellMetadata": {
      "byteLimit": 2048000,
      "rowLimit": 10000
     },
     "inputWidgets": {},
     "nuid": "b2b6d4f0-aa17-447a-ba2a-e50e631b8925",
     "showTitle": false,
     "title": ""
    }
   },
   "source": [
    "####Question 5:\n",
    "Create a class named car to store the information model,manufactures and year"
   ]
  },
  {
   "cell_type": "code",
   "execution_count": 0,
   "metadata": {
    "application/vnd.databricks.v1+cell": {
     "cellMetadata": {
      "byteLimit": 2048000,
      "rowLimit": 10000
     },
     "inputWidgets": {},
     "nuid": "2efdb8a5-e702-4e6e-bc86-bc97a412a01e",
     "showTitle": false,
     "title": ""
    }
   },
   "outputs": [],
   "source": [
    "class car:\n",
    "  def __init__(self, model, manufacturer, year):\n",
    "      self.model = model\n",
    "      self.manufacturer = manufacturer\n",
    "      self.year = year"
   ]
  },
  {
   "cell_type": "markdown",
   "metadata": {
    "application/vnd.databricks.v1+cell": {
     "cellMetadata": {
      "byteLimit": 2048000,
      "rowLimit": 10000
     },
     "inputWidgets": {},
     "nuid": "51ee7d10-f27c-402f-ac7d-b777e6e926ee",
     "showTitle": false,
     "title": ""
    }
   },
   "source": [
    "####Question 6:\n",
    "Create an object of the class and print informations mentioned in the above question"
   ]
  },
  {
   "cell_type": "code",
   "execution_count": 0,
   "metadata": {
    "application/vnd.databricks.v1+cell": {
     "cellMetadata": {
      "byteLimit": 2048000,
      "rowLimit": 10000
     },
     "inputWidgets": {},
     "nuid": "0b3e77c5-fa8a-485b-b633-59d6a6f7e5dd",
     "showTitle": false,
     "title": ""
    }
   },
   "outputs": [
    {
     "output_type": "stream",
     "name": "stdout",
     "output_type": "stream",
     "text": [
      "Yaris\nToyota\n2016\n"
     ]
    }
   ],
   "source": [
    "car1 = car(\"Yaris\", \"Toyota\", 2016)\n",
    "car2 = car(\"Up\", \"VW\", 2016)\n",
    "\n",
    "print(car1.model)\n",
    "print(car1.manufacturer)\n",
    "print(car1.year)"
   ]
  },
  {
   "cell_type": "markdown",
   "metadata": {
    "application/vnd.databricks.v1+cell": {
     "cellMetadata": {
      "byteLimit": 2048000,
      "rowLimit": 10000
     },
     "inputWidgets": {},
     "nuid": "f0173e8a-640f-4275-86ca-79a9bd8c4dce",
     "showTitle": false,
     "title": ""
    }
   },
   "source": [
    "####Question 7:\n",
    "Write a python class called \"Employee\" with four attributes - name, base_salary, bonus, travel_allowance, with a parameterized constructor to initialize these values and another function called print_total_salary which just adds up the base_salary with bonus and travel_allowance and prints it.\n",
    "\n",
    "After you define this class, create two or three objects of this class type, say emp1, emp2 and emp3 like this -\n",
    "\n",
    "```\n",
    "emp1 = Employee(\"Tom\",1000,300,100)\n",
    "emp2 = Employee(\"Dick\",2000,600,100)\n",
    "emp3 = Employee(\"Harry\",500,100,50)\n",
    "```\n",
    "\n",
    "And then print the total salaries by accessing the print_total_salary method -\n",
    "\n",
    "```\n",
    "emp1.print_total_salary()\n",
    "emp2.print_total_salary()\n",
    "emp3.print_total_salary()\n",
    "```"
   ]
  },
  {
   "cell_type": "code",
   "execution_count": 0,
   "metadata": {
    "application/vnd.databricks.v1+cell": {
     "cellMetadata": {
      "byteLimit": 2048000,
      "rowLimit": 10000
     },
     "inputWidgets": {},
     "nuid": "1de41931-771b-4310-8b8c-a993e137311e",
     "showTitle": false,
     "title": ""
    }
   },
   "outputs": [],
   "source": [
    "class Employee:  \n",
    "    def __init__(self, name, base_salary, bonus, travel_allowance):  \n",
    "        self.name = name  \n",
    "        self.base_salary = base_salary  \n",
    "        self.bonus = bonus  \n",
    "        self.travel_allowance = travel_allowance  \n",
    "  \n",
    "    def print_total_salary(self):  \n",
    "        total_salary = self.base_salary + self.bonus + self.travel_allowance  \n",
    "        print(f\"The total salary for {self.name} is: {total_salary}\")  "
   ]
  },
  {
   "cell_type": "code",
   "execution_count": 0,
   "metadata": {
    "application/vnd.databricks.v1+cell": {
     "cellMetadata": {
      "byteLimit": 2048000,
      "rowLimit": 10000
     },
     "inputWidgets": {},
     "nuid": "1258b414-2d14-45f2-aa01-eb4e5735bc37",
     "showTitle": false,
     "title": ""
    }
   },
   "outputs": [],
   "source": [
    "# Creating objects of the Employee class  \n",
    "emp1 = Employee(\"Tom\", 1000, 300, 100)  \n",
    "emp2 = Employee(\"Dick\", 2000, 600, 100)  \n",
    "emp3 = Employee(\"Harry\", 500, 100, 50) "
   ]
  },
  {
   "cell_type": "code",
   "execution_count": 0,
   "metadata": {
    "application/vnd.databricks.v1+cell": {
     "cellMetadata": {
      "byteLimit": 2048000,
      "rowLimit": 10000
     },
     "inputWidgets": {},
     "nuid": "c3e8fdce-29cd-427a-bda0-a6a062f3d161",
     "showTitle": false,
     "title": ""
    }
   },
   "outputs": [
    {
     "output_type": "stream",
     "name": "stdout",
     "output_type": "stream",
     "text": [
      "The total salary for Tom is: 1400\nThe total salary for Dick is: 2700\nThe total salary for Harry is: 650\n"
     ]
    }
   ],
   "source": [
    "# Printing the total salaries  \n",
    "emp1.print_total_salary() #Print Tom\n",
    "emp2.print_total_salary() #Print Dick\n",
    "emp3.print_total_salary() #Print Harry"
   ]
  },
  {
   "cell_type": "markdown",
   "metadata": {
    "application/vnd.databricks.v1+cell": {
     "cellMetadata": {
      "byteLimit": 2048000,
      "rowLimit": 10000
     },
     "inputWidgets": {},
     "nuid": "fa6ad7c4-c998-4b87-a5b8-a153829019e5",
     "showTitle": false,
     "title": ""
    }
   },
   "source": [
    "#### Question 8: \n",
    "Create a One-dimensional array of size 9 with a range of 15 random elements. Create a Two-dimensional array with 3 rows and 4 columns inside the range of 15 random elements. Create a Three-dimensional array of 3 arrays with 4 rows and 5 columns with a range of 15 random elements.\n"
   ]
  },
  {
   "cell_type": "code",
   "execution_count": 0,
   "metadata": {
    "application/vnd.databricks.v1+cell": {
     "cellMetadata": {
      "byteLimit": 2048000,
      "rowLimit": 10000
     },
     "inputWidgets": {},
     "nuid": "4da35717-2678-4402-8168-c307626749f8",
     "showTitle": false,
     "title": ""
    }
   },
   "outputs": [],
   "source": [
    "import numpy as np\n",
    "\n",
    "np.random.seed(1) #Assigned a number to generate same results each time.\n",
    "ar1 = np.random.randint(15,size=9)\n",
    "ar2 = np.random.randint(15,size=(3,4))\n",
    "ar3 = np.random.randint(15, size=(3, 4, 5))"
   ]
  },
  {
   "cell_type": "code",
   "execution_count": 0,
   "metadata": {
    "application/vnd.databricks.v1+cell": {
     "cellMetadata": {
      "byteLimit": 2048000,
      "rowLimit": 10000
     },
     "inputWidgets": {},
     "nuid": "66f56189-1291-4fdd-b7ac-44ce8ef29f32",
     "showTitle": false,
     "title": ""
    }
   },
   "outputs": [
    {
     "output_type": "stream",
     "name": "stdout",
     "output_type": "stream",
     "text": [
      "1 Dimensional Array\n[ 5 11 12  8  9 11  5  0  0]\nShape: (9,)\nSize: 9\nNumber of dimensions: (9,)\n"
     ]
    }
   ],
   "source": [
    "print(\"1 Dimensional Array\")\n",
    "print(ar1)\n",
    "print(\"Shape:\", ar1.shape)\n",
    "print(\"Size:\", ar1.size)\n",
    "print(\"Number of dimensions:\", ar1.shape)"
   ]
  },
  {
   "cell_type": "code",
   "execution_count": 0,
   "metadata": {
    "application/vnd.databricks.v1+cell": {
     "cellMetadata": {
      "byteLimit": 2048000,
      "rowLimit": 10000
     },
     "inputWidgets": {},
     "nuid": "132af32d-e0f3-42c1-a239-e4e29e20dbfe",
     "showTitle": false,
     "title": ""
    }
   },
   "outputs": [
    {
     "output_type": "stream",
     "name": "stdout",
     "output_type": "stream",
     "text": [
      "2 Dimensional Array\n[[ 1 12  7 13]\n [12  6  9  2]\n [ 4 14  5  2]]\nShape: (3, 4)\nSize: 12\nNumber of dimensions: (3, 4)\n"
     ]
    }
   ],
   "source": [
    "print(\"2 Dimensional Array\")\n",
    "print(ar2)\n",
    "print(\"Shape:\", ar2.shape)\n",
    "print(\"Size:\", ar2.size)\n",
    "print(\"Number of dimensions:\", ar2.shape)"
   ]
  },
  {
   "cell_type": "code",
   "execution_count": 0,
   "metadata": {
    "application/vnd.databricks.v1+cell": {
     "cellMetadata": {
      "byteLimit": 2048000,
      "rowLimit": 10000
     },
     "inputWidgets": {},
     "nuid": "fb27fcc4-743f-41a3-ba5c-a0f3b0d16bd4",
     "showTitle": false,
     "title": ""
    }
   },
   "outputs": [
    {
     "output_type": "stream",
     "name": "stdout",
     "output_type": "stream",
     "text": [
      "3 Dimensional Array\n[[[ 4 11 12 10 12]\n  [13 14  2  4  7]\n  [ 7  9  1  7 14]\n  [ 0  6 13  9  9]]\n\n [[ 7 13  6  9  1]\n  [ 0 12  1  8  8]\n  [13  3 10  9  8]\n  [14  7  3  6  5]]\n\n [[ 1  9  3  4  8]\n  [ 1 11 12 10  4]\n  [ 0 13  3  9  2]\n  [ 0  4  9  2  7]]]\nShape: (3, 4, 5)\nSize: 60\nNumber of dimensions: (3, 4, 5)\n"
     ]
    }
   ],
   "source": [
    "print(\"3 Dimensional Array\")\n",
    "print(ar3)\n",
    "print(\"Shape:\", ar3.shape)\n",
    "print(\"Size:\", ar3.size)\n",
    "print(\"Number of dimensions:\", ar3.shape)"
   ]
  },
  {
   "cell_type": "markdown",
   "metadata": {
    "application/vnd.databricks.v1+cell": {
     "cellMetadata": {
      "byteLimit": 2048000,
      "rowLimit": 10000
     },
     "inputWidgets": {},
     "nuid": "a216ebaa-a3f7-435c-a2b1-715a47dd15e9",
     "showTitle": false,
     "title": ""
    }
   },
   "source": [
    "####Question 9:\n",
    "Write a code to print the values stored in an integer list but use excemption handling in case the user tries to print a value from a position in the list that does not have a value"
   ]
  },
  {
   "cell_type": "code",
   "execution_count": 0,
   "metadata": {
    "application/vnd.databricks.v1+cell": {
     "cellMetadata": {
      "byteLimit": 2048000,
      "rowLimit": 10000
     },
     "inputWidgets": {},
     "nuid": "58ba8c0d-8ef8-4a45-9047-eb659a22f830",
     "showTitle": false,
     "title": ""
    }
   },
   "outputs": [
    {
     "output_type": "display_data",
     "data": {
      "text/plain": [
       "Enter the index of the value:  3"
      ]
     },
     "metadata": {},
     "output_type": "display_data"
    },
    {
     "output_type": "stream",
     "name": "stdout",
     "output_type": "stream",
     "text": [
      "The value at index 3 is: 4\n"
     ]
    }
   ],
   "source": [
    "# Creation of integer list\n",
    "integer_list = [1, 2, 3, 4, 5]\n",
    "\n",
    "try:\n",
    "  # Index from the user\n",
    "  index = int(input(\"Enter the index of the value: \"))\n",
    "\n",
    "  # Print the value at the specified index\n",
    "  print(f\"The value at index {index} is: {integer_list[index]}\")\n",
    "except IndexError:\n",
    "  # Print an error message if the index is out of range\n",
    "  print(f\"Index {index} is out of range.\")"
   ]
  }
 ],
 "metadata": {
  "application/vnd.databricks.v1+notebook": {
   "dashboards": [],
   "environmentMetadata": null,
   "language": "python",
   "notebookMetadata": {
    "pythonIndentUnit": 4
   },
   "notebookName": "Day 2 - Group 12",
   "widgets": {}
  }
 },
 "nbformat": 4,
 "nbformat_minor": 0
}
