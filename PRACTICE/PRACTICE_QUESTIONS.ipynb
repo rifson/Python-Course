{
 "cells": [
  {
   "cell_type": "markdown",
   "metadata": {},
   "source": [
    "# Practice Questions"
   ]
  },
  {
   "cell_type": "markdown",
   "metadata": {},
   "source": [
    "## Question 1 - Functions (15 point)\n",
    "Consider the following code segment:\n",
    "```python\n",
    "def calculate_product(a, b):  \n",
    "    product = a * b  \n",
    "    return product  \n",
    "  \n",
    "x = 5  \n",
    "y = \"2\"  \n",
    "result = calculate_product(x, y)  \n",
    "print(result)  \n",
    "\n",
    "```\n"
   ]
  },
  {
   "cell_type": "markdown",
   "metadata": {},
   "source": [
    "### 1. What is the value of the variable c after executing the code?"
   ]
  },
  {
   "cell_type": "markdown",
   "metadata": {},
   "source": [
    "### 2. What would be the output if you modified the code to multiply string a by 3 and then concatenate it with string b?\n",
    "Please submit the modified code."
   ]
  },
  {
   "cell_type": "markdown",
   "metadata": {},
   "source": [
    "## Questions 2 - Functions (10 point)\n",
    "Consider the following code segment:\n",
    "```python\n",
    "def check_even(number):  \n",
    "    if number % 2 == 0:  \n",
    "        return True  \n",
    "    else:  \n",
    "        return False  \n",
    "  \n",
    "num = 17  \n",
    "is_even = check_even(num)  \n",
    "print(is_even)  \n",
    "```"
   ]
  },
  {
   "cell_type": "markdown",
   "metadata": {},
   "source": [
    "### 1. Analyze the code provided. What does the `check_even` function do?"
   ]
  },
  {
   "cell_type": "markdown",
   "metadata": {},
   "source": [
    "### 2. What will be the output of the code when `num` is assigned the value `17`?"
   ]
  },
  {
   "cell_type": "markdown",
   "metadata": {},
   "source": [
    "## Question 3 - Classes (10 point)\n",
    "### Define two classes in Python - \"Employee\" The classes should have the following structure:\n",
    "| Class  | Attributes        | Methods                                                                 |  \n",
    "|--------|-------------------|-------------------------------------------------------------------------|  \n",
    "| Student| name              | A constructor method with parameters for initializing the class’s properties. |  \n",
    "|        | age               |                                                                         |  \n",
    "|        | salary            |                                                                         |  \n",
    "|        | bonus             | A method ‘total_salary’ by summing up with salary and bonus             |  "
   ]
  },
  {
   "cell_type": "markdown",
   "metadata": {},
   "source": [
    "<div style=\"background-color: azureblue; padding: 50px;\">  \n",
    "    ## Questions 2 - Functions (10 point)  \n",
    "</div>  "
   ]
  },
  {
   "cell_type": "markdown",
   "metadata": {},
   "source": [
    "<h2 style=\"background-color: lightblue; color: black; padding: 20px; font-weight: bold;\">Question 2 - Functions (10 point)</h2>  "
   ]
  }
 ],
 "metadata": {
  "kernelspec": {
   "display_name": "Python 3",
   "language": "python",
   "name": "python3"
  },
  "language_info": {
   "codemirror_mode": {
    "name": "ipython",
    "version": 3
   },
   "file_extension": ".py",
   "mimetype": "text/x-python",
   "name": "python",
   "nbconvert_exporter": "python",
   "pygments_lexer": "ipython3",
   "version": "3.12.4"
  }
 },
 "nbformat": 4,
 "nbformat_minor": 2
}
