{
 "cells": [
  {
   "cell_type": "markdown",
   "metadata": {},
   "source": [
    "# Practice Questions"
   ]
  },
  {
   "cell_type": "markdown",
   "metadata": {},
   "source": [
    "<h2 style=\"background-color: lightblue; color: black; padding: 20px; font-weight: bold;\">Question 1 - Functions (15 point)</h2> \n",
    "Consider the following code segment:\n",
    "\n",
    "```python\n",
    "def calculate_product(a, b):  \n",
    "    product = a * b  \n",
    "    return product  \n",
    "  \n",
    "x = 5  \n",
    "y = \"2\"  \n",
    "result = calculate_product(x, y)  \n",
    "print(result)  \n",
    "\n",
    "```\n"
   ]
  },
  {
   "cell_type": "markdown",
   "metadata": {},
   "source": [
    "### 1. What is the value of the variable c after executing the code?\n",
    "Its expected that `result` looks like:\n",
    "\n",
    "```python\n",
    "\n",
    "result = calculate(5, \"2\")\n",
    "\n",
    "# Which is also\n",
    "print(5 * \"2\")\n",
    "\n",
    "```\n",
    "This will print the text string 5 times as seen below:"
   ]
  },
  {
   "cell_type": "code",
   "execution_count": 33,
   "metadata": {},
   "outputs": [
    {
     "name": "stdout",
     "output_type": "stream",
     "text": [
      "22222\n"
     ]
    }
   ],
   "source": [
    "def calculate_product(a, b):  \n",
    "    product = a * b  \n",
    "    return product  \n",
    "  \n",
    "x = 5  \n",
    "y = \"2\"  \n",
    "result = calculate_product(x, y)  \n",
    "print(result)  "
   ]
  },
  {
   "cell_type": "code",
   "execution_count": 34,
   "metadata": {},
   "outputs": [
    {
     "name": "stdout",
     "output_type": "stream",
     "text": [
      "22222\n"
     ]
    }
   ],
   "source": [
    "print(5 * \"2\")"
   ]
  },
  {
   "cell_type": "markdown",
   "metadata": {},
   "source": [
    "### 2. What would be the output if you modified the code to multiply string a by 3 and then concatenate it with string b?\n",
    "Please submit the modified code.\n",
    "\n",
    "`a` which is also `x` in this case will be printed 3 times since they are multiplied by 3.\n",
    "\n",
    "```python\n",
    "def calculate_product(a, b):  \n",
    "    product = str(x) * 3 + str(y)  # Simple concatenate by adding b in this case\n",
    "    # Added \"a\" and \"b\" to make sure they are strings could also use str(a) and str(b) before\n",
    "    return product  \n",
    "  \n",
    "x = 5  \n",
    "y = \"2\"  \n",
    "result = calculate_product(x, y)  \n",
    "print(result)\n",
    "```\n",
    "\n",
    "**Also possible to use `join()` as shown below**\n",
    "\n",
    "```python\n",
    "def calculate_product(a, b):\n",
    "    a = str(a)\n",
    "    b = str(b)\n",
    "    product = ''.join([a * 3, b]) # Using join instead\n",
    "    return product\n",
    "\n",
    "x = 5\n",
    "y = \"2\"\n",
    "result = calculate_product(x, y)\n",
    "print(result)\n",
    "```"
   ]
  },
  {
   "cell_type": "code",
   "execution_count": 35,
   "metadata": {},
   "outputs": [
    {
     "name": "stdout",
     "output_type": "stream",
     "text": [
      "5552\n"
     ]
    }
   ],
   "source": [
    "def calculate_product(a, b):  \n",
    "    product = str(x) * 3 + str(y)  # Simple concatenate by adding b in this case\n",
    "    # Added \"a\" and \"b\" to make sure they are strings could also use str(a) and str(b) before\n",
    "    return product  \n",
    "  \n",
    "x = 5  \n",
    "y = \"2\"  \n",
    "result = calculate_product(x, y)  \n",
    "print(result)"
   ]
  },
  {
   "cell_type": "code",
   "execution_count": 36,
   "metadata": {},
   "outputs": [
    {
     "name": "stdout",
     "output_type": "stream",
     "text": [
      "5552\n"
     ]
    }
   ],
   "source": [
    "def calculate_product(a, b):\n",
    "    a = str(a)\n",
    "    b = str(b)\n",
    "    product = ''.join([a * 3, b]) # Using join instead\n",
    "    return product\n",
    "\n",
    "x = 5\n",
    "y = \"2\"\n",
    "result = calculate_product(x, y)\n",
    "print(result)"
   ]
  },
  {
   "cell_type": "markdown",
   "metadata": {},
   "source": [
    "This result in print of 3 times of x and adding \"2\". \\\n",
    "Both are transformed to str datatype."
   ]
  },
  {
   "cell_type": "markdown",
   "metadata": {},
   "source": [
    "<h2 style=\"background-color: lightblue; color: black; padding: 20px; font-weight: bold;\">Question 2 - Functions (15 point)</h2> \n",
    "\n",
    "Consider the following code segment:\n",
    "```python\n",
    "def check_even(number):  \n",
    "    if number % 2 == 0:  \n",
    "        return True  \n",
    "    else:  \n",
    "        return False  \n",
    "  \n",
    "num = 17  \n",
    "is_even = check_even(num)  \n",
    "print(is_even)  \n",
    "```"
   ]
  },
  {
   "cell_type": "markdown",
   "metadata": {},
   "source": [
    "### 1. Analyze the code provided. What does the `check_even` function do?\n",
    "\n",
    "It divides using 2 from `num` as many times as it can get and returns the remaining (Thats what `%` does) \\\n",
    "In this case it will take `17 / 2` which its able to do `8 times`. \\\n",
    "But there is still `1 remaining` which will then got to `else` and `return false`"
   ]
  },
  {
   "cell_type": "markdown",
   "metadata": {},
   "source": [
    "### 2. What will be the output of the code when `num` is assigned the value `17`?"
   ]
  },
  {
   "cell_type": "code",
   "execution_count": 37,
   "metadata": {},
   "outputs": [
    {
     "name": "stdout",
     "output_type": "stream",
     "text": [
      "False\n"
     ]
    }
   ],
   "source": [
    "def check_even(number):  \n",
    "    if number % 2 == 0:  \n",
    "        return True  \n",
    "    else:  \n",
    "        return False  \n",
    "  \n",
    "num = 17  \n",
    "is_even = check_even(num)  \n",
    "print(is_even)  "
   ]
  },
  {
   "cell_type": "markdown",
   "metadata": {},
   "source": [
    "As explained in the above question it will return `False` since 17 is uneven and the function will return 1 which then returns `False`"
   ]
  },
  {
   "cell_type": "markdown",
   "metadata": {},
   "source": [
    "<h2 style=\"background-color: lightblue; color: black; padding: 20px; font-weight: bold;\">Question 3 - Classes (10 point)</h2>\n",
    "\n",
    "Define two classes in Python - \"Employee\" The classes should have the following structure:\n",
    "\n",
    "| Class  | Attributes        | Methods                                                                 |  \n",
    "|--------|-------------------|-------------------------------------------------------------------------|  \n",
    "| Student| name              | A constructor method with parameters for initializing the class’s properties. |  \n",
    "|        | age               |                                                                         |  \n",
    "|        | salary            |                                                                         |  \n",
    "|        | bonus             | A method ‘total_salary’ by summing up with salary and bonus             |  "
   ]
  },
  {
   "cell_type": "code",
   "execution_count": 38,
   "metadata": {},
   "outputs": [],
   "source": [
    "class Employee:\n",
    "    def __init__(self, name, age, salary, bonus):\n",
    "        self.name = name\n",
    "        self.age = age\n",
    "        self.salary = salary\n",
    "        self.bonus = bonus\n",
    "    \n",
    "    def total_salary(self): # Defines total salary from salary and bonus\n",
    "        return self.salary + self.bonus\n",
    "    \n",
    "class Student(Employee): #Student inherits everything from Employee\n",
    "    pass # We dont want to change anything in the class so we pass\n",
    "    "
   ]
  },
  {
   "cell_type": "markdown",
   "metadata": {},
   "source": [
    "Adding some data as and examples of using it:"
   ]
  },
  {
   "cell_type": "code",
   "execution_count": 39,
   "metadata": {},
   "outputs": [],
   "source": [
    "student9 = Student(\"Christian\", 25, 15000, 7000) # Using student class\n",
    "employee1 = Employee(\"Benny\", 37, 37000, 10000) # Using employee class\n",
    "employee9 = Employee(\"Balu\", 30, 545000, 20000)"
   ]
  },
  {
   "cell_type": "code",
   "execution_count": 40,
   "metadata": {},
   "outputs": [
    {
     "name": "stdout",
     "output_type": "stream",
     "text": [
      "Balu\n",
      "30\n"
     ]
    }
   ],
   "source": [
    "print(employee9.name) # Get name of employee 9\n",
    "print(employee9.age) # Get age of employee 9"
   ]
  },
  {
   "cell_type": "code",
   "execution_count": 41,
   "metadata": {},
   "outputs": [
    {
     "name": "stdout",
     "output_type": "stream",
     "text": [
      "Christian\n",
      "25\n"
     ]
    }
   ],
   "source": [
    "print(student9.name) # Print name of student 9\n",
    "print(student9.age) # Print age of student 9"
   ]
  },
  {
   "cell_type": "code",
   "execution_count": 42,
   "metadata": {},
   "outputs": [
    {
     "name": "stdout",
     "output_type": "stream",
     "text": [
      "565000\n",
      "22000\n"
     ]
    }
   ],
   "source": [
    "print(employee9.total_salary()) # Get total salary of employee 9\n",
    "print(student9.total_salary()) # Get total salary of employee 9"
   ]
  },
  {
   "cell_type": "markdown",
   "metadata": {},
   "source": [
    "<h2 style=\"background-color: lightblue; color: black; padding: 20px; font-weight: bold;\">Question 4 - Dataframes and plots (10 point)</h2>\n",
    "\n",
    "Consider the following Python dictionary:\n",
    "\n",
    "```python\n",
    "housing_price_dict = {\n",
    "    'a': ['Chicago', 'New York', 'Portland', 'San Francisco', 'Austin', 'Washington DC', 'Miami', 'Boston'],\n",
    "    'b': [1000, 1300, 900, 1100, 450, 900, 400, 10]\n",
    "}\n",
    "```"
   ]
  },
  {
   "cell_type": "markdown",
   "metadata": {},
   "source": [
    "### 1. Create a dataframe ‘city_prices_df’ from this dictionary with the column names specified ‘City_Name’ and ‘Price’."
   ]
  },
  {
   "cell_type": "code",
   "execution_count": 43,
   "metadata": {},
   "outputs": [],
   "source": [
    "housing_price_dict = {\n",
    "    'a': ['Chicago', 'New York', 'Portland', 'San Francisco', 'Austin', 'Washington DC', 'Miami', 'Boston'],\n",
    "    'b': [1000, 1300, 900, 1100, 450, 900, 400, 10]\n",
    "}"
   ]
  },
  {
   "cell_type": "code",
   "execution_count": 44,
   "metadata": {},
   "outputs": [],
   "source": [
    "import pandas as pd"
   ]
  },
  {
   "cell_type": "code",
   "execution_count": 45,
   "metadata": {},
   "outputs": [],
   "source": [
    "city_prices_df = pd.DataFrame({\n",
    "    'City_Name': housing_price_dict['a'],\n",
    "    'Price': housing_price_dict['b']\n",
    "})"
   ]
  },
  {
   "cell_type": "code",
   "execution_count": 46,
   "metadata": {},
   "outputs": [
    {
     "data": {
      "text/html": [
       "<div>\n",
       "<style scoped>\n",
       "    .dataframe tbody tr th:only-of-type {\n",
       "        vertical-align: middle;\n",
       "    }\n",
       "\n",
       "    .dataframe tbody tr th {\n",
       "        vertical-align: top;\n",
       "    }\n",
       "\n",
       "    .dataframe thead th {\n",
       "        text-align: right;\n",
       "    }\n",
       "</style>\n",
       "<table border=\"1\" class=\"dataframe\">\n",
       "  <thead>\n",
       "    <tr style=\"text-align: right;\">\n",
       "      <th></th>\n",
       "      <th>City_Name</th>\n",
       "      <th>Price</th>\n",
       "    </tr>\n",
       "  </thead>\n",
       "  <tbody>\n",
       "    <tr>\n",
       "      <th>0</th>\n",
       "      <td>Chicago</td>\n",
       "      <td>1000</td>\n",
       "    </tr>\n",
       "    <tr>\n",
       "      <th>1</th>\n",
       "      <td>New York</td>\n",
       "      <td>1300</td>\n",
       "    </tr>\n",
       "    <tr>\n",
       "      <th>2</th>\n",
       "      <td>Portland</td>\n",
       "      <td>900</td>\n",
       "    </tr>\n",
       "    <tr>\n",
       "      <th>3</th>\n",
       "      <td>San Francisco</td>\n",
       "      <td>1100</td>\n",
       "    </tr>\n",
       "    <tr>\n",
       "      <th>4</th>\n",
       "      <td>Austin</td>\n",
       "      <td>450</td>\n",
       "    </tr>\n",
       "    <tr>\n",
       "      <th>5</th>\n",
       "      <td>Washington DC</td>\n",
       "      <td>900</td>\n",
       "    </tr>\n",
       "    <tr>\n",
       "      <th>6</th>\n",
       "      <td>Miami</td>\n",
       "      <td>400</td>\n",
       "    </tr>\n",
       "    <tr>\n",
       "      <th>7</th>\n",
       "      <td>Boston</td>\n",
       "      <td>10</td>\n",
       "    </tr>\n",
       "  </tbody>\n",
       "</table>\n",
       "</div>"
      ],
      "text/plain": [
       "       City_Name  Price\n",
       "0        Chicago   1000\n",
       "1       New York   1300\n",
       "2       Portland    900\n",
       "3  San Francisco   1100\n",
       "4         Austin    450\n",
       "5  Washington DC    900\n",
       "6          Miami    400\n",
       "7         Boston     10"
      ]
     },
     "execution_count": 46,
     "metadata": {},
     "output_type": "execute_result"
    }
   ],
   "source": [
    "city_prices_df"
   ]
  },
  {
   "cell_type": "markdown",
   "metadata": {},
   "source": [
    "### 2. Provide code to list cities in the dataframe with ‘Price’ between 400 and 500."
   ]
  },
  {
   "cell_type": "markdown",
   "metadata": {},
   "source": [
    "Using logical operators its possible to filter a DateFrame"
   ]
  },
  {
   "cell_type": "code",
   "execution_count": 47,
   "metadata": {},
   "outputs": [],
   "source": [
    "filtered_cities = city_prices_df[\n",
    "    (city_prices_df['Price'] >= 400) & # Filter to keep above 400 or equal to\n",
    "    (city_prices_df['Price'] <= 500)] # Filter to keep below 500 or equal to"
   ]
  },
  {
   "cell_type": "code",
   "execution_count": 48,
   "metadata": {},
   "outputs": [
    {
     "data": {
      "text/html": [
       "<div>\n",
       "<style scoped>\n",
       "    .dataframe tbody tr th:only-of-type {\n",
       "        vertical-align: middle;\n",
       "    }\n",
       "\n",
       "    .dataframe tbody tr th {\n",
       "        vertical-align: top;\n",
       "    }\n",
       "\n",
       "    .dataframe thead th {\n",
       "        text-align: right;\n",
       "    }\n",
       "</style>\n",
       "<table border=\"1\" class=\"dataframe\">\n",
       "  <thead>\n",
       "    <tr style=\"text-align: right;\">\n",
       "      <th></th>\n",
       "      <th>City_Name</th>\n",
       "      <th>Price</th>\n",
       "    </tr>\n",
       "  </thead>\n",
       "  <tbody>\n",
       "    <tr>\n",
       "      <th>4</th>\n",
       "      <td>Austin</td>\n",
       "      <td>450</td>\n",
       "    </tr>\n",
       "    <tr>\n",
       "      <th>6</th>\n",
       "      <td>Miami</td>\n",
       "      <td>400</td>\n",
       "    </tr>\n",
       "  </tbody>\n",
       "</table>\n",
       "</div>"
      ],
      "text/plain": [
       "  City_Name  Price\n",
       "4    Austin    450\n",
       "6     Miami    400"
      ]
     },
     "execution_count": 48,
     "metadata": {},
     "output_type": "execute_result"
    }
   ],
   "source": [
    "filtered_cities # Show filtered cities"
   ]
  },
  {
   "cell_type": "markdown",
   "metadata": {},
   "source": [
    "### 3. Provide code to generate the following scatter plot from the ‘city_prices_df’ dataframe with the same color and formatting as in the question"
   ]
  },
  {
   "cell_type": "code",
   "execution_count": 49,
   "metadata": {},
   "outputs": [],
   "source": [
    "import matplotlib.pyplot as plt # Import matplotlib for visualizations"
   ]
  },
  {
   "cell_type": "code",
   "execution_count": 50,
   "metadata": {},
   "outputs": [
    {
     "data": {
      "image/png": "[encoded data removed]",
      "text/plain": [
       "<Figure size 1000x600 with 1 Axes>"
      ]
     },
     "metadata": {},
     "output_type": "display_data"
    }
   ],
   "source": [
    "plt.figure(figsize=(10, 6))\n",
    "plt.scatter(x=city_prices_df['City_Name'], # City on x-axis from \"city_prices_df\" -> City_Name\n",
    "            y=city_prices_df['Price'], # Price on y axis from \"city_prices_df\" -> Price\n",
    "            color='red') # Colors should be red\n",
    "\n",
    "plt.xlabel(\"City_Name\") # Label for x\n",
    "plt.ylabel(\"Price\") # Label for y\n",
    "plt.xticks(rotation=90) # Rotate x labels 90 degrees\n",
    "plt.show()"
   ]
  },
  {
   "cell_type": "markdown",
   "metadata": {},
   "source": [
    "<h2 style=\"background-color: lightblue; color: black; padding: 20px; font-weight: bold;\">Question 5 - Oversampling and undersampling (5 point)</h2>\n",
    "\n",
    "Briefly describe the need and advantages of oversampling and undersampling data \n",
    "before creating machine learning models."
   ]
  },
  {
   "cell_type": "markdown",
   "metadata": {},
   "source": [
    "**NEED**\n",
    "- Address Imbalance in datasets\n",
    "- Improve performance on minority values\n",
    "\n",
    "**ADVANTAGES** \\\n",
    "Here are the advantages for over and undersampling\n",
    "\n",
    "**OVERSAMPLING**\n",
    "- Increase minority values by adding more.\n",
    "- Keep existing data.\n",
    "\n",
    "**UNDERSAMPLING**\n",
    "- Reduces dataset size.\n",
    "- Balances distribution by removing bigger representations.\n",
    "\n",
    "\n",
    "Overall it reduces bias towards majority classes and improves minority classes. \\\n",
    "This will result in better model accuracy."
   ]
  },
  {
   "cell_type": "markdown",
   "metadata": {},
   "source": [
    "<h2 style=\"background-color: lightblue; color: black; padding: 20px; font-weight: bold;\">Question 5 - Oversampling and undersampling (5 point)</h2>\n",
    "\n",
    "A confusion matrix is given below for a newly designed electric car with 5 classes of faults identified in the fault detective system: \\\n",
    "P- front lights \\\n",
    "Q-brake fluid \\\n",
    "R- engine \\\n",
    "S- battery \\\n",
    "T- adaptive cruise control \n",
    "\n",
    "**Accuracy:** (TP + TN) / Total \\\n",
    "**Precision:** TP / (TP + FP) \\\n",
    "**Recall:** TP / (TP + FN) \\\n",
    "**F1 Score:** 2 * (Precision * Recall) / (Precision + Recall)\n",
    "\n"
   ]
  },
  {
   "cell_type": "markdown",
   "metadata": {},
   "source": [
    "Confusion Matrix is not complete since its not 5 x 5\n",
    "But from what can be seen the following can be done.\n",
    "\n",
    "True Positives:\n",
    "- P = 3\n",
    "- Q = 7\n",
    "\n",
    "Total Predictions:\n",
    "- 3 + 4 + 6 + 7 + 3 + 9 + 10 + 6 + 2 + 4 = 54"
   ]
  },
  {
   "cell_type": "code",
   "execution_count": 51,
   "metadata": {},
   "outputs": [
    {
     "data": {
      "text/plain": [
       "0.18518518518518517"
      ]
     },
     "execution_count": 51,
     "metadata": {},
     "output_type": "execute_result"
    }
   ],
   "source": [
    "Accuracy = (3 + 7) / 54 # Partial Accuracy (TP + TN) / Total"
   ]
  },
  {
   "cell_type": "code",
   "execution_count": 52,
   "metadata": {},
   "outputs": [
    {
     "data": {
      "text/plain": [
       "0.3333333333333333"
      ]
     },
     "execution_count": 52,
     "metadata": {},
     "output_type": "execute_result"
    }
   ],
   "source": [
    "P_Recall = 3 / (3 + 6) # P (Front Light) Recall = TP / (TP + TN)\n",
    "Q_Recall = 7 / (7 + 4) # Q (Brake Fluid) Recall = TP / (TP + TN)"
   ]
  },
  {
   "cell_type": "code",
   "execution_count": 55,
   "metadata": {},
   "outputs": [],
   "source": [
    "FP_Frontlight = 6 + 3 + 10 + 2\n",
    "FP_Brakefluid = 4 + 9 + 6 + 4"
   ]
  },
  {
   "cell_type": "code",
   "execution_count": null,
   "metadata": {},
   "outputs": [],
   "source": [
    "P_Precision = 3 / (3 + FP_Frontlight)\n",
    "Q_Precision = 7 / (7 + FP_Brakefluid)"
   ]
  },
  {
   "cell_type": "markdown",
   "metadata": {},
   "source": [
    "Jeg siger bare fuck"
   ]
  }
 ],
 "metadata": {
  "kernelspec": {
   "display_name": "Python 3",
   "language": "python",
   "name": "python3"
  },
  "language_info": {
   "codemirror_mode": {
    "name": "ipython",
    "version": 3
   },
   "file_extension": ".py",
   "mimetype": "text/x-python",
   "name": "python",
   "nbconvert_exporter": "python",
   "pygments_lexer": "ipython3",
   "version": "3.12.4"
  }
 },
 "nbformat": 4,
 "nbformat_minor": 2
}
