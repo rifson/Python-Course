{
  "cells": [
    {
      "cell_type": "markdown",
      "metadata": {
        "id": "-d6f9MBO_TeN"
      },
      "source": [
        "<!--BOOK_INFORMATION-->\n",
        "<img align=\"left\" style=\"padding-right:10px;\" src=\"figures/PDSH-cover-small.png\">\n",
        "\n",
        "*This notebook contains an excerpt from the [Python Data Science Handbook](http://shop.oreilly.com/product/0636920034919.do) by Jake VanderPlas; the content is available [on GitHub](https://github.com/jakevdp/PythonDataScienceHandbook).*\n",
        "\n",
        "*The text is released under the [CC-BY-NC-ND license](https://creativecommons.org/licenses/by-nc-nd/3.0/us/legalcode), and code is released under the [MIT license](https://opensource.org/licenses/MIT). If you find this content useful, please consider supporting the work by [buying the book](http://shop.oreilly.com/product/0636920034919.do)!*"
      ]
    },
    {
      "cell_type": "markdown",
      "metadata": {
        "id": "1JfZSIyT_Teb"
      },
      "source": [
        "<!--NAVIGATION-->\n",
        "< [Combining Datasets: Concat and Append](03.06-Concat-And-Append.ipynb) | [Contents](Index.ipynb) | [Aggregation and Grouping](03.08-Aggregation-and-Grouping.ipynb) >\n",
        "\n",
        "<a href=\"https://colab.research.google.com/github/jakevdp/PythonDataScienceHandbook/blob/master/notebooks/03.07-Merge-and-Join.ipynb\"><img align=\"left\" src=\"https://colab.research.google.com/assets/colab-badge.svg\" alt=\"Open in Colab\" title=\"Open and Execute in Google Colaboratory\"></a>\n"
      ]
    },
    {
      "cell_type": "markdown",
      "metadata": {
        "id": "_TKIUnmw_Tee"
      },
      "source": [
        "# Combining Datasets: Merge and Join"
      ]
    },
    {
      "cell_type": "markdown",
      "metadata": {
        "id": "FENagF3V_Teg"
      },
      "source": [
        "One essential feature offered by Pandas is its high-performance, in-memory join and merge operations.\n",
        "If you have ever worked with databases, you should be familiar with this type of data interaction.\n",
        "The main interface for this is the ``pd.merge`` function, and we'll see few examples of how this can work in practice.\n",
        "\n",
        "For convenience, we will start by redefining the ``display()`` functionality from the previous section:"
      ]
    },
    {
      "cell_type": "code",
      "execution_count": 1,
      "metadata": {
        "collapsed": true,
        "id": "rLXp4Ama_Tei"
      },
      "outputs": [],
      "source": [
        "import pandas as pd\n",
        "import numpy as np\n",
        "\n",
        "class display(object):\n",
        "    \"\"\"Display HTML representation of multiple objects\"\"\"\n",
        "    template = \"\"\"<div style=\"float: left; padding: 10px;\">\n",
        "    <p style='font-family:\"Courier New\", Courier, monospace'>{0}</p>{1}\n",
        "    </div>\"\"\"\n",
        "    def __init__(self, *args):\n",
        "        self.args = args\n",
        "\n",
        "    def _repr_html_(self):\n",
        "        return '\\n'.join(self.template.format(a, eval(a)._repr_html_())\n",
        "                         for a in self.args)\n",
        "\n",
        "    def __repr__(self):\n",
        "        return '\\n\\n'.join(a + '\\n' + repr(eval(a))\n",
        "                           for a in self.args)"
      ]
    },
    {
      "cell_type": "markdown",
      "metadata": {
        "id": "GLbW_OQS_Tem"
      },
      "source": [
        "## Relational Algebra\n",
        "\n",
        "The behavior implemented in ``pd.merge()`` is a subset of what is known as *relational algebra*, which is a formal set of rules for manipulating relational data, and forms the conceptual foundation of operations available in most databases.\n",
        "The strength of the relational algebra approach is that it proposes several primitive operations, which become the building blocks of more complicated operations on any dataset.\n",
        "With this lexicon of fundamental operations implemented efficiently in a database or other program, a wide range of fairly complicated composite operations can be performed.\n",
        "\n",
        "Pandas implements several of these fundamental building-blocks in the ``pd.merge()`` function and the related ``join()`` method of ``Series`` and ``Dataframe``s.\n",
        "As we will see, these let you efficiently link data from different sources."
      ]
    },
    {
      "cell_type": "markdown",
      "metadata": {
        "id": "l4L6AQ56_Tep"
      },
      "source": [
        "## Categories of Joins\n",
        "\n",
        "The ``pd.merge()`` function implements a number of types of joins: the *one-to-one*, *many-to-one*, and *many-to-many* joins.\n",
        "All three types of joins are accessed via an identical call to the ``pd.merge()`` interface; the type of join performed depends on the form of the input data.\n",
        "Here we will show simple examples of the three types of merges, and discuss detailed options further below."
      ]
    },
    {
      "cell_type": "markdown",
      "metadata": {
        "id": "YZz57qA6_Tes"
      },
      "source": [
        "### One-to-one joins\n",
        "\n",
        "Perhaps the simplest type of merge expresion is the one-to-one join, which is in many ways very similar to the column-wise concatenation seen in [Combining Datasets: Concat & Append](03.06-Concat-And-Append.ipynb).\n",
        "As a concrete example, consider the following two ``DataFrames`` which contain information on several employees in a company:"
      ]
    },
    {
      "cell_type": "code",
      "execution_count": 2,
      "metadata": {
        "colab": {
          "base_uri": "https://localhost:8080/",
          "height": 224
        },
        "id": "WjZ88Jz3_Teu",
        "outputId": "2c9be6e3-b512-4602-abab-4e65a37dccda"
      },
      "outputs": [
        {
          "data": {
            "text/html": [
              "<div style=\"float: left; padding: 10px;\">\n",
              "    <p style='font-family:\"Courier New\", Courier, monospace'>df1</p><div>\n",
              "<style scoped>\n",
              "    .dataframe tbody tr th:only-of-type {\n",
              "        vertical-align: middle;\n",
              "    }\n",
              "\n",
              "    .dataframe tbody tr th {\n",
              "        vertical-align: top;\n",
              "    }\n",
              "\n",
              "    .dataframe thead th {\n",
              "        text-align: right;\n",
              "    }\n",
              "</style>\n",
              "<table border=\"1\" class=\"dataframe\">\n",
              "  <thead>\n",
              "    <tr style=\"text-align: right;\">\n",
              "      <th></th>\n",
              "      <th>employee</th>\n",
              "      <th>group</th>\n",
              "    </tr>\n",
              "  </thead>\n",
              "  <tbody>\n",
              "    <tr>\n",
              "      <th>0</th>\n",
              "      <td>Bob</td>\n",
              "      <td>Accounting</td>\n",
              "    </tr>\n",
              "    <tr>\n",
              "      <th>1</th>\n",
              "      <td>Jake</td>\n",
              "      <td>Engineering</td>\n",
              "    </tr>\n",
              "    <tr>\n",
              "      <th>2</th>\n",
              "      <td>Lisa</td>\n",
              "      <td>Engineering</td>\n",
              "    </tr>\n",
              "    <tr>\n",
              "      <th>3</th>\n",
              "      <td>Sue</td>\n",
              "      <td>HR</td>\n",
              "    </tr>\n",
              "  </tbody>\n",
              "</table>\n",
              "</div>\n",
              "    </div>\n",
              "<div style=\"float: left; padding: 10px;\">\n",
              "    <p style='font-family:\"Courier New\", Courier, monospace'>df2</p><div>\n",
              "<style scoped>\n",
              "    .dataframe tbody tr th:only-of-type {\n",
              "        vertical-align: middle;\n",
              "    }\n",
              "\n",
              "    .dataframe tbody tr th {\n",
              "        vertical-align: top;\n",
              "    }\n",
              "\n",
              "    .dataframe thead th {\n",
              "        text-align: right;\n",
              "    }\n",
              "</style>\n",
              "<table border=\"1\" class=\"dataframe\">\n",
              "  <thead>\n",
              "    <tr style=\"text-align: right;\">\n",
              "      <th></th>\n",
              "      <th>employee</th>\n",
              "      <th>hire_date</th>\n",
              "    </tr>\n",
              "  </thead>\n",
              "  <tbody>\n",
              "    <tr>\n",
              "      <th>0</th>\n",
              "      <td>Lisa</td>\n",
              "      <td>2004</td>\n",
              "    </tr>\n",
              "    <tr>\n",
              "      <th>1</th>\n",
              "      <td>Bob</td>\n",
              "      <td>2008</td>\n",
              "    </tr>\n",
              "    <tr>\n",
              "      <th>2</th>\n",
              "      <td>Jake</td>\n",
              "      <td>2012</td>\n",
              "    </tr>\n",
              "    <tr>\n",
              "      <th>3</th>\n",
              "      <td>Sue</td>\n",
              "      <td>2014</td>\n",
              "    </tr>\n",
              "  </tbody>\n",
              "</table>\n",
              "</div>\n",
              "    </div>"
            ],
            "text/plain": [
              "df1\n",
              "  employee        group\n",
              "0      Bob   Accounting\n",
              "1     Jake  Engineering\n",
              "2     Lisa  Engineering\n",
              "3      Sue           HR\n",
              "\n",
              "df2\n",
              "  employee  hire_date\n",
              "0     Lisa       2004\n",
              "1      Bob       2008\n",
              "2     Jake       2012\n",
              "3      Sue       2014"
            ]
          },
          "execution_count": 2,
          "metadata": {},
          "output_type": "execute_result"
        }
      ],
      "source": [
        "df1 = pd.DataFrame({'employee': ['Bob', 'Jake', 'Lisa', 'Sue'],\n",
        "                    'group': ['Accounting', 'Engineering', 'Engineering', 'HR']})\n",
        "df2 = pd.DataFrame({'employee': ['Lisa', 'Bob', 'Jake', 'Sue'],\n",
        "                    'hire_date': [2004, 2008, 2012, 2014]})\n",
        "display('df1', 'df2')"
      ]
    },
    {
      "cell_type": "markdown",
      "metadata": {
        "id": "lH8EXgIV_Tez"
      },
      "source": [
        "To combine this information into a single ``DataFrame``, we can use the ``pd.merge()`` function:"
      ]
    },
    {
      "cell_type": "code",
      "execution_count": 3,
      "metadata": {
        "colab": {
          "base_uri": "https://localhost:8080/",
          "height": 174
        },
        "id": "2c4Icr3P_Te0",
        "outputId": "cfd8b538-fcf5-4766-91e8-8a00a2a9bcb2"
      },
      "outputs": [
        {
          "data": {
            "text/html": [
              "<div>\n",
              "<style scoped>\n",
              "    .dataframe tbody tr th:only-of-type {\n",
              "        vertical-align: middle;\n",
              "    }\n",
              "\n",
              "    .dataframe tbody tr th {\n",
              "        vertical-align: top;\n",
              "    }\n",
              "\n",
              "    .dataframe thead th {\n",
              "        text-align: right;\n",
              "    }\n",
              "</style>\n",
              "<table border=\"1\" class=\"dataframe\">\n",
              "  <thead>\n",
              "    <tr style=\"text-align: right;\">\n",
              "      <th></th>\n",
              "      <th>employee</th>\n",
              "      <th>group</th>\n",
              "      <th>hire_date</th>\n",
              "    </tr>\n",
              "  </thead>\n",
              "  <tbody>\n",
              "    <tr>\n",
              "      <th>0</th>\n",
              "      <td>Bob</td>\n",
              "      <td>Accounting</td>\n",
              "      <td>2008</td>\n",
              "    </tr>\n",
              "    <tr>\n",
              "      <th>1</th>\n",
              "      <td>Jake</td>\n",
              "      <td>Engineering</td>\n",
              "      <td>2012</td>\n",
              "    </tr>\n",
              "    <tr>\n",
              "      <th>2</th>\n",
              "      <td>Lisa</td>\n",
              "      <td>Engineering</td>\n",
              "      <td>2004</td>\n",
              "    </tr>\n",
              "    <tr>\n",
              "      <th>3</th>\n",
              "      <td>Sue</td>\n",
              "      <td>HR</td>\n",
              "      <td>2014</td>\n",
              "    </tr>\n",
              "  </tbody>\n",
              "</table>\n",
              "</div>"
            ],
            "text/plain": [
              "  employee        group  hire_date\n",
              "0      Bob   Accounting       2008\n",
              "1     Jake  Engineering       2012\n",
              "2     Lisa  Engineering       2004\n",
              "3      Sue           HR       2014"
            ]
          },
          "execution_count": 3,
          "metadata": {},
          "output_type": "execute_result"
        }
      ],
      "source": [
        "df3 = pd.merge(df1, df2)\n",
        "df3"
      ]
    },
    {
      "cell_type": "markdown",
      "metadata": {
        "id": "kH6exuvR_Te2"
      },
      "source": [
        "The ``pd.merge()`` function recognizes that each ``DataFrame`` has an \"employee\" column, and automatically joins using this column as a key.\n",
        "The result of the merge is a new ``DataFrame`` that combines the information from the two inputs.\n",
        "Notice that the order of entries in each column is not necessarily maintained: in this case, the order of the \"employee\" column differs between ``df1`` and ``df2``, and the ``pd.merge()`` function correctly accounts for this.\n",
        "Additionally, keep in mind that the merge in general discards the index, except in the special case of merges by index (see the ``left_index`` and ``right_index`` keywords, discussed momentarily)."
      ]
    },
    {
      "cell_type": "markdown",
      "metadata": {
        "id": "y8KWZTfU_Te4"
      },
      "source": [
        "### Many-to-one joins"
      ]
    },
    {
      "cell_type": "markdown",
      "metadata": {
        "id": "wLZzbOzU_Te5"
      },
      "source": [
        "Many-to-one joins are joins in which one of the two key columns contains duplicate entries.\n",
        "For the many-to-one case, the resulting ``DataFrame`` will preserve those duplicate entries as appropriate.\n",
        "Consider the following example of a many-to-one join:"
      ]
    },
    {
      "cell_type": "code",
      "execution_count": 4,
      "metadata": {
        "colab": {
          "base_uri": "https://localhost:8080/",
          "height": 224
        },
        "id": "Qvv-OojD_Te6",
        "outputId": "62b8b16d-c090-4807-c9a5-bc5c5f5fea4e"
      },
      "outputs": [
        {
          "data": {
            "text/html": [
              "<div style=\"float: left; padding: 10px;\">\n",
              "    <p style='font-family:\"Courier New\", Courier, monospace'>df3</p><div>\n",
              "<style scoped>\n",
              "    .dataframe tbody tr th:only-of-type {\n",
              "        vertical-align: middle;\n",
              "    }\n",
              "\n",
              "    .dataframe tbody tr th {\n",
              "        vertical-align: top;\n",
              "    }\n",
              "\n",
              "    .dataframe thead th {\n",
              "        text-align: right;\n",
              "    }\n",
              "</style>\n",
              "<table border=\"1\" class=\"dataframe\">\n",
              "  <thead>\n",
              "    <tr style=\"text-align: right;\">\n",
              "      <th></th>\n",
              "      <th>employee</th>\n",
              "      <th>group</th>\n",
              "      <th>hire_date</th>\n",
              "    </tr>\n",
              "  </thead>\n",
              "  <tbody>\n",
              "    <tr>\n",
              "      <th>0</th>\n",
              "      <td>Bob</td>\n",
              "      <td>Accounting</td>\n",
              "      <td>2008</td>\n",
              "    </tr>\n",
              "    <tr>\n",
              "      <th>1</th>\n",
              "      <td>Jake</td>\n",
              "      <td>Engineering</td>\n",
              "      <td>2012</td>\n",
              "    </tr>\n",
              "    <tr>\n",
              "      <th>2</th>\n",
              "      <td>Lisa</td>\n",
              "      <td>Engineering</td>\n",
              "      <td>2004</td>\n",
              "    </tr>\n",
              "    <tr>\n",
              "      <th>3</th>\n",
              "      <td>Sue</td>\n",
              "      <td>HR</td>\n",
              "      <td>2014</td>\n",
              "    </tr>\n",
              "  </tbody>\n",
              "</table>\n",
              "</div>\n",
              "    </div>\n",
              "<div style=\"float: left; padding: 10px;\">\n",
              "    <p style='font-family:\"Courier New\", Courier, monospace'>df4</p><div>\n",
              "<style scoped>\n",
              "    .dataframe tbody tr th:only-of-type {\n",
              "        vertical-align: middle;\n",
              "    }\n",
              "\n",
              "    .dataframe tbody tr th {\n",
              "        vertical-align: top;\n",
              "    }\n",
              "\n",
              "    .dataframe thead th {\n",
              "        text-align: right;\n",
              "    }\n",
              "</style>\n",
              "<table border=\"1\" class=\"dataframe\">\n",
              "  <thead>\n",
              "    <tr style=\"text-align: right;\">\n",
              "      <th></th>\n",
              "      <th>group</th>\n",
              "      <th>supervisor</th>\n",
              "    </tr>\n",
              "  </thead>\n",
              "  <tbody>\n",
              "    <tr>\n",
              "      <th>0</th>\n",
              "      <td>Accounting</td>\n",
              "      <td>Carly</td>\n",
              "    </tr>\n",
              "    <tr>\n",
              "      <th>1</th>\n",
              "      <td>Engineering</td>\n",
              "      <td>Guido</td>\n",
              "    </tr>\n",
              "    <tr>\n",
              "      <th>2</th>\n",
              "      <td>HR</td>\n",
              "      <td>Steve</td>\n",
              "    </tr>\n",
              "  </tbody>\n",
              "</table>\n",
              "</div>\n",
              "    </div>\n",
              "<div style=\"float: left; padding: 10px;\">\n",
              "    <p style='font-family:\"Courier New\", Courier, monospace'>pd.merge(df3, df4)</p><div>\n",
              "<style scoped>\n",
              "    .dataframe tbody tr th:only-of-type {\n",
              "        vertical-align: middle;\n",
              "    }\n",
              "\n",
              "    .dataframe tbody tr th {\n",
              "        vertical-align: top;\n",
              "    }\n",
              "\n",
              "    .dataframe thead th {\n",
              "        text-align: right;\n",
              "    }\n",
              "</style>\n",
              "<table border=\"1\" class=\"dataframe\">\n",
              "  <thead>\n",
              "    <tr style=\"text-align: right;\">\n",
              "      <th></th>\n",
              "      <th>employee</th>\n",
              "      <th>group</th>\n",
              "      <th>hire_date</th>\n",
              "      <th>supervisor</th>\n",
              "    </tr>\n",
              "  </thead>\n",
              "  <tbody>\n",
              "    <tr>\n",
              "      <th>0</th>\n",
              "      <td>Bob</td>\n",
              "      <td>Accounting</td>\n",
              "      <td>2008</td>\n",
              "      <td>Carly</td>\n",
              "    </tr>\n",
              "    <tr>\n",
              "      <th>1</th>\n",
              "      <td>Jake</td>\n",
              "      <td>Engineering</td>\n",
              "      <td>2012</td>\n",
              "      <td>Guido</td>\n",
              "    </tr>\n",
              "    <tr>\n",
              "      <th>2</th>\n",
              "      <td>Lisa</td>\n",
              "      <td>Engineering</td>\n",
              "      <td>2004</td>\n",
              "      <td>Guido</td>\n",
              "    </tr>\n",
              "    <tr>\n",
              "      <th>3</th>\n",
              "      <td>Sue</td>\n",
              "      <td>HR</td>\n",
              "      <td>2014</td>\n",
              "      <td>Steve</td>\n",
              "    </tr>\n",
              "  </tbody>\n",
              "</table>\n",
              "</div>\n",
              "    </div>"
            ],
            "text/plain": [
              "df3\n",
              "  employee        group  hire_date\n",
              "0      Bob   Accounting       2008\n",
              "1     Jake  Engineering       2012\n",
              "2     Lisa  Engineering       2004\n",
              "3      Sue           HR       2014\n",
              "\n",
              "df4\n",
              "         group supervisor\n",
              "0   Accounting      Carly\n",
              "1  Engineering      Guido\n",
              "2           HR      Steve\n",
              "\n",
              "pd.merge(df3, df4)\n",
              "  employee        group  hire_date supervisor\n",
              "0      Bob   Accounting       2008      Carly\n",
              "1     Jake  Engineering       2012      Guido\n",
              "2     Lisa  Engineering       2004      Guido\n",
              "3      Sue           HR       2014      Steve"
            ]
          },
          "execution_count": 4,
          "metadata": {},
          "output_type": "execute_result"
        }
      ],
      "source": [
        "df4 = pd.DataFrame({'group': ['Accounting', 'Engineering', 'HR'],\n",
        "                    'supervisor': ['Carly', 'Guido', 'Steve']})\n",
        "display('df3', 'df4', 'pd.merge(df3, df4)')"
      ]
    },
    {
      "cell_type": "markdown",
      "metadata": {
        "id": "nITC7_La_Te8"
      },
      "source": [
        "The resulting ``DataFrame`` has an aditional column with the \"supervisor\" information, where the information is repeated in one or more locations as required by the inputs."
      ]
    },
    {
      "cell_type": "markdown",
      "metadata": {
        "id": "sk2c96_L_Te9"
      },
      "source": [
        "### Many-to-many joins"
      ]
    },
    {
      "cell_type": "markdown",
      "metadata": {
        "id": "HQBN0CEv_Te9"
      },
      "source": [
        "Many-to-many joins are a bit confusing conceptually, but are nevertheless well defined.\n",
        "If the key column in both the left and right array contains duplicates, then the result is a many-to-many merge.\n",
        "This will be perhaps most clear with a concrete example.\n",
        "Consider the following, where we have a ``DataFrame`` showing one or more skills associated with a particular group.\n",
        "By performing a many-to-many join, we can recover the skills associated with any individual person:"
      ]
    },
    {
      "cell_type": "code",
      "execution_count": 5,
      "metadata": {
        "colab": {
          "base_uri": "https://localhost:8080/",
          "height": 349
        },
        "id": "8r0xuycK_Te-",
        "outputId": "1c1da0ae-063b-4a47-a423-223811f54327"
      },
      "outputs": [
        {
          "data": {
            "text/html": [
              "<div style=\"float: left; padding: 10px;\">\n",
              "    <p style='font-family:\"Courier New\", Courier, monospace'>df1</p><div>\n",
              "<style scoped>\n",
              "    .dataframe tbody tr th:only-of-type {\n",
              "        vertical-align: middle;\n",
              "    }\n",
              "\n",
              "    .dataframe tbody tr th {\n",
              "        vertical-align: top;\n",
              "    }\n",
              "\n",
              "    .dataframe thead th {\n",
              "        text-align: right;\n",
              "    }\n",
              "</style>\n",
              "<table border=\"1\" class=\"dataframe\">\n",
              "  <thead>\n",
              "    <tr style=\"text-align: right;\">\n",
              "      <th></th>\n",
              "      <th>employee</th>\n",
              "      <th>group</th>\n",
              "    </tr>\n",
              "  </thead>\n",
              "  <tbody>\n",
              "    <tr>\n",
              "      <th>0</th>\n",
              "      <td>Bob</td>\n",
              "      <td>Accounting</td>\n",
              "    </tr>\n",
              "    <tr>\n",
              "      <th>1</th>\n",
              "      <td>Jake</td>\n",
              "      <td>Engineering</td>\n",
              "    </tr>\n",
              "    <tr>\n",
              "      <th>2</th>\n",
              "      <td>Lisa</td>\n",
              "      <td>Engineering</td>\n",
              "    </tr>\n",
              "    <tr>\n",
              "      <th>3</th>\n",
              "      <td>Sue</td>\n",
              "      <td>HR</td>\n",
              "    </tr>\n",
              "  </tbody>\n",
              "</table>\n",
              "</div>\n",
              "    </div>\n",
              "<div style=\"float: left; padding: 10px;\">\n",
              "    <p style='font-family:\"Courier New\", Courier, monospace'>df5</p><div>\n",
              "<style scoped>\n",
              "    .dataframe tbody tr th:only-of-type {\n",
              "        vertical-align: middle;\n",
              "    }\n",
              "\n",
              "    .dataframe tbody tr th {\n",
              "        vertical-align: top;\n",
              "    }\n",
              "\n",
              "    .dataframe thead th {\n",
              "        text-align: right;\n",
              "    }\n",
              "</style>\n",
              "<table border=\"1\" class=\"dataframe\">\n",
              "  <thead>\n",
              "    <tr style=\"text-align: right;\">\n",
              "      <th></th>\n",
              "      <th>group</th>\n",
              "      <th>skills</th>\n",
              "    </tr>\n",
              "  </thead>\n",
              "  <tbody>\n",
              "    <tr>\n",
              "      <th>0</th>\n",
              "      <td>Accounting</td>\n",
              "      <td>math</td>\n",
              "    </tr>\n",
              "    <tr>\n",
              "      <th>1</th>\n",
              "      <td>Accounting</td>\n",
              "      <td>spreadsheets</td>\n",
              "    </tr>\n",
              "    <tr>\n",
              "      <th>2</th>\n",
              "      <td>Engineering</td>\n",
              "      <td>coding</td>\n",
              "    </tr>\n",
              "    <tr>\n",
              "      <th>3</th>\n",
              "      <td>Engineering</td>\n",
              "      <td>linux</td>\n",
              "    </tr>\n",
              "    <tr>\n",
              "      <th>4</th>\n",
              "      <td>HR</td>\n",
              "      <td>spreadsheets</td>\n",
              "    </tr>\n",
              "    <tr>\n",
              "      <th>5</th>\n",
              "      <td>HR</td>\n",
              "      <td>organization</td>\n",
              "    </tr>\n",
              "  </tbody>\n",
              "</table>\n",
              "</div>\n",
              "    </div>\n",
              "<div style=\"float: left; padding: 10px;\">\n",
              "    <p style='font-family:\"Courier New\", Courier, monospace'>pd.merge(df1, df5)</p><div>\n",
              "<style scoped>\n",
              "    .dataframe tbody tr th:only-of-type {\n",
              "        vertical-align: middle;\n",
              "    }\n",
              "\n",
              "    .dataframe tbody tr th {\n",
              "        vertical-align: top;\n",
              "    }\n",
              "\n",
              "    .dataframe thead th {\n",
              "        text-align: right;\n",
              "    }\n",
              "</style>\n",
              "<table border=\"1\" class=\"dataframe\">\n",
              "  <thead>\n",
              "    <tr style=\"text-align: right;\">\n",
              "      <th></th>\n",
              "      <th>employee</th>\n",
              "      <th>group</th>\n",
              "      <th>skills</th>\n",
              "    </tr>\n",
              "  </thead>\n",
              "  <tbody>\n",
              "    <tr>\n",
              "      <th>0</th>\n",
              "      <td>Bob</td>\n",
              "      <td>Accounting</td>\n",
              "      <td>math</td>\n",
              "    </tr>\n",
              "    <tr>\n",
              "      <th>1</th>\n",
              "      <td>Bob</td>\n",
              "      <td>Accounting</td>\n",
              "      <td>spreadsheets</td>\n",
              "    </tr>\n",
              "    <tr>\n",
              "      <th>2</th>\n",
              "      <td>Jake</td>\n",
              "      <td>Engineering</td>\n",
              "      <td>coding</td>\n",
              "    </tr>\n",
              "    <tr>\n",
              "      <th>3</th>\n",
              "      <td>Jake</td>\n",
              "      <td>Engineering</td>\n",
              "      <td>linux</td>\n",
              "    </tr>\n",
              "    <tr>\n",
              "      <th>4</th>\n",
              "      <td>Lisa</td>\n",
              "      <td>Engineering</td>\n",
              "      <td>coding</td>\n",
              "    </tr>\n",
              "    <tr>\n",
              "      <th>5</th>\n",
              "      <td>Lisa</td>\n",
              "      <td>Engineering</td>\n",
              "      <td>linux</td>\n",
              "    </tr>\n",
              "    <tr>\n",
              "      <th>6</th>\n",
              "      <td>Sue</td>\n",
              "      <td>HR</td>\n",
              "      <td>spreadsheets</td>\n",
              "    </tr>\n",
              "    <tr>\n",
              "      <th>7</th>\n",
              "      <td>Sue</td>\n",
              "      <td>HR</td>\n",
              "      <td>organization</td>\n",
              "    </tr>\n",
              "  </tbody>\n",
              "</table>\n",
              "</div>\n",
              "    </div>"
            ],
            "text/plain": [
              "df1\n",
              "  employee        group\n",
              "0      Bob   Accounting\n",
              "1     Jake  Engineering\n",
              "2     Lisa  Engineering\n",
              "3      Sue           HR\n",
              "\n",
              "df5\n",
              "         group        skills\n",
              "0   Accounting          math\n",
              "1   Accounting  spreadsheets\n",
              "2  Engineering        coding\n",
              "3  Engineering         linux\n",
              "4           HR  spreadsheets\n",
              "5           HR  organization\n",
              "\n",
              "pd.merge(df1, df5)\n",
              "  employee        group        skills\n",
              "0      Bob   Accounting          math\n",
              "1      Bob   Accounting  spreadsheets\n",
              "2     Jake  Engineering        coding\n",
              "3     Jake  Engineering         linux\n",
              "4     Lisa  Engineering        coding\n",
              "5     Lisa  Engineering         linux\n",
              "6      Sue           HR  spreadsheets\n",
              "7      Sue           HR  organization"
            ]
          },
          "execution_count": 5,
          "metadata": {},
          "output_type": "execute_result"
        }
      ],
      "source": [
        "df5 = pd.DataFrame({'group': ['Accounting', 'Accounting',\n",
        "                              'Engineering', 'Engineering', 'HR', 'HR'],\n",
        "                    'skills': ['math', 'spreadsheets', 'coding', 'linux',\n",
        "                               'spreadsheets', 'organization']})\n",
        "display('df1', 'df5', \"pd.merge(df1, df5)\")"
      ]
    },
    {
      "cell_type": "markdown",
      "metadata": {
        "id": "Xr3Esxtc_Te_"
      },
      "source": [
        "These three types of joins can be used with other Pandas tools to implement a wide array of functionality.\n",
        "But in practice, datasets are rarely as clean as the one we're working with here.\n",
        "In the following section we'll consider some of the options provided by ``pd.merge()`` that enable you to tune how the join operations work."
      ]
    },
    {
      "cell_type": "markdown",
      "metadata": {
        "id": "wSp69Pou_TfA"
      },
      "source": [
        "## Specification of the Merge Key (Point to discuss)"
      ]
    },
    {
      "cell_type": "markdown",
      "metadata": {
        "id": "NZjaCx8Z_TfB"
      },
      "source": [
        "We've already seen the default behavior of ``pd.merge()``: it looks for one or more matching column names between the two inputs, and uses this as the key.\n",
        "However, often the column names will not match so nicely, and ``pd.merge()`` provides a variety of options for handling this."
      ]
    },
    {
      "cell_type": "markdown",
      "metadata": {
        "id": "Dg5SMiU2_TfC"
      },
      "source": [
        "### The ``on`` keyword\n",
        "\n",
        "Most simply, you can explicitly specify the name of the key column using the ``on`` keyword, which takes a column name or a list of column names:"
      ]
    },
    {
      "cell_type": "code",
      "execution_count": 6,
      "metadata": {
        "colab": {
          "base_uri": "https://localhost:8080/",
          "height": 224
        },
        "id": "XndD2Vb2_TfD",
        "outputId": "fa0d3ec6-0f92-465b-a0a2-bd2cf8932451"
      },
      "outputs": [
        {
          "data": {
            "text/html": [
              "<div style=\"float: left; padding: 10px;\">\n",
              "    <p style='font-family:\"Courier New\", Courier, monospace'>df1</p><div>\n",
              "<style scoped>\n",
              "    .dataframe tbody tr th:only-of-type {\n",
              "        vertical-align: middle;\n",
              "    }\n",
              "\n",
              "    .dataframe tbody tr th {\n",
              "        vertical-align: top;\n",
              "    }\n",
              "\n",
              "    .dataframe thead th {\n",
              "        text-align: right;\n",
              "    }\n",
              "</style>\n",
              "<table border=\"1\" class=\"dataframe\">\n",
              "  <thead>\n",
              "    <tr style=\"text-align: right;\">\n",
              "      <th></th>\n",
              "      <th>employee</th>\n",
              "      <th>group</th>\n",
              "    </tr>\n",
              "  </thead>\n",
              "  <tbody>\n",
              "    <tr>\n",
              "      <th>0</th>\n",
              "      <td>Bob</td>\n",
              "      <td>Accounting</td>\n",
              "    </tr>\n",
              "    <tr>\n",
              "      <th>1</th>\n",
              "      <td>Jake</td>\n",
              "      <td>Engineering</td>\n",
              "    </tr>\n",
              "    <tr>\n",
              "      <th>2</th>\n",
              "      <td>Lisa</td>\n",
              "      <td>Engineering</td>\n",
              "    </tr>\n",
              "    <tr>\n",
              "      <th>3</th>\n",
              "      <td>Sue</td>\n",
              "      <td>HR</td>\n",
              "    </tr>\n",
              "  </tbody>\n",
              "</table>\n",
              "</div>\n",
              "    </div>\n",
              "<div style=\"float: left; padding: 10px;\">\n",
              "    <p style='font-family:\"Courier New\", Courier, monospace'>df2</p><div>\n",
              "<style scoped>\n",
              "    .dataframe tbody tr th:only-of-type {\n",
              "        vertical-align: middle;\n",
              "    }\n",
              "\n",
              "    .dataframe tbody tr th {\n",
              "        vertical-align: top;\n",
              "    }\n",
              "\n",
              "    .dataframe thead th {\n",
              "        text-align: right;\n",
              "    }\n",
              "</style>\n",
              "<table border=\"1\" class=\"dataframe\">\n",
              "  <thead>\n",
              "    <tr style=\"text-align: right;\">\n",
              "      <th></th>\n",
              "      <th>employee</th>\n",
              "      <th>hire_date</th>\n",
              "    </tr>\n",
              "  </thead>\n",
              "  <tbody>\n",
              "    <tr>\n",
              "      <th>0</th>\n",
              "      <td>Lisa</td>\n",
              "      <td>2004</td>\n",
              "    </tr>\n",
              "    <tr>\n",
              "      <th>1</th>\n",
              "      <td>Bob</td>\n",
              "      <td>2008</td>\n",
              "    </tr>\n",
              "    <tr>\n",
              "      <th>2</th>\n",
              "      <td>Jake</td>\n",
              "      <td>2012</td>\n",
              "    </tr>\n",
              "    <tr>\n",
              "      <th>3</th>\n",
              "      <td>Sue</td>\n",
              "      <td>2014</td>\n",
              "    </tr>\n",
              "  </tbody>\n",
              "</table>\n",
              "</div>\n",
              "    </div>\n",
              "<div style=\"float: left; padding: 10px;\">\n",
              "    <p style='font-family:\"Courier New\", Courier, monospace'>pd.merge(df1, df2, on='employee')</p><div>\n",
              "<style scoped>\n",
              "    .dataframe tbody tr th:only-of-type {\n",
              "        vertical-align: middle;\n",
              "    }\n",
              "\n",
              "    .dataframe tbody tr th {\n",
              "        vertical-align: top;\n",
              "    }\n",
              "\n",
              "    .dataframe thead th {\n",
              "        text-align: right;\n",
              "    }\n",
              "</style>\n",
              "<table border=\"1\" class=\"dataframe\">\n",
              "  <thead>\n",
              "    <tr style=\"text-align: right;\">\n",
              "      <th></th>\n",
              "      <th>employee</th>\n",
              "      <th>group</th>\n",
              "      <th>hire_date</th>\n",
              "    </tr>\n",
              "  </thead>\n",
              "  <tbody>\n",
              "    <tr>\n",
              "      <th>0</th>\n",
              "      <td>Bob</td>\n",
              "      <td>Accounting</td>\n",
              "      <td>2008</td>\n",
              "    </tr>\n",
              "    <tr>\n",
              "      <th>1</th>\n",
              "      <td>Jake</td>\n",
              "      <td>Engineering</td>\n",
              "      <td>2012</td>\n",
              "    </tr>\n",
              "    <tr>\n",
              "      <th>2</th>\n",
              "      <td>Lisa</td>\n",
              "      <td>Engineering</td>\n",
              "      <td>2004</td>\n",
              "    </tr>\n",
              "    <tr>\n",
              "      <th>3</th>\n",
              "      <td>Sue</td>\n",
              "      <td>HR</td>\n",
              "      <td>2014</td>\n",
              "    </tr>\n",
              "  </tbody>\n",
              "</table>\n",
              "</div>\n",
              "    </div>"
            ],
            "text/plain": [
              "df1\n",
              "  employee        group\n",
              "0      Bob   Accounting\n",
              "1     Jake  Engineering\n",
              "2     Lisa  Engineering\n",
              "3      Sue           HR\n",
              "\n",
              "df2\n",
              "  employee  hire_date\n",
              "0     Lisa       2004\n",
              "1      Bob       2008\n",
              "2     Jake       2012\n",
              "3      Sue       2014\n",
              "\n",
              "pd.merge(df1, df2, on='employee')\n",
              "  employee        group  hire_date\n",
              "0      Bob   Accounting       2008\n",
              "1     Jake  Engineering       2012\n",
              "2     Lisa  Engineering       2004\n",
              "3      Sue           HR       2014"
            ]
          },
          "execution_count": 6,
          "metadata": {},
          "output_type": "execute_result"
        }
      ],
      "source": [
        "display('df1', 'df2', \"pd.merge(df1, df2, on='employee')\")"
      ]
    },
    {
      "cell_type": "markdown",
      "metadata": {
        "id": "CtOWeKuQ_TfE"
      },
      "source": [
        "This option works only if both the left and right ``DataFrame``s have the specified column name."
      ]
    },
    {
      "cell_type": "markdown",
      "metadata": {
        "id": "y2vUIO_A_TfF"
      },
      "source": [
        "### The ``left_on`` and ``right_on`` keywords\n",
        "\n",
        "At times you may wish to merge two datasets with different column names; for example, we may have a dataset in which the employee name is labeled as \"name\" rather than \"employee\".\n",
        "In this case, we can use the ``left_on`` and ``right_on`` keywords to specify the two column names:"
      ]
    },
    {
      "cell_type": "code",
      "execution_count": 7,
      "metadata": {
        "colab": {
          "base_uri": "https://localhost:8080/",
          "height": 224
        },
        "id": "ITJJjEcx_TfF",
        "outputId": "8e4036de-d3e5-4aeb-fade-5d0daf611700"
      },
      "outputs": [
        {
          "data": {
            "text/html": [
              "<div style=\"float: left; padding: 10px;\">\n",
              "    <p style='font-family:\"Courier New\", Courier, monospace'>df1</p><div>\n",
              "<style scoped>\n",
              "    .dataframe tbody tr th:only-of-type {\n",
              "        vertical-align: middle;\n",
              "    }\n",
              "\n",
              "    .dataframe tbody tr th {\n",
              "        vertical-align: top;\n",
              "    }\n",
              "\n",
              "    .dataframe thead th {\n",
              "        text-align: right;\n",
              "    }\n",
              "</style>\n",
              "<table border=\"1\" class=\"dataframe\">\n",
              "  <thead>\n",
              "    <tr style=\"text-align: right;\">\n",
              "      <th></th>\n",
              "      <th>employee</th>\n",
              "      <th>group</th>\n",
              "    </tr>\n",
              "  </thead>\n",
              "  <tbody>\n",
              "    <tr>\n",
              "      <th>0</th>\n",
              "      <td>Bob</td>\n",
              "      <td>Accounting</td>\n",
              "    </tr>\n",
              "    <tr>\n",
              "      <th>1</th>\n",
              "      <td>Jake</td>\n",
              "      <td>Engineering</td>\n",
              "    </tr>\n",
              "    <tr>\n",
              "      <th>2</th>\n",
              "      <td>Lisa</td>\n",
              "      <td>Engineering</td>\n",
              "    </tr>\n",
              "    <tr>\n",
              "      <th>3</th>\n",
              "      <td>Sue</td>\n",
              "      <td>HR</td>\n",
              "    </tr>\n",
              "  </tbody>\n",
              "</table>\n",
              "</div>\n",
              "    </div>\n",
              "<div style=\"float: left; padding: 10px;\">\n",
              "    <p style='font-family:\"Courier New\", Courier, monospace'>df3</p><div>\n",
              "<style scoped>\n",
              "    .dataframe tbody tr th:only-of-type {\n",
              "        vertical-align: middle;\n",
              "    }\n",
              "\n",
              "    .dataframe tbody tr th {\n",
              "        vertical-align: top;\n",
              "    }\n",
              "\n",
              "    .dataframe thead th {\n",
              "        text-align: right;\n",
              "    }\n",
              "</style>\n",
              "<table border=\"1\" class=\"dataframe\">\n",
              "  <thead>\n",
              "    <tr style=\"text-align: right;\">\n",
              "      <th></th>\n",
              "      <th>name</th>\n",
              "      <th>salary</th>\n",
              "    </tr>\n",
              "  </thead>\n",
              "  <tbody>\n",
              "    <tr>\n",
              "      <th>0</th>\n",
              "      <td>Bob</td>\n",
              "      <td>70000</td>\n",
              "    </tr>\n",
              "    <tr>\n",
              "      <th>1</th>\n",
              "      <td>Jake</td>\n",
              "      <td>80000</td>\n",
              "    </tr>\n",
              "    <tr>\n",
              "      <th>2</th>\n",
              "      <td>Lisa</td>\n",
              "      <td>120000</td>\n",
              "    </tr>\n",
              "    <tr>\n",
              "      <th>3</th>\n",
              "      <td>Sue</td>\n",
              "      <td>90000</td>\n",
              "    </tr>\n",
              "  </tbody>\n",
              "</table>\n",
              "</div>\n",
              "    </div>\n",
              "<div style=\"float: left; padding: 10px;\">\n",
              "    <p style='font-family:\"Courier New\", Courier, monospace'>pd.merge(df1, df3, left_on=\"employee\", right_on=\"name\")</p><div>\n",
              "<style scoped>\n",
              "    .dataframe tbody tr th:only-of-type {\n",
              "        vertical-align: middle;\n",
              "    }\n",
              "\n",
              "    .dataframe tbody tr th {\n",
              "        vertical-align: top;\n",
              "    }\n",
              "\n",
              "    .dataframe thead th {\n",
              "        text-align: right;\n",
              "    }\n",
              "</style>\n",
              "<table border=\"1\" class=\"dataframe\">\n",
              "  <thead>\n",
              "    <tr style=\"text-align: right;\">\n",
              "      <th></th>\n",
              "      <th>employee</th>\n",
              "      <th>group</th>\n",
              "      <th>name</th>\n",
              "      <th>salary</th>\n",
              "    </tr>\n",
              "  </thead>\n",
              "  <tbody>\n",
              "    <tr>\n",
              "      <th>0</th>\n",
              "      <td>Bob</td>\n",
              "      <td>Accounting</td>\n",
              "      <td>Bob</td>\n",
              "      <td>70000</td>\n",
              "    </tr>\n",
              "    <tr>\n",
              "      <th>1</th>\n",
              "      <td>Jake</td>\n",
              "      <td>Engineering</td>\n",
              "      <td>Jake</td>\n",
              "      <td>80000</td>\n",
              "    </tr>\n",
              "    <tr>\n",
              "      <th>2</th>\n",
              "      <td>Lisa</td>\n",
              "      <td>Engineering</td>\n",
              "      <td>Lisa</td>\n",
              "      <td>120000</td>\n",
              "    </tr>\n",
              "    <tr>\n",
              "      <th>3</th>\n",
              "      <td>Sue</td>\n",
              "      <td>HR</td>\n",
              "      <td>Sue</td>\n",
              "      <td>90000</td>\n",
              "    </tr>\n",
              "  </tbody>\n",
              "</table>\n",
              "</div>\n",
              "    </div>"
            ],
            "text/plain": [
              "df1\n",
              "  employee        group\n",
              "0      Bob   Accounting\n",
              "1     Jake  Engineering\n",
              "2     Lisa  Engineering\n",
              "3      Sue           HR\n",
              "\n",
              "df3\n",
              "   name  salary\n",
              "0   Bob   70000\n",
              "1  Jake   80000\n",
              "2  Lisa  120000\n",
              "3   Sue   90000\n",
              "\n",
              "pd.merge(df1, df3, left_on=\"employee\", right_on=\"name\")\n",
              "  employee        group  name  salary\n",
              "0      Bob   Accounting   Bob   70000\n",
              "1     Jake  Engineering  Jake   80000\n",
              "2     Lisa  Engineering  Lisa  120000\n",
              "3      Sue           HR   Sue   90000"
            ]
          },
          "execution_count": 7,
          "metadata": {},
          "output_type": "execute_result"
        }
      ],
      "source": [
        "df3 = pd.DataFrame({'name': ['Bob', 'Jake', 'Lisa', 'Sue'],\n",
        "                    'salary': [70000, 80000, 120000, 90000]})\n",
        "display('df1', 'df3', 'pd.merge(df1, df3, left_on=\"employee\", right_on=\"name\")')"
      ]
    },
    {
      "cell_type": "markdown",
      "metadata": {
        "id": "nFrvSfB5_TfG"
      },
      "source": [
        "The result has a redundant column that we can drop if desired–for example, by using the ``drop()`` method of ``DataFrame``s:"
      ]
    },
    {
      "cell_type": "code",
      "execution_count": 8,
      "metadata": {
        "colab": {
          "base_uri": "https://localhost:8080/",
          "height": 174
        },
        "id": "HXn8zW5p_TfH",
        "outputId": "75493399-af16-4645-ee02-fc4a0df2f00d"
      },
      "outputs": [
        {
          "data": {
            "text/html": [
              "<div>\n",
              "<style scoped>\n",
              "    .dataframe tbody tr th:only-of-type {\n",
              "        vertical-align: middle;\n",
              "    }\n",
              "\n",
              "    .dataframe tbody tr th {\n",
              "        vertical-align: top;\n",
              "    }\n",
              "\n",
              "    .dataframe thead th {\n",
              "        text-align: right;\n",
              "    }\n",
              "</style>\n",
              "<table border=\"1\" class=\"dataframe\">\n",
              "  <thead>\n",
              "    <tr style=\"text-align: right;\">\n",
              "      <th></th>\n",
              "      <th>employee</th>\n",
              "      <th>group</th>\n",
              "      <th>salary</th>\n",
              "    </tr>\n",
              "  </thead>\n",
              "  <tbody>\n",
              "    <tr>\n",
              "      <th>0</th>\n",
              "      <td>Bob</td>\n",
              "      <td>Accounting</td>\n",
              "      <td>70000</td>\n",
              "    </tr>\n",
              "    <tr>\n",
              "      <th>1</th>\n",
              "      <td>Jake</td>\n",
              "      <td>Engineering</td>\n",
              "      <td>80000</td>\n",
              "    </tr>\n",
              "    <tr>\n",
              "      <th>2</th>\n",
              "      <td>Lisa</td>\n",
              "      <td>Engineering</td>\n",
              "      <td>120000</td>\n",
              "    </tr>\n",
              "    <tr>\n",
              "      <th>3</th>\n",
              "      <td>Sue</td>\n",
              "      <td>HR</td>\n",
              "      <td>90000</td>\n",
              "    </tr>\n",
              "  </tbody>\n",
              "</table>\n",
              "</div>"
            ],
            "text/plain": [
              "  employee        group  salary\n",
              "0      Bob   Accounting   70000\n",
              "1     Jake  Engineering   80000\n",
              "2     Lisa  Engineering  120000\n",
              "3      Sue           HR   90000"
            ]
          },
          "execution_count": 8,
          "metadata": {},
          "output_type": "execute_result"
        }
      ],
      "source": [
        "#  In pandas, axis=0 refers to rows, and axis=1 refers to columns.\n",
        "pd.merge(df1, df3, left_on=\"employee\", right_on=\"name\").drop('name', axis=1)"
      ]
    },
    {
      "cell_type": "markdown",
      "metadata": {
        "id": "udxL52kR_TfI"
      },
      "source": [
        "### The ``left_index`` and ``right_index`` keywords\n",
        "\n",
        "Sometimes, rather than merging on a column, you would instead like to merge on an index.\n",
        "For example, your data might look like this:"
      ]
    },
    {
      "cell_type": "code",
      "execution_count": 9,
      "metadata": {
        "colab": {
          "base_uri": "https://localhost:8080/",
          "height": 255
        },
        "id": "RLmhOkZn_TfJ",
        "outputId": "dbec0bdb-6d23-4dc3-c3c9-6748476fe858"
      },
      "outputs": [
        {
          "data": {
            "text/html": [
              "<div style=\"float: left; padding: 10px;\">\n",
              "    <p style='font-family:\"Courier New\", Courier, monospace'>df1a</p><div>\n",
              "<style scoped>\n",
              "    .dataframe tbody tr th:only-of-type {\n",
              "        vertical-align: middle;\n",
              "    }\n",
              "\n",
              "    .dataframe tbody tr th {\n",
              "        vertical-align: top;\n",
              "    }\n",
              "\n",
              "    .dataframe thead th {\n",
              "        text-align: right;\n",
              "    }\n",
              "</style>\n",
              "<table border=\"1\" class=\"dataframe\">\n",
              "  <thead>\n",
              "    <tr style=\"text-align: right;\">\n",
              "      <th></th>\n",
              "      <th>group</th>\n",
              "    </tr>\n",
              "    <tr>\n",
              "      <th>employee</th>\n",
              "      <th></th>\n",
              "    </tr>\n",
              "  </thead>\n",
              "  <tbody>\n",
              "    <tr>\n",
              "      <th>Bob</th>\n",
              "      <td>Accounting</td>\n",
              "    </tr>\n",
              "    <tr>\n",
              "      <th>Jake</th>\n",
              "      <td>Engineering</td>\n",
              "    </tr>\n",
              "    <tr>\n",
              "      <th>Lisa</th>\n",
              "      <td>Engineering</td>\n",
              "    </tr>\n",
              "    <tr>\n",
              "      <th>Sue</th>\n",
              "      <td>HR</td>\n",
              "    </tr>\n",
              "  </tbody>\n",
              "</table>\n",
              "</div>\n",
              "    </div>\n",
              "<div style=\"float: left; padding: 10px;\">\n",
              "    <p style='font-family:\"Courier New\", Courier, monospace'>df2a</p><div>\n",
              "<style scoped>\n",
              "    .dataframe tbody tr th:only-of-type {\n",
              "        vertical-align: middle;\n",
              "    }\n",
              "\n",
              "    .dataframe tbody tr th {\n",
              "        vertical-align: top;\n",
              "    }\n",
              "\n",
              "    .dataframe thead th {\n",
              "        text-align: right;\n",
              "    }\n",
              "</style>\n",
              "<table border=\"1\" class=\"dataframe\">\n",
              "  <thead>\n",
              "    <tr style=\"text-align: right;\">\n",
              "      <th></th>\n",
              "      <th>hire_date</th>\n",
              "    </tr>\n",
              "    <tr>\n",
              "      <th>employee</th>\n",
              "      <th></th>\n",
              "    </tr>\n",
              "  </thead>\n",
              "  <tbody>\n",
              "    <tr>\n",
              "      <th>Lisa</th>\n",
              "      <td>2004</td>\n",
              "    </tr>\n",
              "    <tr>\n",
              "      <th>Bob</th>\n",
              "      <td>2008</td>\n",
              "    </tr>\n",
              "    <tr>\n",
              "      <th>Jake</th>\n",
              "      <td>2012</td>\n",
              "    </tr>\n",
              "    <tr>\n",
              "      <th>Sue</th>\n",
              "      <td>2014</td>\n",
              "    </tr>\n",
              "  </tbody>\n",
              "</table>\n",
              "</div>\n",
              "    </div>"
            ],
            "text/plain": [
              "df1a\n",
              "                group\n",
              "employee             \n",
              "Bob        Accounting\n",
              "Jake      Engineering\n",
              "Lisa      Engineering\n",
              "Sue                HR\n",
              "\n",
              "df2a\n",
              "          hire_date\n",
              "employee           \n",
              "Lisa           2004\n",
              "Bob            2008\n",
              "Jake           2012\n",
              "Sue            2014"
            ]
          },
          "execution_count": 9,
          "metadata": {},
          "output_type": "execute_result"
        }
      ],
      "source": [
        "df1a = df1.set_index('employee')\n",
        "df2a = df2.set_index('employee')\n",
        "display('df1a', 'df2a')"
      ]
    },
    {
      "cell_type": "markdown",
      "metadata": {
        "id": "C0A-he9S_TfJ"
      },
      "source": [
        "You can use the index as the key for merging by specifying the ``left_index`` and/or ``right_index`` flags in ``pd.merge()``:"
      ]
    },
    {
      "cell_type": "code",
      "execution_count": 10,
      "metadata": {
        "colab": {
          "base_uri": "https://localhost:8080/",
          "height": 255
        },
        "id": "detAkEFx_TfK",
        "outputId": "70c2fbe5-c8a8-4d87-f455-6eca03428f4e"
      },
      "outputs": [
        {
          "data": {
            "text/html": [
              "<div style=\"float: left; padding: 10px;\">\n",
              "    <p style='font-family:\"Courier New\", Courier, monospace'>df1a</p><div>\n",
              "<style scoped>\n",
              "    .dataframe tbody tr th:only-of-type {\n",
              "        vertical-align: middle;\n",
              "    }\n",
              "\n",
              "    .dataframe tbody tr th {\n",
              "        vertical-align: top;\n",
              "    }\n",
              "\n",
              "    .dataframe thead th {\n",
              "        text-align: right;\n",
              "    }\n",
              "</style>\n",
              "<table border=\"1\" class=\"dataframe\">\n",
              "  <thead>\n",
              "    <tr style=\"text-align: right;\">\n",
              "      <th></th>\n",
              "      <th>group</th>\n",
              "    </tr>\n",
              "    <tr>\n",
              "      <th>employee</th>\n",
              "      <th></th>\n",
              "    </tr>\n",
              "  </thead>\n",
              "  <tbody>\n",
              "    <tr>\n",
              "      <th>Bob</th>\n",
              "      <td>Accounting</td>\n",
              "    </tr>\n",
              "    <tr>\n",
              "      <th>Jake</th>\n",
              "      <td>Engineering</td>\n",
              "    </tr>\n",
              "    <tr>\n",
              "      <th>Lisa</th>\n",
              "      <td>Engineering</td>\n",
              "    </tr>\n",
              "    <tr>\n",
              "      <th>Sue</th>\n",
              "      <td>HR</td>\n",
              "    </tr>\n",
              "  </tbody>\n",
              "</table>\n",
              "</div>\n",
              "    </div>\n",
              "<div style=\"float: left; padding: 10px;\">\n",
              "    <p style='font-family:\"Courier New\", Courier, monospace'>df2a</p><div>\n",
              "<style scoped>\n",
              "    .dataframe tbody tr th:only-of-type {\n",
              "        vertical-align: middle;\n",
              "    }\n",
              "\n",
              "    .dataframe tbody tr th {\n",
              "        vertical-align: top;\n",
              "    }\n",
              "\n",
              "    .dataframe thead th {\n",
              "        text-align: right;\n",
              "    }\n",
              "</style>\n",
              "<table border=\"1\" class=\"dataframe\">\n",
              "  <thead>\n",
              "    <tr style=\"text-align: right;\">\n",
              "      <th></th>\n",
              "      <th>hire_date</th>\n",
              "    </tr>\n",
              "    <tr>\n",
              "      <th>employee</th>\n",
              "      <th></th>\n",
              "    </tr>\n",
              "  </thead>\n",
              "  <tbody>\n",
              "    <tr>\n",
              "      <th>Lisa</th>\n",
              "      <td>2004</td>\n",
              "    </tr>\n",
              "    <tr>\n",
              "      <th>Bob</th>\n",
              "      <td>2008</td>\n",
              "    </tr>\n",
              "    <tr>\n",
              "      <th>Jake</th>\n",
              "      <td>2012</td>\n",
              "    </tr>\n",
              "    <tr>\n",
              "      <th>Sue</th>\n",
              "      <td>2014</td>\n",
              "    </tr>\n",
              "  </tbody>\n",
              "</table>\n",
              "</div>\n",
              "    </div>\n",
              "<div style=\"float: left; padding: 10px;\">\n",
              "    <p style='font-family:\"Courier New\", Courier, monospace'>pd.merge(df1a, df2a, left_index=True, right_index=True)</p><div>\n",
              "<style scoped>\n",
              "    .dataframe tbody tr th:only-of-type {\n",
              "        vertical-align: middle;\n",
              "    }\n",
              "\n",
              "    .dataframe tbody tr th {\n",
              "        vertical-align: top;\n",
              "    }\n",
              "\n",
              "    .dataframe thead th {\n",
              "        text-align: right;\n",
              "    }\n",
              "</style>\n",
              "<table border=\"1\" class=\"dataframe\">\n",
              "  <thead>\n",
              "    <tr style=\"text-align: right;\">\n",
              "      <th></th>\n",
              "      <th>group</th>\n",
              "      <th>hire_date</th>\n",
              "    </tr>\n",
              "    <tr>\n",
              "      <th>employee</th>\n",
              "      <th></th>\n",
              "      <th></th>\n",
              "    </tr>\n",
              "  </thead>\n",
              "  <tbody>\n",
              "    <tr>\n",
              "      <th>Bob</th>\n",
              "      <td>Accounting</td>\n",
              "      <td>2008</td>\n",
              "    </tr>\n",
              "    <tr>\n",
              "      <th>Jake</th>\n",
              "      <td>Engineering</td>\n",
              "      <td>2012</td>\n",
              "    </tr>\n",
              "    <tr>\n",
              "      <th>Lisa</th>\n",
              "      <td>Engineering</td>\n",
              "      <td>2004</td>\n",
              "    </tr>\n",
              "    <tr>\n",
              "      <th>Sue</th>\n",
              "      <td>HR</td>\n",
              "      <td>2014</td>\n",
              "    </tr>\n",
              "  </tbody>\n",
              "</table>\n",
              "</div>\n",
              "    </div>"
            ],
            "text/plain": [
              "df1a\n",
              "                group\n",
              "employee             \n",
              "Bob        Accounting\n",
              "Jake      Engineering\n",
              "Lisa      Engineering\n",
              "Sue                HR\n",
              "\n",
              "df2a\n",
              "          hire_date\n",
              "employee           \n",
              "Lisa           2004\n",
              "Bob            2008\n",
              "Jake           2012\n",
              "Sue            2014\n",
              "\n",
              "pd.merge(df1a, df2a, left_index=True, right_index=True)\n",
              "                group  hire_date\n",
              "employee                        \n",
              "Bob        Accounting       2008\n",
              "Jake      Engineering       2012\n",
              "Lisa      Engineering       2004\n",
              "Sue                HR       2014"
            ]
          },
          "execution_count": 10,
          "metadata": {},
          "output_type": "execute_result"
        }
      ],
      "source": [
        "display('df1a', 'df2a',\n",
        "        \"pd.merge(df1a, df2a, left_index=True, right_index=True)\")"
      ]
    },
    {
      "cell_type": "markdown",
      "metadata": {
        "id": "Roj5IUsT_TfM"
      },
      "source": [
        "For convenience, ``DataFrame``s implement the ``join()`` method, which performs a merge that defaults to joining on indices:"
      ]
    },
    {
      "cell_type": "code",
      "execution_count": 11,
      "metadata": {
        "colab": {
          "base_uri": "https://localhost:8080/",
          "height": 255
        },
        "id": "_a2KWsQz_TfM",
        "outputId": "1bb5f198-f157-489a-c7ec-16117a7a1566"
      },
      "outputs": [
        {
          "data": {
            "text/html": [
              "<div style=\"float: left; padding: 10px;\">\n",
              "    <p style='font-family:\"Courier New\", Courier, monospace'>df1a</p><div>\n",
              "<style scoped>\n",
              "    .dataframe tbody tr th:only-of-type {\n",
              "        vertical-align: middle;\n",
              "    }\n",
              "\n",
              "    .dataframe tbody tr th {\n",
              "        vertical-align: top;\n",
              "    }\n",
              "\n",
              "    .dataframe thead th {\n",
              "        text-align: right;\n",
              "    }\n",
              "</style>\n",
              "<table border=\"1\" class=\"dataframe\">\n",
              "  <thead>\n",
              "    <tr style=\"text-align: right;\">\n",
              "      <th></th>\n",
              "      <th>group</th>\n",
              "    </tr>\n",
              "    <tr>\n",
              "      <th>employee</th>\n",
              "      <th></th>\n",
              "    </tr>\n",
              "  </thead>\n",
              "  <tbody>\n",
              "    <tr>\n",
              "      <th>Bob</th>\n",
              "      <td>Accounting</td>\n",
              "    </tr>\n",
              "    <tr>\n",
              "      <th>Jake</th>\n",
              "      <td>Engineering</td>\n",
              "    </tr>\n",
              "    <tr>\n",
              "      <th>Lisa</th>\n",
              "      <td>Engineering</td>\n",
              "    </tr>\n",
              "    <tr>\n",
              "      <th>Sue</th>\n",
              "      <td>HR</td>\n",
              "    </tr>\n",
              "  </tbody>\n",
              "</table>\n",
              "</div>\n",
              "    </div>\n",
              "<div style=\"float: left; padding: 10px;\">\n",
              "    <p style='font-family:\"Courier New\", Courier, monospace'>df2a</p><div>\n",
              "<style scoped>\n",
              "    .dataframe tbody tr th:only-of-type {\n",
              "        vertical-align: middle;\n",
              "    }\n",
              "\n",
              "    .dataframe tbody tr th {\n",
              "        vertical-align: top;\n",
              "    }\n",
              "\n",
              "    .dataframe thead th {\n",
              "        text-align: right;\n",
              "    }\n",
              "</style>\n",
              "<table border=\"1\" class=\"dataframe\">\n",
              "  <thead>\n",
              "    <tr style=\"text-align: right;\">\n",
              "      <th></th>\n",
              "      <th>hire_date</th>\n",
              "    </tr>\n",
              "    <tr>\n",
              "      <th>employee</th>\n",
              "      <th></th>\n",
              "    </tr>\n",
              "  </thead>\n",
              "  <tbody>\n",
              "    <tr>\n",
              "      <th>Lisa</th>\n",
              "      <td>2004</td>\n",
              "    </tr>\n",
              "    <tr>\n",
              "      <th>Bob</th>\n",
              "      <td>2008</td>\n",
              "    </tr>\n",
              "    <tr>\n",
              "      <th>Jake</th>\n",
              "      <td>2012</td>\n",
              "    </tr>\n",
              "    <tr>\n",
              "      <th>Sue</th>\n",
              "      <td>2014</td>\n",
              "    </tr>\n",
              "  </tbody>\n",
              "</table>\n",
              "</div>\n",
              "    </div>\n",
              "<div style=\"float: left; padding: 10px;\">\n",
              "    <p style='font-family:\"Courier New\", Courier, monospace'>df1a.join(df2a)</p><div>\n",
              "<style scoped>\n",
              "    .dataframe tbody tr th:only-of-type {\n",
              "        vertical-align: middle;\n",
              "    }\n",
              "\n",
              "    .dataframe tbody tr th {\n",
              "        vertical-align: top;\n",
              "    }\n",
              "\n",
              "    .dataframe thead th {\n",
              "        text-align: right;\n",
              "    }\n",
              "</style>\n",
              "<table border=\"1\" class=\"dataframe\">\n",
              "  <thead>\n",
              "    <tr style=\"text-align: right;\">\n",
              "      <th></th>\n",
              "      <th>group</th>\n",
              "      <th>hire_date</th>\n",
              "    </tr>\n",
              "    <tr>\n",
              "      <th>employee</th>\n",
              "      <th></th>\n",
              "      <th></th>\n",
              "    </tr>\n",
              "  </thead>\n",
              "  <tbody>\n",
              "    <tr>\n",
              "      <th>Bob</th>\n",
              "      <td>Accounting</td>\n",
              "      <td>2008</td>\n",
              "    </tr>\n",
              "    <tr>\n",
              "      <th>Jake</th>\n",
              "      <td>Engineering</td>\n",
              "      <td>2012</td>\n",
              "    </tr>\n",
              "    <tr>\n",
              "      <th>Lisa</th>\n",
              "      <td>Engineering</td>\n",
              "      <td>2004</td>\n",
              "    </tr>\n",
              "    <tr>\n",
              "      <th>Sue</th>\n",
              "      <td>HR</td>\n",
              "      <td>2014</td>\n",
              "    </tr>\n",
              "  </tbody>\n",
              "</table>\n",
              "</div>\n",
              "    </div>"
            ],
            "text/plain": [
              "df1a\n",
              "                group\n",
              "employee             \n",
              "Bob        Accounting\n",
              "Jake      Engineering\n",
              "Lisa      Engineering\n",
              "Sue                HR\n",
              "\n",
              "df2a\n",
              "          hire_date\n",
              "employee           \n",
              "Lisa           2004\n",
              "Bob            2008\n",
              "Jake           2012\n",
              "Sue            2014\n",
              "\n",
              "df1a.join(df2a)\n",
              "                group  hire_date\n",
              "employee                        \n",
              "Bob        Accounting       2008\n",
              "Jake      Engineering       2012\n",
              "Lisa      Engineering       2004\n",
              "Sue                HR       2014"
            ]
          },
          "execution_count": 11,
          "metadata": {},
          "output_type": "execute_result"
        }
      ],
      "source": [
        "display('df1a', 'df2a', 'df1a.join(df2a)')"
      ]
    },
    {
      "cell_type": "markdown",
      "metadata": {
        "id": "QBCbsySE_TfN"
      },
      "source": [
        "If you'd like to mix indices and columns, you can combine ``left_index`` with ``right_on`` or ``left_on`` with ``right_index`` to get the desired behavior:"
      ]
    },
    {
      "cell_type": "code",
      "execution_count": 12,
      "metadata": {
        "colab": {
          "base_uri": "https://localhost:8080/",
          "height": 255
        },
        "id": "Gev4CE6l_TfO",
        "outputId": "843b68f8-651a-4354-9b35-f94833bd7c5d"
      },
      "outputs": [
        {
          "data": {
            "text/html": [
              "<div style=\"float: left; padding: 10px;\">\n",
              "    <p style='font-family:\"Courier New\", Courier, monospace'>df1a</p><div>\n",
              "<style scoped>\n",
              "    .dataframe tbody tr th:only-of-type {\n",
              "        vertical-align: middle;\n",
              "    }\n",
              "\n",
              "    .dataframe tbody tr th {\n",
              "        vertical-align: top;\n",
              "    }\n",
              "\n",
              "    .dataframe thead th {\n",
              "        text-align: right;\n",
              "    }\n",
              "</style>\n",
              "<table border=\"1\" class=\"dataframe\">\n",
              "  <thead>\n",
              "    <tr style=\"text-align: right;\">\n",
              "      <th></th>\n",
              "      <th>group</th>\n",
              "    </tr>\n",
              "    <tr>\n",
              "      <th>employee</th>\n",
              "      <th></th>\n",
              "    </tr>\n",
              "  </thead>\n",
              "  <tbody>\n",
              "    <tr>\n",
              "      <th>Bob</th>\n",
              "      <td>Accounting</td>\n",
              "    </tr>\n",
              "    <tr>\n",
              "      <th>Jake</th>\n",
              "      <td>Engineering</td>\n",
              "    </tr>\n",
              "    <tr>\n",
              "      <th>Lisa</th>\n",
              "      <td>Engineering</td>\n",
              "    </tr>\n",
              "    <tr>\n",
              "      <th>Sue</th>\n",
              "      <td>HR</td>\n",
              "    </tr>\n",
              "  </tbody>\n",
              "</table>\n",
              "</div>\n",
              "    </div>\n",
              "<div style=\"float: left; padding: 10px;\">\n",
              "    <p style='font-family:\"Courier New\", Courier, monospace'>df3</p><div>\n",
              "<style scoped>\n",
              "    .dataframe tbody tr th:only-of-type {\n",
              "        vertical-align: middle;\n",
              "    }\n",
              "\n",
              "    .dataframe tbody tr th {\n",
              "        vertical-align: top;\n",
              "    }\n",
              "\n",
              "    .dataframe thead th {\n",
              "        text-align: right;\n",
              "    }\n",
              "</style>\n",
              "<table border=\"1\" class=\"dataframe\">\n",
              "  <thead>\n",
              "    <tr style=\"text-align: right;\">\n",
              "      <th></th>\n",
              "      <th>name</th>\n",
              "      <th>salary</th>\n",
              "    </tr>\n",
              "  </thead>\n",
              "  <tbody>\n",
              "    <tr>\n",
              "      <th>0</th>\n",
              "      <td>Bob</td>\n",
              "      <td>70000</td>\n",
              "    </tr>\n",
              "    <tr>\n",
              "      <th>1</th>\n",
              "      <td>Jake</td>\n",
              "      <td>80000</td>\n",
              "    </tr>\n",
              "    <tr>\n",
              "      <th>2</th>\n",
              "      <td>Lisa</td>\n",
              "      <td>120000</td>\n",
              "    </tr>\n",
              "    <tr>\n",
              "      <th>3</th>\n",
              "      <td>Sue</td>\n",
              "      <td>90000</td>\n",
              "    </tr>\n",
              "  </tbody>\n",
              "</table>\n",
              "</div>\n",
              "    </div>\n",
              "<div style=\"float: left; padding: 10px;\">\n",
              "    <p style='font-family:\"Courier New\", Courier, monospace'>pd.merge(df1a, df3, left_index=True, right_on='name')</p><div>\n",
              "<style scoped>\n",
              "    .dataframe tbody tr th:only-of-type {\n",
              "        vertical-align: middle;\n",
              "    }\n",
              "\n",
              "    .dataframe tbody tr th {\n",
              "        vertical-align: top;\n",
              "    }\n",
              "\n",
              "    .dataframe thead th {\n",
              "        text-align: right;\n",
              "    }\n",
              "</style>\n",
              "<table border=\"1\" class=\"dataframe\">\n",
              "  <thead>\n",
              "    <tr style=\"text-align: right;\">\n",
              "      <th></th>\n",
              "      <th>group</th>\n",
              "      <th>name</th>\n",
              "      <th>salary</th>\n",
              "    </tr>\n",
              "  </thead>\n",
              "  <tbody>\n",
              "    <tr>\n",
              "      <th>0</th>\n",
              "      <td>Accounting</td>\n",
              "      <td>Bob</td>\n",
              "      <td>70000</td>\n",
              "    </tr>\n",
              "    <tr>\n",
              "      <th>1</th>\n",
              "      <td>Engineering</td>\n",
              "      <td>Jake</td>\n",
              "      <td>80000</td>\n",
              "    </tr>\n",
              "    <tr>\n",
              "      <th>2</th>\n",
              "      <td>Engineering</td>\n",
              "      <td>Lisa</td>\n",
              "      <td>120000</td>\n",
              "    </tr>\n",
              "    <tr>\n",
              "      <th>3</th>\n",
              "      <td>HR</td>\n",
              "      <td>Sue</td>\n",
              "      <td>90000</td>\n",
              "    </tr>\n",
              "  </tbody>\n",
              "</table>\n",
              "</div>\n",
              "    </div>"
            ],
            "text/plain": [
              "df1a\n",
              "                group\n",
              "employee             \n",
              "Bob        Accounting\n",
              "Jake      Engineering\n",
              "Lisa      Engineering\n",
              "Sue                HR\n",
              "\n",
              "df3\n",
              "   name  salary\n",
              "0   Bob   70000\n",
              "1  Jake   80000\n",
              "2  Lisa  120000\n",
              "3   Sue   90000\n",
              "\n",
              "pd.merge(df1a, df3, left_index=True, right_on='name')\n",
              "         group  name  salary\n",
              "0   Accounting   Bob   70000\n",
              "1  Engineering  Jake   80000\n",
              "2  Engineering  Lisa  120000\n",
              "3           HR   Sue   90000"
            ]
          },
          "execution_count": 12,
          "metadata": {},
          "output_type": "execute_result"
        }
      ],
      "source": [
        "display('df1a', 'df3', \"pd.merge(df1a, df3, left_index=True, right_on='name')\")"
      ]
    },
    {
      "cell_type": "markdown",
      "metadata": {
        "id": "iCpWHlyQ_TfP"
      },
      "source": [
        "All of these options also work with multiple indices and/or multiple columns; the interface for this behavior is very intuitive.\n",
        "For more information on this, see the [\"Merge, Join, and Concatenate\" section](http://pandas.pydata.org/pandas-docs/stable/merging.html) of the Pandas documentation."
      ]
    },
    {
      "cell_type": "markdown",
      "metadata": {
        "id": "UBp-1h78_TfQ"
      },
      "source": [
        "## Specifying Set Arithmetic for Joins"
      ]
    },
    {
      "cell_type": "markdown",
      "metadata": {
        "id": "2dmmjfu-_TfQ"
      },
      "source": [
        "In all the preceding examples we have glossed over one important consideration in performing a join: the type of set arithmetic used in the join.\n",
        "This comes up when a value appears in one key column but not the other. Consider this example:"
      ]
    },
    {
      "cell_type": "code",
      "execution_count": 13,
      "metadata": {
        "colab": {
          "base_uri": "https://localhost:8080/",
          "height": 192
        },
        "id": "7CZwdP0U_TfR",
        "outputId": "30750aee-a532-49d5-81a5-8217c5b1a30c"
      },
      "outputs": [
        {
          "data": {
            "text/html": [
              "<div style=\"float: left; padding: 10px;\">\n",
              "    <p style='font-family:\"Courier New\", Courier, monospace'>df6</p><div>\n",
              "<style scoped>\n",
              "    .dataframe tbody tr th:only-of-type {\n",
              "        vertical-align: middle;\n",
              "    }\n",
              "\n",
              "    .dataframe tbody tr th {\n",
              "        vertical-align: top;\n",
              "    }\n",
              "\n",
              "    .dataframe thead th {\n",
              "        text-align: right;\n",
              "    }\n",
              "</style>\n",
              "<table border=\"1\" class=\"dataframe\">\n",
              "  <thead>\n",
              "    <tr style=\"text-align: right;\">\n",
              "      <th></th>\n",
              "      <th>name</th>\n",
              "      <th>food</th>\n",
              "    </tr>\n",
              "  </thead>\n",
              "  <tbody>\n",
              "    <tr>\n",
              "      <th>0</th>\n",
              "      <td>Peter</td>\n",
              "      <td>fish</td>\n",
              "    </tr>\n",
              "    <tr>\n",
              "      <th>1</th>\n",
              "      <td>Paul</td>\n",
              "      <td>beans</td>\n",
              "    </tr>\n",
              "    <tr>\n",
              "      <th>2</th>\n",
              "      <td>Mary</td>\n",
              "      <td>bread</td>\n",
              "    </tr>\n",
              "  </tbody>\n",
              "</table>\n",
              "</div>\n",
              "    </div>\n",
              "<div style=\"float: left; padding: 10px;\">\n",
              "    <p style='font-family:\"Courier New\", Courier, monospace'>df7</p><div>\n",
              "<style scoped>\n",
              "    .dataframe tbody tr th:only-of-type {\n",
              "        vertical-align: middle;\n",
              "    }\n",
              "\n",
              "    .dataframe tbody tr th {\n",
              "        vertical-align: top;\n",
              "    }\n",
              "\n",
              "    .dataframe thead th {\n",
              "        text-align: right;\n",
              "    }\n",
              "</style>\n",
              "<table border=\"1\" class=\"dataframe\">\n",
              "  <thead>\n",
              "    <tr style=\"text-align: right;\">\n",
              "      <th></th>\n",
              "      <th>name</th>\n",
              "      <th>drink</th>\n",
              "    </tr>\n",
              "  </thead>\n",
              "  <tbody>\n",
              "    <tr>\n",
              "      <th>0</th>\n",
              "      <td>Mary</td>\n",
              "      <td>wine</td>\n",
              "    </tr>\n",
              "    <tr>\n",
              "      <th>1</th>\n",
              "      <td>Joseph</td>\n",
              "      <td>beer</td>\n",
              "    </tr>\n",
              "  </tbody>\n",
              "</table>\n",
              "</div>\n",
              "    </div>\n",
              "<div style=\"float: left; padding: 10px;\">\n",
              "    <p style='font-family:\"Courier New\", Courier, monospace'>pd.merge(df6, df7)</p><div>\n",
              "<style scoped>\n",
              "    .dataframe tbody tr th:only-of-type {\n",
              "        vertical-align: middle;\n",
              "    }\n",
              "\n",
              "    .dataframe tbody tr th {\n",
              "        vertical-align: top;\n",
              "    }\n",
              "\n",
              "    .dataframe thead th {\n",
              "        text-align: right;\n",
              "    }\n",
              "</style>\n",
              "<table border=\"1\" class=\"dataframe\">\n",
              "  <thead>\n",
              "    <tr style=\"text-align: right;\">\n",
              "      <th></th>\n",
              "      <th>name</th>\n",
              "      <th>food</th>\n",
              "      <th>drink</th>\n",
              "    </tr>\n",
              "  </thead>\n",
              "  <tbody>\n",
              "    <tr>\n",
              "      <th>0</th>\n",
              "      <td>Mary</td>\n",
              "      <td>bread</td>\n",
              "      <td>wine</td>\n",
              "    </tr>\n",
              "  </tbody>\n",
              "</table>\n",
              "</div>\n",
              "    </div>"
            ],
            "text/plain": [
              "df6\n",
              "    name   food\n",
              "0  Peter   fish\n",
              "1   Paul  beans\n",
              "2   Mary  bread\n",
              "\n",
              "df7\n",
              "     name drink\n",
              "0    Mary  wine\n",
              "1  Joseph  beer\n",
              "\n",
              "pd.merge(df6, df7)\n",
              "   name   food drink\n",
              "0  Mary  bread  wine"
            ]
          },
          "execution_count": 13,
          "metadata": {},
          "output_type": "execute_result"
        }
      ],
      "source": [
        "df6 = pd.DataFrame({'name': ['Peter', 'Paul', 'Mary'],\n",
        "                    'food': ['fish', 'beans', 'bread']},\n",
        "                   columns=['name', 'food'])\n",
        "df7 = pd.DataFrame({'name': ['Mary', 'Joseph'],\n",
        "                    'drink': ['wine', 'beer']},\n",
        "                   columns=['name', 'drink'])\n",
        "display('df6', 'df7', 'pd.merge(df6, df7)')"
      ]
    },
    {
      "cell_type": "markdown",
      "metadata": {
        "id": "3pIdvCH9_TfR"
      },
      "source": [
        "Here we have merged two datasets that have only a single \"name\" entry in common: Mary.\n",
        "By default, the result contains the *intersection* of the two sets of inputs; this is what is known as an *inner join*.\n",
        "We can specify this explicitly using the ``how`` keyword, which defaults to ``\"inner\"``:"
      ]
    },
    {
      "cell_type": "code",
      "execution_count": 14,
      "metadata": {
        "colab": {
          "base_uri": "https://localhost:8080/",
          "height": 80
        },
        "id": "HNUEVbut_TfS",
        "outputId": "e169b57a-047c-4cf9-b0c5-62ad80b2b6ab"
      },
      "outputs": [
        {
          "data": {
            "text/html": [
              "<div>\n",
              "<style scoped>\n",
              "    .dataframe tbody tr th:only-of-type {\n",
              "        vertical-align: middle;\n",
              "    }\n",
              "\n",
              "    .dataframe tbody tr th {\n",
              "        vertical-align: top;\n",
              "    }\n",
              "\n",
              "    .dataframe thead th {\n",
              "        text-align: right;\n",
              "    }\n",
              "</style>\n",
              "<table border=\"1\" class=\"dataframe\">\n",
              "  <thead>\n",
              "    <tr style=\"text-align: right;\">\n",
              "      <th></th>\n",
              "      <th>name</th>\n",
              "      <th>food</th>\n",
              "      <th>drink</th>\n",
              "    </tr>\n",
              "  </thead>\n",
              "  <tbody>\n",
              "    <tr>\n",
              "      <th>0</th>\n",
              "      <td>Mary</td>\n",
              "      <td>bread</td>\n",
              "      <td>wine</td>\n",
              "    </tr>\n",
              "  </tbody>\n",
              "</table>\n",
              "</div>"
            ],
            "text/plain": [
              "   name   food drink\n",
              "0  Mary  bread  wine"
            ]
          },
          "execution_count": 14,
          "metadata": {},
          "output_type": "execute_result"
        }
      ],
      "source": [
        "pd.merge(df6, df7, how='inner')"
      ]
    },
    {
      "cell_type": "markdown",
      "metadata": {
        "id": "VlPpRmgh_TfT"
      },
      "source": [
        "Other options for the ``how`` keyword are ``'outer'``, ``'left'``, and ``'right'``.\n",
        "An *outer join* returns a join over the union of the input columns, and fills in all missing values with NAs:"
      ]
    },
    {
      "cell_type": "code",
      "execution_count": 15,
      "metadata": {
        "colab": {
          "base_uri": "https://localhost:8080/",
          "height": 224
        },
        "id": "0yarThY-_TfT",
        "outputId": "f2eb5a82-4a31-4aa3-fb41-0d095da75b86"
      },
      "outputs": [
        {
          "data": {
            "text/html": [
              "<div style=\"float: left; padding: 10px;\">\n",
              "    <p style='font-family:\"Courier New\", Courier, monospace'>df6</p><div>\n",
              "<style scoped>\n",
              "    .dataframe tbody tr th:only-of-type {\n",
              "        vertical-align: middle;\n",
              "    }\n",
              "\n",
              "    .dataframe tbody tr th {\n",
              "        vertical-align: top;\n",
              "    }\n",
              "\n",
              "    .dataframe thead th {\n",
              "        text-align: right;\n",
              "    }\n",
              "</style>\n",
              "<table border=\"1\" class=\"dataframe\">\n",
              "  <thead>\n",
              "    <tr style=\"text-align: right;\">\n",
              "      <th></th>\n",
              "      <th>name</th>\n",
              "      <th>food</th>\n",
              "    </tr>\n",
              "  </thead>\n",
              "  <tbody>\n",
              "    <tr>\n",
              "      <th>0</th>\n",
              "      <td>Peter</td>\n",
              "      <td>fish</td>\n",
              "    </tr>\n",
              "    <tr>\n",
              "      <th>1</th>\n",
              "      <td>Paul</td>\n",
              "      <td>beans</td>\n",
              "    </tr>\n",
              "    <tr>\n",
              "      <th>2</th>\n",
              "      <td>Mary</td>\n",
              "      <td>bread</td>\n",
              "    </tr>\n",
              "  </tbody>\n",
              "</table>\n",
              "</div>\n",
              "    </div>\n",
              "<div style=\"float: left; padding: 10px;\">\n",
              "    <p style='font-family:\"Courier New\", Courier, monospace'>df7</p><div>\n",
              "<style scoped>\n",
              "    .dataframe tbody tr th:only-of-type {\n",
              "        vertical-align: middle;\n",
              "    }\n",
              "\n",
              "    .dataframe tbody tr th {\n",
              "        vertical-align: top;\n",
              "    }\n",
              "\n",
              "    .dataframe thead th {\n",
              "        text-align: right;\n",
              "    }\n",
              "</style>\n",
              "<table border=\"1\" class=\"dataframe\">\n",
              "  <thead>\n",
              "    <tr style=\"text-align: right;\">\n",
              "      <th></th>\n",
              "      <th>name</th>\n",
              "      <th>drink</th>\n",
              "    </tr>\n",
              "  </thead>\n",
              "  <tbody>\n",
              "    <tr>\n",
              "      <th>0</th>\n",
              "      <td>Mary</td>\n",
              "      <td>wine</td>\n",
              "    </tr>\n",
              "    <tr>\n",
              "      <th>1</th>\n",
              "      <td>Joseph</td>\n",
              "      <td>beer</td>\n",
              "    </tr>\n",
              "  </tbody>\n",
              "</table>\n",
              "</div>\n",
              "    </div>\n",
              "<div style=\"float: left; padding: 10px;\">\n",
              "    <p style='font-family:\"Courier New\", Courier, monospace'>pd.merge(df6, df7, how='outer')</p><div>\n",
              "<style scoped>\n",
              "    .dataframe tbody tr th:only-of-type {\n",
              "        vertical-align: middle;\n",
              "    }\n",
              "\n",
              "    .dataframe tbody tr th {\n",
              "        vertical-align: top;\n",
              "    }\n",
              "\n",
              "    .dataframe thead th {\n",
              "        text-align: right;\n",
              "    }\n",
              "</style>\n",
              "<table border=\"1\" class=\"dataframe\">\n",
              "  <thead>\n",
              "    <tr style=\"text-align: right;\">\n",
              "      <th></th>\n",
              "      <th>name</th>\n",
              "      <th>food</th>\n",
              "      <th>drink</th>\n",
              "    </tr>\n",
              "  </thead>\n",
              "  <tbody>\n",
              "    <tr>\n",
              "      <th>0</th>\n",
              "      <td>Joseph</td>\n",
              "      <td>NaN</td>\n",
              "      <td>beer</td>\n",
              "    </tr>\n",
              "    <tr>\n",
              "      <th>1</th>\n",
              "      <td>Mary</td>\n",
              "      <td>bread</td>\n",
              "      <td>wine</td>\n",
              "    </tr>\n",
              "    <tr>\n",
              "      <th>2</th>\n",
              "      <td>Paul</td>\n",
              "      <td>beans</td>\n",
              "      <td>NaN</td>\n",
              "    </tr>\n",
              "    <tr>\n",
              "      <th>3</th>\n",
              "      <td>Peter</td>\n",
              "      <td>fish</td>\n",
              "      <td>NaN</td>\n",
              "    </tr>\n",
              "  </tbody>\n",
              "</table>\n",
              "</div>\n",
              "    </div>"
            ],
            "text/plain": [
              "df6\n",
              "    name   food\n",
              "0  Peter   fish\n",
              "1   Paul  beans\n",
              "2   Mary  bread\n",
              "\n",
              "df7\n",
              "     name drink\n",
              "0    Mary  wine\n",
              "1  Joseph  beer\n",
              "\n",
              "pd.merge(df6, df7, how='outer')\n",
              "     name   food drink\n",
              "0  Joseph    NaN  beer\n",
              "1    Mary  bread  wine\n",
              "2    Paul  beans   NaN\n",
              "3   Peter   fish   NaN"
            ]
          },
          "execution_count": 15,
          "metadata": {},
          "output_type": "execute_result"
        }
      ],
      "source": [
        "display('df6', 'df7', \"pd.merge(df6, df7, how='outer')\")"
      ]
    },
    {
      "cell_type": "markdown",
      "metadata": {
        "id": "GOohf48G_TfU"
      },
      "source": [
        "The *left join* and *right join* return joins over the left entries and right entries, respectively.\n",
        "For example:"
      ]
    },
    {
      "cell_type": "code",
      "execution_count": 16,
      "metadata": {
        "colab": {
          "base_uri": "https://localhost:8080/",
          "height": 192
        },
        "id": "bh8D30RV_TfV",
        "outputId": "19e36c80-8879-4950-835b-b98612102e71"
      },
      "outputs": [
        {
          "data": {
            "text/html": [
              "<div style=\"float: left; padding: 10px;\">\n",
              "    <p style='font-family:\"Courier New\", Courier, monospace'>df6</p><div>\n",
              "<style scoped>\n",
              "    .dataframe tbody tr th:only-of-type {\n",
              "        vertical-align: middle;\n",
              "    }\n",
              "\n",
              "    .dataframe tbody tr th {\n",
              "        vertical-align: top;\n",
              "    }\n",
              "\n",
              "    .dataframe thead th {\n",
              "        text-align: right;\n",
              "    }\n",
              "</style>\n",
              "<table border=\"1\" class=\"dataframe\">\n",
              "  <thead>\n",
              "    <tr style=\"text-align: right;\">\n",
              "      <th></th>\n",
              "      <th>name</th>\n",
              "      <th>food</th>\n",
              "    </tr>\n",
              "  </thead>\n",
              "  <tbody>\n",
              "    <tr>\n",
              "      <th>0</th>\n",
              "      <td>Peter</td>\n",
              "      <td>fish</td>\n",
              "    </tr>\n",
              "    <tr>\n",
              "      <th>1</th>\n",
              "      <td>Paul</td>\n",
              "      <td>beans</td>\n",
              "    </tr>\n",
              "    <tr>\n",
              "      <th>2</th>\n",
              "      <td>Mary</td>\n",
              "      <td>bread</td>\n",
              "    </tr>\n",
              "  </tbody>\n",
              "</table>\n",
              "</div>\n",
              "    </div>\n",
              "<div style=\"float: left; padding: 10px;\">\n",
              "    <p style='font-family:\"Courier New\", Courier, monospace'>df7</p><div>\n",
              "<style scoped>\n",
              "    .dataframe tbody tr th:only-of-type {\n",
              "        vertical-align: middle;\n",
              "    }\n",
              "\n",
              "    .dataframe tbody tr th {\n",
              "        vertical-align: top;\n",
              "    }\n",
              "\n",
              "    .dataframe thead th {\n",
              "        text-align: right;\n",
              "    }\n",
              "</style>\n",
              "<table border=\"1\" class=\"dataframe\">\n",
              "  <thead>\n",
              "    <tr style=\"text-align: right;\">\n",
              "      <th></th>\n",
              "      <th>name</th>\n",
              "      <th>drink</th>\n",
              "    </tr>\n",
              "  </thead>\n",
              "  <tbody>\n",
              "    <tr>\n",
              "      <th>0</th>\n",
              "      <td>Mary</td>\n",
              "      <td>wine</td>\n",
              "    </tr>\n",
              "    <tr>\n",
              "      <th>1</th>\n",
              "      <td>Joseph</td>\n",
              "      <td>beer</td>\n",
              "    </tr>\n",
              "  </tbody>\n",
              "</table>\n",
              "</div>\n",
              "    </div>\n",
              "<div style=\"float: left; padding: 10px;\">\n",
              "    <p style='font-family:\"Courier New\", Courier, monospace'>pd.merge(df6, df7, how='left')</p><div>\n",
              "<style scoped>\n",
              "    .dataframe tbody tr th:only-of-type {\n",
              "        vertical-align: middle;\n",
              "    }\n",
              "\n",
              "    .dataframe tbody tr th {\n",
              "        vertical-align: top;\n",
              "    }\n",
              "\n",
              "    .dataframe thead th {\n",
              "        text-align: right;\n",
              "    }\n",
              "</style>\n",
              "<table border=\"1\" class=\"dataframe\">\n",
              "  <thead>\n",
              "    <tr style=\"text-align: right;\">\n",
              "      <th></th>\n",
              "      <th>name</th>\n",
              "      <th>food</th>\n",
              "      <th>drink</th>\n",
              "    </tr>\n",
              "  </thead>\n",
              "  <tbody>\n",
              "    <tr>\n",
              "      <th>0</th>\n",
              "      <td>Peter</td>\n",
              "      <td>fish</td>\n",
              "      <td>NaN</td>\n",
              "    </tr>\n",
              "    <tr>\n",
              "      <th>1</th>\n",
              "      <td>Paul</td>\n",
              "      <td>beans</td>\n",
              "      <td>NaN</td>\n",
              "    </tr>\n",
              "    <tr>\n",
              "      <th>2</th>\n",
              "      <td>Mary</td>\n",
              "      <td>bread</td>\n",
              "      <td>wine</td>\n",
              "    </tr>\n",
              "  </tbody>\n",
              "</table>\n",
              "</div>\n",
              "    </div>"
            ],
            "text/plain": [
              "df6\n",
              "    name   food\n",
              "0  Peter   fish\n",
              "1   Paul  beans\n",
              "2   Mary  bread\n",
              "\n",
              "df7\n",
              "     name drink\n",
              "0    Mary  wine\n",
              "1  Joseph  beer\n",
              "\n",
              "pd.merge(df6, df7, how='left')\n",
              "    name   food drink\n",
              "0  Peter   fish   NaN\n",
              "1   Paul  beans   NaN\n",
              "2   Mary  bread  wine"
            ]
          },
          "execution_count": 16,
          "metadata": {},
          "output_type": "execute_result"
        }
      ],
      "source": [
        "display('df6', 'df7', \"pd.merge(df6, df7, how='left')\")"
      ]
    },
    {
      "cell_type": "code",
      "execution_count": 17,
      "metadata": {
        "colab": {
          "base_uri": "https://localhost:8080/",
          "height": 192
        },
        "id": "_BHRNEKNS8f4",
        "outputId": "09351de5-3bab-461c-f05f-8615ef656be7"
      },
      "outputs": [
        {
          "data": {
            "text/html": [
              "<div style=\"float: left; padding: 10px;\">\n",
              "    <p style='font-family:\"Courier New\", Courier, monospace'>df6</p><div>\n",
              "<style scoped>\n",
              "    .dataframe tbody tr th:only-of-type {\n",
              "        vertical-align: middle;\n",
              "    }\n",
              "\n",
              "    .dataframe tbody tr th {\n",
              "        vertical-align: top;\n",
              "    }\n",
              "\n",
              "    .dataframe thead th {\n",
              "        text-align: right;\n",
              "    }\n",
              "</style>\n",
              "<table border=\"1\" class=\"dataframe\">\n",
              "  <thead>\n",
              "    <tr style=\"text-align: right;\">\n",
              "      <th></th>\n",
              "      <th>name</th>\n",
              "      <th>food</th>\n",
              "    </tr>\n",
              "  </thead>\n",
              "  <tbody>\n",
              "    <tr>\n",
              "      <th>0</th>\n",
              "      <td>Peter</td>\n",
              "      <td>fish</td>\n",
              "    </tr>\n",
              "    <tr>\n",
              "      <th>1</th>\n",
              "      <td>Paul</td>\n",
              "      <td>beans</td>\n",
              "    </tr>\n",
              "    <tr>\n",
              "      <th>2</th>\n",
              "      <td>Mary</td>\n",
              "      <td>bread</td>\n",
              "    </tr>\n",
              "  </tbody>\n",
              "</table>\n",
              "</div>\n",
              "    </div>\n",
              "<div style=\"float: left; padding: 10px;\">\n",
              "    <p style='font-family:\"Courier New\", Courier, monospace'>df7</p><div>\n",
              "<style scoped>\n",
              "    .dataframe tbody tr th:only-of-type {\n",
              "        vertical-align: middle;\n",
              "    }\n",
              "\n",
              "    .dataframe tbody tr th {\n",
              "        vertical-align: top;\n",
              "    }\n",
              "\n",
              "    .dataframe thead th {\n",
              "        text-align: right;\n",
              "    }\n",
              "</style>\n",
              "<table border=\"1\" class=\"dataframe\">\n",
              "  <thead>\n",
              "    <tr style=\"text-align: right;\">\n",
              "      <th></th>\n",
              "      <th>name</th>\n",
              "      <th>drink</th>\n",
              "    </tr>\n",
              "  </thead>\n",
              "  <tbody>\n",
              "    <tr>\n",
              "      <th>0</th>\n",
              "      <td>Mary</td>\n",
              "      <td>wine</td>\n",
              "    </tr>\n",
              "    <tr>\n",
              "      <th>1</th>\n",
              "      <td>Joseph</td>\n",
              "      <td>beer</td>\n",
              "    </tr>\n",
              "  </tbody>\n",
              "</table>\n",
              "</div>\n",
              "    </div>\n",
              "<div style=\"float: left; padding: 10px;\">\n",
              "    <p style='font-family:\"Courier New\", Courier, monospace'>pd.merge(df6, df7, how='right')</p><div>\n",
              "<style scoped>\n",
              "    .dataframe tbody tr th:only-of-type {\n",
              "        vertical-align: middle;\n",
              "    }\n",
              "\n",
              "    .dataframe tbody tr th {\n",
              "        vertical-align: top;\n",
              "    }\n",
              "\n",
              "    .dataframe thead th {\n",
              "        text-align: right;\n",
              "    }\n",
              "</style>\n",
              "<table border=\"1\" class=\"dataframe\">\n",
              "  <thead>\n",
              "    <tr style=\"text-align: right;\">\n",
              "      <th></th>\n",
              "      <th>name</th>\n",
              "      <th>food</th>\n",
              "      <th>drink</th>\n",
              "    </tr>\n",
              "  </thead>\n",
              "  <tbody>\n",
              "    <tr>\n",
              "      <th>0</th>\n",
              "      <td>Mary</td>\n",
              "      <td>bread</td>\n",
              "      <td>wine</td>\n",
              "    </tr>\n",
              "    <tr>\n",
              "      <th>1</th>\n",
              "      <td>Joseph</td>\n",
              "      <td>NaN</td>\n",
              "      <td>beer</td>\n",
              "    </tr>\n",
              "  </tbody>\n",
              "</table>\n",
              "</div>\n",
              "    </div>"
            ],
            "text/plain": [
              "df6\n",
              "    name   food\n",
              "0  Peter   fish\n",
              "1   Paul  beans\n",
              "2   Mary  bread\n",
              "\n",
              "df7\n",
              "     name drink\n",
              "0    Mary  wine\n",
              "1  Joseph  beer\n",
              "\n",
              "pd.merge(df6, df7, how='right')\n",
              "     name   food drink\n",
              "0    Mary  bread  wine\n",
              "1  Joseph    NaN  beer"
            ]
          },
          "execution_count": 17,
          "metadata": {},
          "output_type": "execute_result"
        }
      ],
      "source": [
        "display('df6', 'df7', \"pd.merge(df6, df7, how='right')\")"
      ]
    },
    {
      "cell_type": "markdown",
      "metadata": {
        "id": "7WlG3mmk_TfV"
      },
      "source": [
        "The output rows now correspond to the entries in the left input. Using\n",
        "``how='right'`` works in a similar manner.\n",
        "\n",
        "All of these options can be applied straightforwardly to any of the preceding join types."
      ]
    },
    {
      "cell_type": "markdown",
      "metadata": {
        "id": "DWiKAFzE_TfW"
      },
      "source": [
        "## Overlapping Column Names: The ``suffixes`` Keyword"
      ]
    },
    {
      "cell_type": "markdown",
      "metadata": {
        "id": "q9LYkiDT_TfX"
      },
      "source": [
        "Finally, you may end up in a case where your two input ``DataFrame``s have conflicting column names.\n",
        "Consider this example:"
      ]
    },
    {
      "cell_type": "code",
      "execution_count": 18,
      "metadata": {
        "colab": {
          "base_uri": "https://localhost:8080/",
          "height": 224
        },
        "id": "hH3nXDLA_TfX",
        "outputId": "e83d69b5-bc88-4f36-df5a-c803214ce8ff"
      },
      "outputs": [
        {
          "data": {
            "text/html": [
              "<div style=\"float: left; padding: 10px;\">\n",
              "    <p style='font-family:\"Courier New\", Courier, monospace'>df8</p><div>\n",
              "<style scoped>\n",
              "    .dataframe tbody tr th:only-of-type {\n",
              "        vertical-align: middle;\n",
              "    }\n",
              "\n",
              "    .dataframe tbody tr th {\n",
              "        vertical-align: top;\n",
              "    }\n",
              "\n",
              "    .dataframe thead th {\n",
              "        text-align: right;\n",
              "    }\n",
              "</style>\n",
              "<table border=\"1\" class=\"dataframe\">\n",
              "  <thead>\n",
              "    <tr style=\"text-align: right;\">\n",
              "      <th></th>\n",
              "      <th>name</th>\n",
              "      <th>rank</th>\n",
              "    </tr>\n",
              "  </thead>\n",
              "  <tbody>\n",
              "    <tr>\n",
              "      <th>0</th>\n",
              "      <td>Bob</td>\n",
              "      <td>1</td>\n",
              "    </tr>\n",
              "    <tr>\n",
              "      <th>1</th>\n",
              "      <td>Jake</td>\n",
              "      <td>2</td>\n",
              "    </tr>\n",
              "    <tr>\n",
              "      <th>2</th>\n",
              "      <td>Lisa</td>\n",
              "      <td>3</td>\n",
              "    </tr>\n",
              "    <tr>\n",
              "      <th>3</th>\n",
              "      <td>Sue</td>\n",
              "      <td>4</td>\n",
              "    </tr>\n",
              "  </tbody>\n",
              "</table>\n",
              "</div>\n",
              "    </div>\n",
              "<div style=\"float: left; padding: 10px;\">\n",
              "    <p style='font-family:\"Courier New\", Courier, monospace'>df9</p><div>\n",
              "<style scoped>\n",
              "    .dataframe tbody tr th:only-of-type {\n",
              "        vertical-align: middle;\n",
              "    }\n",
              "\n",
              "    .dataframe tbody tr th {\n",
              "        vertical-align: top;\n",
              "    }\n",
              "\n",
              "    .dataframe thead th {\n",
              "        text-align: right;\n",
              "    }\n",
              "</style>\n",
              "<table border=\"1\" class=\"dataframe\">\n",
              "  <thead>\n",
              "    <tr style=\"text-align: right;\">\n",
              "      <th></th>\n",
              "      <th>name</th>\n",
              "      <th>rank</th>\n",
              "    </tr>\n",
              "  </thead>\n",
              "  <tbody>\n",
              "    <tr>\n",
              "      <th>0</th>\n",
              "      <td>Bob</td>\n",
              "      <td>3</td>\n",
              "    </tr>\n",
              "    <tr>\n",
              "      <th>1</th>\n",
              "      <td>Jake</td>\n",
              "      <td>1</td>\n",
              "    </tr>\n",
              "    <tr>\n",
              "      <th>2</th>\n",
              "      <td>Lisa</td>\n",
              "      <td>4</td>\n",
              "    </tr>\n",
              "    <tr>\n",
              "      <th>3</th>\n",
              "      <td>Sue</td>\n",
              "      <td>2</td>\n",
              "    </tr>\n",
              "  </tbody>\n",
              "</table>\n",
              "</div>\n",
              "    </div>\n",
              "<div style=\"float: left; padding: 10px;\">\n",
              "    <p style='font-family:\"Courier New\", Courier, monospace'>pd.merge(df8, df9, on=\"name\")</p><div>\n",
              "<style scoped>\n",
              "    .dataframe tbody tr th:only-of-type {\n",
              "        vertical-align: middle;\n",
              "    }\n",
              "\n",
              "    .dataframe tbody tr th {\n",
              "        vertical-align: top;\n",
              "    }\n",
              "\n",
              "    .dataframe thead th {\n",
              "        text-align: right;\n",
              "    }\n",
              "</style>\n",
              "<table border=\"1\" class=\"dataframe\">\n",
              "  <thead>\n",
              "    <tr style=\"text-align: right;\">\n",
              "      <th></th>\n",
              "      <th>name</th>\n",
              "      <th>rank_x</th>\n",
              "      <th>rank_y</th>\n",
              "    </tr>\n",
              "  </thead>\n",
              "  <tbody>\n",
              "    <tr>\n",
              "      <th>0</th>\n",
              "      <td>Bob</td>\n",
              "      <td>1</td>\n",
              "      <td>3</td>\n",
              "    </tr>\n",
              "    <tr>\n",
              "      <th>1</th>\n",
              "      <td>Jake</td>\n",
              "      <td>2</td>\n",
              "      <td>1</td>\n",
              "    </tr>\n",
              "    <tr>\n",
              "      <th>2</th>\n",
              "      <td>Lisa</td>\n",
              "      <td>3</td>\n",
              "      <td>4</td>\n",
              "    </tr>\n",
              "    <tr>\n",
              "      <th>3</th>\n",
              "      <td>Sue</td>\n",
              "      <td>4</td>\n",
              "      <td>2</td>\n",
              "    </tr>\n",
              "  </tbody>\n",
              "</table>\n",
              "</div>\n",
              "    </div>"
            ],
            "text/plain": [
              "df8\n",
              "   name  rank\n",
              "0   Bob     1\n",
              "1  Jake     2\n",
              "2  Lisa     3\n",
              "3   Sue     4\n",
              "\n",
              "df9\n",
              "   name  rank\n",
              "0   Bob     3\n",
              "1  Jake     1\n",
              "2  Lisa     4\n",
              "3   Sue     2\n",
              "\n",
              "pd.merge(df8, df9, on=\"name\")\n",
              "   name  rank_x  rank_y\n",
              "0   Bob       1       3\n",
              "1  Jake       2       1\n",
              "2  Lisa       3       4\n",
              "3   Sue       4       2"
            ]
          },
          "execution_count": 18,
          "metadata": {},
          "output_type": "execute_result"
        }
      ],
      "source": [
        "df8 = pd.DataFrame({'name': ['Bob', 'Jake', 'Lisa', 'Sue'],\n",
        "                    'rank': [1, 2, 3, 4]})\n",
        "df9 = pd.DataFrame({'name': ['Bob', 'Jake', 'Lisa', 'Sue'],\n",
        "                    'rank': [3, 1, 4, 2]})\n",
        "display('df8', 'df9', 'pd.merge(df8, df9, on=\"name\")')"
      ]
    },
    {
      "cell_type": "markdown",
      "metadata": {
        "id": "LyB1T-Dn_TfY"
      },
      "source": [
        "Because the output would have two conflicting column names, the merge function automatically appends a suffix ``_x`` or ``_y`` to make the output columns unique.\n",
        "If these defaults are inappropriate, it is possible to specify a custom suffix using the ``suffixes`` keyword:"
      ]
    },
    {
      "cell_type": "code",
      "execution_count": 19,
      "metadata": {
        "colab": {
          "base_uri": "https://localhost:8080/",
          "height": 224
        },
        "id": "q1cGOGuQ_TfY",
        "outputId": "a68cb22a-a96c-418a-ed4a-7faf15703b56"
      },
      "outputs": [
        {
          "data": {
            "text/html": [
              "<div style=\"float: left; padding: 10px;\">\n",
              "    <p style='font-family:\"Courier New\", Courier, monospace'>df8</p><div>\n",
              "<style scoped>\n",
              "    .dataframe tbody tr th:only-of-type {\n",
              "        vertical-align: middle;\n",
              "    }\n",
              "\n",
              "    .dataframe tbody tr th {\n",
              "        vertical-align: top;\n",
              "    }\n",
              "\n",
              "    .dataframe thead th {\n",
              "        text-align: right;\n",
              "    }\n",
              "</style>\n",
              "<table border=\"1\" class=\"dataframe\">\n",
              "  <thead>\n",
              "    <tr style=\"text-align: right;\">\n",
              "      <th></th>\n",
              "      <th>name</th>\n",
              "      <th>rank</th>\n",
              "    </tr>\n",
              "  </thead>\n",
              "  <tbody>\n",
              "    <tr>\n",
              "      <th>0</th>\n",
              "      <td>Bob</td>\n",
              "      <td>1</td>\n",
              "    </tr>\n",
              "    <tr>\n",
              "      <th>1</th>\n",
              "      <td>Jake</td>\n",
              "      <td>2</td>\n",
              "    </tr>\n",
              "    <tr>\n",
              "      <th>2</th>\n",
              "      <td>Lisa</td>\n",
              "      <td>3</td>\n",
              "    </tr>\n",
              "    <tr>\n",
              "      <th>3</th>\n",
              "      <td>Sue</td>\n",
              "      <td>4</td>\n",
              "    </tr>\n",
              "  </tbody>\n",
              "</table>\n",
              "</div>\n",
              "    </div>\n",
              "<div style=\"float: left; padding: 10px;\">\n",
              "    <p style='font-family:\"Courier New\", Courier, monospace'>df9</p><div>\n",
              "<style scoped>\n",
              "    .dataframe tbody tr th:only-of-type {\n",
              "        vertical-align: middle;\n",
              "    }\n",
              "\n",
              "    .dataframe tbody tr th {\n",
              "        vertical-align: top;\n",
              "    }\n",
              "\n",
              "    .dataframe thead th {\n",
              "        text-align: right;\n",
              "    }\n",
              "</style>\n",
              "<table border=\"1\" class=\"dataframe\">\n",
              "  <thead>\n",
              "    <tr style=\"text-align: right;\">\n",
              "      <th></th>\n",
              "      <th>name</th>\n",
              "      <th>rank</th>\n",
              "    </tr>\n",
              "  </thead>\n",
              "  <tbody>\n",
              "    <tr>\n",
              "      <th>0</th>\n",
              "      <td>Bob</td>\n",
              "      <td>3</td>\n",
              "    </tr>\n",
              "    <tr>\n",
              "      <th>1</th>\n",
              "      <td>Jake</td>\n",
              "      <td>1</td>\n",
              "    </tr>\n",
              "    <tr>\n",
              "      <th>2</th>\n",
              "      <td>Lisa</td>\n",
              "      <td>4</td>\n",
              "    </tr>\n",
              "    <tr>\n",
              "      <th>3</th>\n",
              "      <td>Sue</td>\n",
              "      <td>2</td>\n",
              "    </tr>\n",
              "  </tbody>\n",
              "</table>\n",
              "</div>\n",
              "    </div>\n",
              "<div style=\"float: left; padding: 10px;\">\n",
              "    <p style='font-family:\"Courier New\", Courier, monospace'>pd.merge(df8, df9, on=\"name\", suffixes=[\"_L\", \"_R\"])</p><div>\n",
              "<style scoped>\n",
              "    .dataframe tbody tr th:only-of-type {\n",
              "        vertical-align: middle;\n",
              "    }\n",
              "\n",
              "    .dataframe tbody tr th {\n",
              "        vertical-align: top;\n",
              "    }\n",
              "\n",
              "    .dataframe thead th {\n",
              "        text-align: right;\n",
              "    }\n",
              "</style>\n",
              "<table border=\"1\" class=\"dataframe\">\n",
              "  <thead>\n",
              "    <tr style=\"text-align: right;\">\n",
              "      <th></th>\n",
              "      <th>name</th>\n",
              "      <th>rank_L</th>\n",
              "      <th>rank_R</th>\n",
              "    </tr>\n",
              "  </thead>\n",
              "  <tbody>\n",
              "    <tr>\n",
              "      <th>0</th>\n",
              "      <td>Bob</td>\n",
              "      <td>1</td>\n",
              "      <td>3</td>\n",
              "    </tr>\n",
              "    <tr>\n",
              "      <th>1</th>\n",
              "      <td>Jake</td>\n",
              "      <td>2</td>\n",
              "      <td>1</td>\n",
              "    </tr>\n",
              "    <tr>\n",
              "      <th>2</th>\n",
              "      <td>Lisa</td>\n",
              "      <td>3</td>\n",
              "      <td>4</td>\n",
              "    </tr>\n",
              "    <tr>\n",
              "      <th>3</th>\n",
              "      <td>Sue</td>\n",
              "      <td>4</td>\n",
              "      <td>2</td>\n",
              "    </tr>\n",
              "  </tbody>\n",
              "</table>\n",
              "</div>\n",
              "    </div>"
            ],
            "text/plain": [
              "df8\n",
              "   name  rank\n",
              "0   Bob     1\n",
              "1  Jake     2\n",
              "2  Lisa     3\n",
              "3   Sue     4\n",
              "\n",
              "df9\n",
              "   name  rank\n",
              "0   Bob     3\n",
              "1  Jake     1\n",
              "2  Lisa     4\n",
              "3   Sue     2\n",
              "\n",
              "pd.merge(df8, df9, on=\"name\", suffixes=[\"_L\", \"_R\"])\n",
              "   name  rank_L  rank_R\n",
              "0   Bob       1       3\n",
              "1  Jake       2       1\n",
              "2  Lisa       3       4\n",
              "3   Sue       4       2"
            ]
          },
          "execution_count": 19,
          "metadata": {},
          "output_type": "execute_result"
        }
      ],
      "source": [
        "display('df8', 'df9', 'pd.merge(df8, df9, on=\"name\", suffixes=[\"_L\", \"_R\"])')"
      ]
    },
    {
      "cell_type": "markdown",
      "metadata": {
        "id": "pnAKLZjL_TfZ"
      },
      "source": [
        "These suffixes work in any of the possible join patterns, and work also if there are multiple overlapping columns."
      ]
    },
    {
      "cell_type": "markdown",
      "metadata": {
        "id": "0Tw99vMA_TfZ"
      },
      "source": [
        "For more information on these patterns, see [Aggregation and Grouping](03.08-Aggregation-and-Grouping.ipynb) where we dive a bit deeper into relational algebra.\n",
        "Also see the [Pandas \"Merge, Join and Concatenate\" documentation](http://pandas.pydata.org/pandas-docs/stable/merging.html) for further discussion of these topics."
      ]
    },
    {
      "cell_type": "markdown",
      "metadata": {
        "id": "36hCW9Bo_Tfa"
      },
      "source": [
        "## Example: US States Data\n",
        "\n",
        "Merge and join operations come up most often when combining data from different sources.\n",
        "Here we will consider an example of some data about US states and their populations.\n",
        "The data files can be found at http://github.com/jakevdp/data-USstates/:"
      ]
    },
    {
      "cell_type": "code",
      "execution_count": 20,
      "metadata": {
        "id": "tOUOkC7x_Tfa"
      },
      "outputs": [],
      "source": [
        "# Following are shell commands to download the data\n",
        "# !curl -O https://raw.githubusercontent.com/jakevdp/data-USstates/master/state-population.csv\n",
        "# !curl -O https://raw.githubusercontent.com/jakevdp/data-USstates/master/state-areas.csv\n",
        "# !curl -O https://raw.githubusercontent.com/jakevdp/data-USstates/master/state-abbrevs.csv"
      ]
    },
    {
      "cell_type": "markdown",
      "metadata": {
        "id": "VSWO1m_m_Tfa"
      },
      "source": [
        "Let's take a look at the three datasets, using the Pandas ``read_csv()`` function:"
      ]
    },
    {
      "cell_type": "code",
      "execution_count": 21,
      "metadata": {
        "colab": {
          "base_uri": "https://localhost:8080/",
          "height": 398
        },
        "id": "Js7Afq6j_Tfb",
        "outputId": "2acbd91b-9ab6-40e2-875f-4cf9d4ffb860"
      },
      "outputs": [
        {
          "data": {
            "text/html": [
              "<div style=\"float: left; padding: 10px;\">\n",
              "    <p style='font-family:\"Courier New\", Courier, monospace'>pop.head()</p><div>\n",
              "<style scoped>\n",
              "    .dataframe tbody tr th:only-of-type {\n",
              "        vertical-align: middle;\n",
              "    }\n",
              "\n",
              "    .dataframe tbody tr th {\n",
              "        vertical-align: top;\n",
              "    }\n",
              "\n",
              "    .dataframe thead th {\n",
              "        text-align: right;\n",
              "    }\n",
              "</style>\n",
              "<table border=\"1\" class=\"dataframe\">\n",
              "  <thead>\n",
              "    <tr style=\"text-align: right;\">\n",
              "      <th></th>\n",
              "      <th>state/region</th>\n",
              "      <th>ages</th>\n",
              "      <th>year</th>\n",
              "      <th>population</th>\n",
              "    </tr>\n",
              "  </thead>\n",
              "  <tbody>\n",
              "    <tr>\n",
              "      <th>0</th>\n",
              "      <td>AL</td>\n",
              "      <td>under18</td>\n",
              "      <td>2012</td>\n",
              "      <td>1117489.0</td>\n",
              "    </tr>\n",
              "    <tr>\n",
              "      <th>1</th>\n",
              "      <td>AL</td>\n",
              "      <td>total</td>\n",
              "      <td>2012</td>\n",
              "      <td>4817528.0</td>\n",
              "    </tr>\n",
              "    <tr>\n",
              "      <th>2</th>\n",
              "      <td>AL</td>\n",
              "      <td>under18</td>\n",
              "      <td>2010</td>\n",
              "      <td>1130966.0</td>\n",
              "    </tr>\n",
              "    <tr>\n",
              "      <th>3</th>\n",
              "      <td>AL</td>\n",
              "      <td>total</td>\n",
              "      <td>2010</td>\n",
              "      <td>4785570.0</td>\n",
              "    </tr>\n",
              "    <tr>\n",
              "      <th>4</th>\n",
              "      <td>AL</td>\n",
              "      <td>under18</td>\n",
              "      <td>2011</td>\n",
              "      <td>1125763.0</td>\n",
              "    </tr>\n",
              "  </tbody>\n",
              "</table>\n",
              "</div>\n",
              "    </div>\n",
              "<div style=\"float: left; padding: 10px;\">\n",
              "    <p style='font-family:\"Courier New\", Courier, monospace'>areas.head()</p><div>\n",
              "<style scoped>\n",
              "    .dataframe tbody tr th:only-of-type {\n",
              "        vertical-align: middle;\n",
              "    }\n",
              "\n",
              "    .dataframe tbody tr th {\n",
              "        vertical-align: top;\n",
              "    }\n",
              "\n",
              "    .dataframe thead th {\n",
              "        text-align: right;\n",
              "    }\n",
              "</style>\n",
              "<table border=\"1\" class=\"dataframe\">\n",
              "  <thead>\n",
              "    <tr style=\"text-align: right;\">\n",
              "      <th></th>\n",
              "      <th>state</th>\n",
              "      <th>area (sq. mi)</th>\n",
              "    </tr>\n",
              "  </thead>\n",
              "  <tbody>\n",
              "    <tr>\n",
              "      <th>0</th>\n",
              "      <td>Alabama</td>\n",
              "      <td>52423</td>\n",
              "    </tr>\n",
              "    <tr>\n",
              "      <th>1</th>\n",
              "      <td>Alaska</td>\n",
              "      <td>656425</td>\n",
              "    </tr>\n",
              "    <tr>\n",
              "      <th>2</th>\n",
              "      <td>Arizona</td>\n",
              "      <td>114006</td>\n",
              "    </tr>\n",
              "    <tr>\n",
              "      <th>3</th>\n",
              "      <td>Arkansas</td>\n",
              "      <td>53182</td>\n",
              "    </tr>\n",
              "    <tr>\n",
              "      <th>4</th>\n",
              "      <td>California</td>\n",
              "      <td>163707</td>\n",
              "    </tr>\n",
              "  </tbody>\n",
              "</table>\n",
              "</div>\n",
              "    </div>\n",
              "<div style=\"float: left; padding: 10px;\">\n",
              "    <p style='font-family:\"Courier New\", Courier, monospace'>abbrevs.head()</p><div>\n",
              "<style scoped>\n",
              "    .dataframe tbody tr th:only-of-type {\n",
              "        vertical-align: middle;\n",
              "    }\n",
              "\n",
              "    .dataframe tbody tr th {\n",
              "        vertical-align: top;\n",
              "    }\n",
              "\n",
              "    .dataframe thead th {\n",
              "        text-align: right;\n",
              "    }\n",
              "</style>\n",
              "<table border=\"1\" class=\"dataframe\">\n",
              "  <thead>\n",
              "    <tr style=\"text-align: right;\">\n",
              "      <th></th>\n",
              "      <th>state</th>\n",
              "      <th>abbreviation</th>\n",
              "    </tr>\n",
              "  </thead>\n",
              "  <tbody>\n",
              "    <tr>\n",
              "      <th>0</th>\n",
              "      <td>Alabama</td>\n",
              "      <td>AL</td>\n",
              "    </tr>\n",
              "    <tr>\n",
              "      <th>1</th>\n",
              "      <td>Alaska</td>\n",
              "      <td>AK</td>\n",
              "    </tr>\n",
              "    <tr>\n",
              "      <th>2</th>\n",
              "      <td>Arizona</td>\n",
              "      <td>AZ</td>\n",
              "    </tr>\n",
              "    <tr>\n",
              "      <th>3</th>\n",
              "      <td>Arkansas</td>\n",
              "      <td>AR</td>\n",
              "    </tr>\n",
              "    <tr>\n",
              "      <th>4</th>\n",
              "      <td>California</td>\n",
              "      <td>CA</td>\n",
              "    </tr>\n",
              "  </tbody>\n",
              "</table>\n",
              "</div>\n",
              "    </div>"
            ],
            "text/plain": [
              "pop.head()\n",
              "  state/region     ages  year  population\n",
              "0           AL  under18  2012   1117489.0\n",
              "1           AL    total  2012   4817528.0\n",
              "2           AL  under18  2010   1130966.0\n",
              "3           AL    total  2010   4785570.0\n",
              "4           AL  under18  2011   1125763.0\n",
              "\n",
              "areas.head()\n",
              "        state  area (sq. mi)\n",
              "0     Alabama          52423\n",
              "1      Alaska         656425\n",
              "2     Arizona         114006\n",
              "3    Arkansas          53182\n",
              "4  California         163707\n",
              "\n",
              "abbrevs.head()\n",
              "        state abbreviation\n",
              "0     Alabama           AL\n",
              "1      Alaska           AK\n",
              "2     Arizona           AZ\n",
              "3    Arkansas           AR\n",
              "4  California           CA"
            ]
          },
          "execution_count": 21,
          "metadata": {},
          "output_type": "execute_result"
        }
      ],
      "source": [
        "import pandas as pd\n",
        "\n",
        "pop = pd.read_csv('DATA/state-population.csv')\n",
        "areas = pd.read_csv('DATa/state-areas.csv')\n",
        "abbrevs = pd.read_csv('DATA/state-abbrevs.csv')\n",
        "\n",
        "display('pop.head()', 'areas.head()', 'abbrevs.head()')"
      ]
    },
    {
      "cell_type": "markdown",
      "metadata": {
        "id": "zthE93qm_Tfb"
      },
      "source": [
        "Given this information, say we want to compute a relatively straightforward result: rank US states and territories by their 2010 population density.\n",
        "We clearly have the data here to find this result, but we'll have to combine the datasets to find the result.\n",
        "\n",
        "We'll start with a many-to-one merge that will give us the full state name within the population ``DataFrame``.\n",
        "We want to merge based on the ``state/region``  column of ``pop``, and the ``abbreviation`` column of ``abbrevs``.\n",
        "We'll use ``how='outer'`` to make sure no data is thrown away due to mismatched labels."
      ]
    },
    {
      "cell_type": "code",
      "execution_count": 22,
      "metadata": {
        "id": "JHaUyJTO_Tfc"
      },
      "outputs": [
        {
          "ename": "TypeError",
          "evalue": "DataFrame.drop() takes from 1 to 2 positional arguments but 3 were given",
          "output_type": "error",
          "traceback": [
            "\u001b[1;31m---------------------------------------------------------------------------\u001b[0m",
            "\u001b[1;31mTypeError\u001b[0m                                 Traceback (most recent call last)",
            "Cell \u001b[1;32mIn[22], line 3\u001b[0m\n\u001b[0;32m      1\u001b[0m merged \u001b[38;5;241m=\u001b[39m pd\u001b[38;5;241m.\u001b[39mmerge(pop, abbrevs, how\u001b[38;5;241m=\u001b[39m\u001b[38;5;124m'\u001b[39m\u001b[38;5;124mouter\u001b[39m\u001b[38;5;124m'\u001b[39m,\n\u001b[0;32m      2\u001b[0m                   left_on\u001b[38;5;241m=\u001b[39m\u001b[38;5;124m'\u001b[39m\u001b[38;5;124mstate/region\u001b[39m\u001b[38;5;124m'\u001b[39m, right_on\u001b[38;5;241m=\u001b[39m\u001b[38;5;124m'\u001b[39m\u001b[38;5;124mabbreviation\u001b[39m\u001b[38;5;124m'\u001b[39m)\n\u001b[1;32m----> 3\u001b[0m merged \u001b[38;5;241m=\u001b[39m \u001b[43mmerged\u001b[49m\u001b[38;5;241;43m.\u001b[39;49m\u001b[43mdrop\u001b[49m\u001b[43m(\u001b[49m\u001b[38;5;124;43m'\u001b[39;49m\u001b[38;5;124;43mabbreviation\u001b[39;49m\u001b[38;5;124;43m'\u001b[39;49m\u001b[43m,\u001b[49m\u001b[43m \u001b[49m\u001b[38;5;241;43m1\u001b[39;49m\u001b[43m)\u001b[49m \u001b[38;5;66;03m# drop duplicate info\u001b[39;00m\n\u001b[0;32m      4\u001b[0m merged\u001b[38;5;241m.\u001b[39mhead()\n",
            "\u001b[1;31mTypeError\u001b[0m: DataFrame.drop() takes from 1 to 2 positional arguments but 3 were given"
          ]
        }
      ],
      "source": [
        "merged = pd.merge(pop, abbrevs, how='outer',\n",
        "                  left_on='state/region', right_on='abbreviation')\n",
        "merged = merged.drop('abbreviation', 1) # drop duplicate info\n",
        "merged.head()"
      ]
    },
    {
      "cell_type": "markdown",
      "metadata": {
        "id": "7deGMAkz_Tfc"
      },
      "source": [
        "Let's double-check whether there were any mismatches here, which we can do by looking for rows with nulls:"
      ]
    },
    {
      "cell_type": "code",
      "execution_count": 23,
      "metadata": {
        "id": "MEJd9T_h_Tfd"
      },
      "outputs": [
        {
          "data": {
            "text/plain": [
              "state/region    False\n",
              "ages            False\n",
              "year            False\n",
              "population       True\n",
              "state            True\n",
              "abbreviation     True\n",
              "dtype: bool"
            ]
          },
          "execution_count": 23,
          "metadata": {},
          "output_type": "execute_result"
        }
      ],
      "source": [
        "merged.isnull().any()"
      ]
    },
    {
      "cell_type": "markdown",
      "metadata": {
        "id": "yctWGj9h_Tfd"
      },
      "source": [
        "Some of the ``population`` info is null; let's figure out which these are!"
      ]
    },
    {
      "cell_type": "code",
      "execution_count": 24,
      "metadata": {
        "id": "BZ1AYeKB_Tfd"
      },
      "outputs": [
        {
          "data": {
            "text/html": [
              "<div>\n",
              "<style scoped>\n",
              "    .dataframe tbody tr th:only-of-type {\n",
              "        vertical-align: middle;\n",
              "    }\n",
              "\n",
              "    .dataframe tbody tr th {\n",
              "        vertical-align: top;\n",
              "    }\n",
              "\n",
              "    .dataframe thead th {\n",
              "        text-align: right;\n",
              "    }\n",
              "</style>\n",
              "<table border=\"1\" class=\"dataframe\">\n",
              "  <thead>\n",
              "    <tr style=\"text-align: right;\">\n",
              "      <th></th>\n",
              "      <th>state/region</th>\n",
              "      <th>ages</th>\n",
              "      <th>year</th>\n",
              "      <th>population</th>\n",
              "      <th>state</th>\n",
              "      <th>abbreviation</th>\n",
              "    </tr>\n",
              "  </thead>\n",
              "  <tbody>\n",
              "    <tr>\n",
              "      <th>1872</th>\n",
              "      <td>PR</td>\n",
              "      <td>under18</td>\n",
              "      <td>1990</td>\n",
              "      <td>NaN</td>\n",
              "      <td>NaN</td>\n",
              "      <td>NaN</td>\n",
              "    </tr>\n",
              "    <tr>\n",
              "      <th>1873</th>\n",
              "      <td>PR</td>\n",
              "      <td>total</td>\n",
              "      <td>1990</td>\n",
              "      <td>NaN</td>\n",
              "      <td>NaN</td>\n",
              "      <td>NaN</td>\n",
              "    </tr>\n",
              "    <tr>\n",
              "      <th>1874</th>\n",
              "      <td>PR</td>\n",
              "      <td>total</td>\n",
              "      <td>1991</td>\n",
              "      <td>NaN</td>\n",
              "      <td>NaN</td>\n",
              "      <td>NaN</td>\n",
              "    </tr>\n",
              "    <tr>\n",
              "      <th>1875</th>\n",
              "      <td>PR</td>\n",
              "      <td>under18</td>\n",
              "      <td>1991</td>\n",
              "      <td>NaN</td>\n",
              "      <td>NaN</td>\n",
              "      <td>NaN</td>\n",
              "    </tr>\n",
              "    <tr>\n",
              "      <th>1876</th>\n",
              "      <td>PR</td>\n",
              "      <td>total</td>\n",
              "      <td>1993</td>\n",
              "      <td>NaN</td>\n",
              "      <td>NaN</td>\n",
              "      <td>NaN</td>\n",
              "    </tr>\n",
              "  </tbody>\n",
              "</table>\n",
              "</div>"
            ],
            "text/plain": [
              "     state/region     ages  year  population state abbreviation\n",
              "1872           PR  under18  1990         NaN   NaN          NaN\n",
              "1873           PR    total  1990         NaN   NaN          NaN\n",
              "1874           PR    total  1991         NaN   NaN          NaN\n",
              "1875           PR  under18  1991         NaN   NaN          NaN\n",
              "1876           PR    total  1993         NaN   NaN          NaN"
            ]
          },
          "execution_count": 24,
          "metadata": {},
          "output_type": "execute_result"
        }
      ],
      "source": [
        "merged[merged['population'].isnull()].head()"
      ]
    },
    {
      "cell_type": "markdown",
      "metadata": {
        "id": "fJTIxBJz_Tfe"
      },
      "source": [
        "It appears that all the null population values are from Puerto Rico prior to the year 2000; this is likely due to this data not being available from the original source.\n",
        "\n",
        "More importantly, we see also that some of the new ``state`` entries are also null, which means that there was no corresponding entry in the ``abbrevs`` key!\n",
        "Let's figure out which regions lack this match:"
      ]
    },
    {
      "cell_type": "code",
      "execution_count": 25,
      "metadata": {
        "id": "JpER5ADu_Tfe"
      },
      "outputs": [
        {
          "data": {
            "text/plain": [
              "array(['PR', 'USA'], dtype=object)"
            ]
          },
          "execution_count": 25,
          "metadata": {},
          "output_type": "execute_result"
        }
      ],
      "source": [
        "merged.loc[merged['state'].isnull(), 'state/region'].unique()"
      ]
    },
    {
      "cell_type": "markdown",
      "metadata": {
        "id": "AocDRYWE_Tff"
      },
      "source": [
        "We can quickly infer the issue: our population data includes entries for Puerto Rico (PR) and the United States as a whole (USA), while these entries do not appear in the state abbreviation key.\n",
        "We can fix these quickly by filling in appropriate entries:"
      ]
    },
    {
      "cell_type": "code",
      "execution_count": 26,
      "metadata": {
        "id": "mJ-kpXep_Tff"
      },
      "outputs": [
        {
          "data": {
            "text/plain": [
              "state/region    False\n",
              "ages            False\n",
              "year            False\n",
              "population       True\n",
              "state           False\n",
              "abbreviation     True\n",
              "dtype: bool"
            ]
          },
          "execution_count": 26,
          "metadata": {},
          "output_type": "execute_result"
        }
      ],
      "source": [
        "merged.loc[merged['state/region'] == 'PR', 'state'] = 'Puerto Rico'\n",
        "merged.loc[merged['state/region'] == 'USA', 'state'] = 'United States'\n",
        "merged.isnull().any()"
      ]
    },
    {
      "cell_type": "markdown",
      "metadata": {
        "id": "YVsZvPNF_Tff"
      },
      "source": [
        "No more nulls in the ``state`` column: we're all set!\n",
        "\n",
        "Now we can merge the result with the area data using a similar procedure.\n",
        "Examining our results, we will want to join on the ``state`` column in both:"
      ]
    },
    {
      "cell_type": "code",
      "execution_count": 27,
      "metadata": {
        "id": "F3DArpDH_Tfg"
      },
      "outputs": [
        {
          "data": {
            "text/html": [
              "<div>\n",
              "<style scoped>\n",
              "    .dataframe tbody tr th:only-of-type {\n",
              "        vertical-align: middle;\n",
              "    }\n",
              "\n",
              "    .dataframe tbody tr th {\n",
              "        vertical-align: top;\n",
              "    }\n",
              "\n",
              "    .dataframe thead th {\n",
              "        text-align: right;\n",
              "    }\n",
              "</style>\n",
              "<table border=\"1\" class=\"dataframe\">\n",
              "  <thead>\n",
              "    <tr style=\"text-align: right;\">\n",
              "      <th></th>\n",
              "      <th>state/region</th>\n",
              "      <th>ages</th>\n",
              "      <th>year</th>\n",
              "      <th>population</th>\n",
              "      <th>state</th>\n",
              "      <th>abbreviation</th>\n",
              "      <th>area (sq. mi)</th>\n",
              "    </tr>\n",
              "  </thead>\n",
              "  <tbody>\n",
              "    <tr>\n",
              "      <th>0</th>\n",
              "      <td>AK</td>\n",
              "      <td>total</td>\n",
              "      <td>1990</td>\n",
              "      <td>553290.0</td>\n",
              "      <td>Alaska</td>\n",
              "      <td>AK</td>\n",
              "      <td>656425.0</td>\n",
              "    </tr>\n",
              "    <tr>\n",
              "      <th>1</th>\n",
              "      <td>AK</td>\n",
              "      <td>under18</td>\n",
              "      <td>1990</td>\n",
              "      <td>177502.0</td>\n",
              "      <td>Alaska</td>\n",
              "      <td>AK</td>\n",
              "      <td>656425.0</td>\n",
              "    </tr>\n",
              "    <tr>\n",
              "      <th>2</th>\n",
              "      <td>AK</td>\n",
              "      <td>total</td>\n",
              "      <td>1992</td>\n",
              "      <td>588736.0</td>\n",
              "      <td>Alaska</td>\n",
              "      <td>AK</td>\n",
              "      <td>656425.0</td>\n",
              "    </tr>\n",
              "    <tr>\n",
              "      <th>3</th>\n",
              "      <td>AK</td>\n",
              "      <td>under18</td>\n",
              "      <td>1991</td>\n",
              "      <td>182180.0</td>\n",
              "      <td>Alaska</td>\n",
              "      <td>AK</td>\n",
              "      <td>656425.0</td>\n",
              "    </tr>\n",
              "    <tr>\n",
              "      <th>4</th>\n",
              "      <td>AK</td>\n",
              "      <td>under18</td>\n",
              "      <td>1992</td>\n",
              "      <td>184878.0</td>\n",
              "      <td>Alaska</td>\n",
              "      <td>AK</td>\n",
              "      <td>656425.0</td>\n",
              "    </tr>\n",
              "  </tbody>\n",
              "</table>\n",
              "</div>"
            ],
            "text/plain": [
              "  state/region     ages  year  population   state abbreviation  area (sq. mi)\n",
              "0           AK    total  1990    553290.0  Alaska           AK       656425.0\n",
              "1           AK  under18  1990    177502.0  Alaska           AK       656425.0\n",
              "2           AK    total  1992    588736.0  Alaska           AK       656425.0\n",
              "3           AK  under18  1991    182180.0  Alaska           AK       656425.0\n",
              "4           AK  under18  1992    184878.0  Alaska           AK       656425.0"
            ]
          },
          "execution_count": 27,
          "metadata": {},
          "output_type": "execute_result"
        }
      ],
      "source": [
        "final = pd.merge(merged, areas, on='state', how='left')\n",
        "final.head()"
      ]
    },
    {
      "cell_type": "markdown",
      "metadata": {
        "id": "8VcmERJV_Tfg"
      },
      "source": [
        "Again, let's check for nulls to see if there were any mismatches:"
      ]
    },
    {
      "cell_type": "code",
      "execution_count": 28,
      "metadata": {
        "id": "KY9jXaUP_Tfh"
      },
      "outputs": [
        {
          "data": {
            "text/plain": [
              "state/region     False\n",
              "ages             False\n",
              "year             False\n",
              "population        True\n",
              "state            False\n",
              "abbreviation      True\n",
              "area (sq. mi)     True\n",
              "dtype: bool"
            ]
          },
          "execution_count": 28,
          "metadata": {},
          "output_type": "execute_result"
        }
      ],
      "source": [
        "final.isnull().any()"
      ]
    },
    {
      "cell_type": "markdown",
      "metadata": {
        "id": "TTEd44CW_Tfh"
      },
      "source": [
        "There are nulls in the ``area`` column; we can take a look to see which regions were ignored here:"
      ]
    },
    {
      "cell_type": "code",
      "execution_count": 29,
      "metadata": {
        "id": "yYpl7p_E_Tfh"
      },
      "outputs": [
        {
          "data": {
            "text/plain": [
              "array(['United States'], dtype=object)"
            ]
          },
          "execution_count": 29,
          "metadata": {},
          "output_type": "execute_result"
        }
      ],
      "source": [
        "final['state'][final['area (sq. mi)'].isnull()].unique()"
      ]
    },
    {
      "cell_type": "markdown",
      "metadata": {
        "id": "QgIs2iTd_Tfi"
      },
      "source": [
        "We see that our ``areas`` ``DataFrame`` does not contain the area of the United States as a whole.\n",
        "We could insert the appropriate value (using the sum of all state areas, for instance), but in this case we'll just drop the null values because the population density of the entire United States is not relevant to our current discussion:"
      ]
    },
    {
      "cell_type": "code",
      "execution_count": 30,
      "metadata": {
        "id": "_MxbXOnO_Tfi"
      },
      "outputs": [
        {
          "data": {
            "text/html": [
              "<div>\n",
              "<style scoped>\n",
              "    .dataframe tbody tr th:only-of-type {\n",
              "        vertical-align: middle;\n",
              "    }\n",
              "\n",
              "    .dataframe tbody tr th {\n",
              "        vertical-align: top;\n",
              "    }\n",
              "\n",
              "    .dataframe thead th {\n",
              "        text-align: right;\n",
              "    }\n",
              "</style>\n",
              "<table border=\"1\" class=\"dataframe\">\n",
              "  <thead>\n",
              "    <tr style=\"text-align: right;\">\n",
              "      <th></th>\n",
              "      <th>state/region</th>\n",
              "      <th>ages</th>\n",
              "      <th>year</th>\n",
              "      <th>population</th>\n",
              "      <th>state</th>\n",
              "      <th>abbreviation</th>\n",
              "      <th>area (sq. mi)</th>\n",
              "    </tr>\n",
              "  </thead>\n",
              "  <tbody>\n",
              "    <tr>\n",
              "      <th>0</th>\n",
              "      <td>AK</td>\n",
              "      <td>total</td>\n",
              "      <td>1990</td>\n",
              "      <td>553290.0</td>\n",
              "      <td>Alaska</td>\n",
              "      <td>AK</td>\n",
              "      <td>656425.0</td>\n",
              "    </tr>\n",
              "    <tr>\n",
              "      <th>1</th>\n",
              "      <td>AK</td>\n",
              "      <td>under18</td>\n",
              "      <td>1990</td>\n",
              "      <td>177502.0</td>\n",
              "      <td>Alaska</td>\n",
              "      <td>AK</td>\n",
              "      <td>656425.0</td>\n",
              "    </tr>\n",
              "    <tr>\n",
              "      <th>2</th>\n",
              "      <td>AK</td>\n",
              "      <td>total</td>\n",
              "      <td>1992</td>\n",
              "      <td>588736.0</td>\n",
              "      <td>Alaska</td>\n",
              "      <td>AK</td>\n",
              "      <td>656425.0</td>\n",
              "    </tr>\n",
              "    <tr>\n",
              "      <th>3</th>\n",
              "      <td>AK</td>\n",
              "      <td>under18</td>\n",
              "      <td>1991</td>\n",
              "      <td>182180.0</td>\n",
              "      <td>Alaska</td>\n",
              "      <td>AK</td>\n",
              "      <td>656425.0</td>\n",
              "    </tr>\n",
              "    <tr>\n",
              "      <th>4</th>\n",
              "      <td>AK</td>\n",
              "      <td>under18</td>\n",
              "      <td>1992</td>\n",
              "      <td>184878.0</td>\n",
              "      <td>Alaska</td>\n",
              "      <td>AK</td>\n",
              "      <td>656425.0</td>\n",
              "    </tr>\n",
              "  </tbody>\n",
              "</table>\n",
              "</div>"
            ],
            "text/plain": [
              "  state/region     ages  year  population   state abbreviation  area (sq. mi)\n",
              "0           AK    total  1990    553290.0  Alaska           AK       656425.0\n",
              "1           AK  under18  1990    177502.0  Alaska           AK       656425.0\n",
              "2           AK    total  1992    588736.0  Alaska           AK       656425.0\n",
              "3           AK  under18  1991    182180.0  Alaska           AK       656425.0\n",
              "4           AK  under18  1992    184878.0  Alaska           AK       656425.0"
            ]
          },
          "execution_count": 30,
          "metadata": {},
          "output_type": "execute_result"
        }
      ],
      "source": [
        "final.dropna(inplace=True)\n",
        "final.head()"
      ]
    },
    {
      "cell_type": "markdown",
      "metadata": {
        "id": "tu7JS1y4_Tfi"
      },
      "source": [
        "Now we have all the data we need. To answer the question of interest, let's first select the portion of the data corresponding with the year 2000, and the total population.\n",
        "We'll use the ``query()`` function to do this quickly (this requires the ``numexpr`` package to be installed; see [High-Performance Pandas: ``eval()`` and ``query()``](03.12-Performance-Eval-and-Query.ipynb)):"
      ]
    },
    {
      "cell_type": "code",
      "execution_count": 31,
      "metadata": {
        "id": "6Pyyd22B_Tfi"
      },
      "outputs": [
        {
          "data": {
            "text/html": [
              "<div>\n",
              "<style scoped>\n",
              "    .dataframe tbody tr th:only-of-type {\n",
              "        vertical-align: middle;\n",
              "    }\n",
              "\n",
              "    .dataframe tbody tr th {\n",
              "        vertical-align: top;\n",
              "    }\n",
              "\n",
              "    .dataframe thead th {\n",
              "        text-align: right;\n",
              "    }\n",
              "</style>\n",
              "<table border=\"1\" class=\"dataframe\">\n",
              "  <thead>\n",
              "    <tr style=\"text-align: right;\">\n",
              "      <th></th>\n",
              "      <th>state/region</th>\n",
              "      <th>ages</th>\n",
              "      <th>year</th>\n",
              "      <th>population</th>\n",
              "      <th>state</th>\n",
              "      <th>abbreviation</th>\n",
              "      <th>area (sq. mi)</th>\n",
              "    </tr>\n",
              "  </thead>\n",
              "  <tbody>\n",
              "    <tr>\n",
              "      <th>43</th>\n",
              "      <td>AK</td>\n",
              "      <td>total</td>\n",
              "      <td>2010</td>\n",
              "      <td>713868.0</td>\n",
              "      <td>Alaska</td>\n",
              "      <td>AK</td>\n",
              "      <td>656425.0</td>\n",
              "    </tr>\n",
              "    <tr>\n",
              "      <th>51</th>\n",
              "      <td>AL</td>\n",
              "      <td>total</td>\n",
              "      <td>2010</td>\n",
              "      <td>4785570.0</td>\n",
              "      <td>Alabama</td>\n",
              "      <td>AL</td>\n",
              "      <td>52423.0</td>\n",
              "    </tr>\n",
              "    <tr>\n",
              "      <th>141</th>\n",
              "      <td>AR</td>\n",
              "      <td>total</td>\n",
              "      <td>2010</td>\n",
              "      <td>2922280.0</td>\n",
              "      <td>Arkansas</td>\n",
              "      <td>AR</td>\n",
              "      <td>53182.0</td>\n",
              "    </tr>\n",
              "    <tr>\n",
              "      <th>149</th>\n",
              "      <td>AZ</td>\n",
              "      <td>total</td>\n",
              "      <td>2010</td>\n",
              "      <td>6408790.0</td>\n",
              "      <td>Arizona</td>\n",
              "      <td>AZ</td>\n",
              "      <td>114006.0</td>\n",
              "    </tr>\n",
              "    <tr>\n",
              "      <th>197</th>\n",
              "      <td>CA</td>\n",
              "      <td>total</td>\n",
              "      <td>2010</td>\n",
              "      <td>37333601.0</td>\n",
              "      <td>California</td>\n",
              "      <td>CA</td>\n",
              "      <td>163707.0</td>\n",
              "    </tr>\n",
              "  </tbody>\n",
              "</table>\n",
              "</div>"
            ],
            "text/plain": [
              "    state/region   ages  year  population       state abbreviation  \\\n",
              "43            AK  total  2010    713868.0      Alaska           AK   \n",
              "51            AL  total  2010   4785570.0     Alabama           AL   \n",
              "141           AR  total  2010   2922280.0    Arkansas           AR   \n",
              "149           AZ  total  2010   6408790.0     Arizona           AZ   \n",
              "197           CA  total  2010  37333601.0  California           CA   \n",
              "\n",
              "     area (sq. mi)  \n",
              "43        656425.0  \n",
              "51         52423.0  \n",
              "141        53182.0  \n",
              "149       114006.0  \n",
              "197       163707.0  "
            ]
          },
          "execution_count": 31,
          "metadata": {},
          "output_type": "execute_result"
        }
      ],
      "source": [
        "data2010 = final.query(\"year == 2010 & ages == 'total'\")\n",
        "data2010.head()"
      ]
    },
    {
      "cell_type": "markdown",
      "metadata": {
        "id": "LZZ9-jM0_Tfj"
      },
      "source": [
        "Now let's compute the population density and display it in order.\n",
        "We'll start by re-indexing our data on the state, and then compute the result:"
      ]
    },
    {
      "cell_type": "code",
      "execution_count": 32,
      "metadata": {
        "id": "5WpZoFpm_Tfj"
      },
      "outputs": [],
      "source": [
        "data2010.set_index('state', inplace=True)\n",
        "density = data2010['population'] / data2010['area (sq. mi)']"
      ]
    },
    {
      "cell_type": "code",
      "execution_count": 33,
      "metadata": {
        "id": "1RK3vVvu_Tfj"
      },
      "outputs": [
        {
          "data": {
            "text/plain": [
              "state\n",
              "District of Columbia    8898.897059\n",
              "New Jersey              1009.253268\n",
              "Rhode Island             681.339159\n",
              "Connecticut              645.600649\n",
              "Massachusetts            621.815538\n",
              "dtype: float64"
            ]
          },
          "execution_count": 33,
          "metadata": {},
          "output_type": "execute_result"
        }
      ],
      "source": [
        "density.sort_values(ascending=False, inplace=True)\n",
        "density.head()"
      ]
    },
    {
      "cell_type": "markdown",
      "metadata": {
        "id": "hkayiYdB_Tfk"
      },
      "source": [
        "The result is a ranking of US states plus Washington, DC, and Puerto Rico in order of their 2010 population density, in residents per square mile.\n",
        "We can see that by far the densest region in this dataset is Washington, DC (i.e., the District of Columbia); among states, the densest is New Jersey.\n",
        "\n",
        "We can also check the end of the list:"
      ]
    },
    {
      "cell_type": "code",
      "execution_count": 34,
      "metadata": {
        "id": "jEzXEA6f_Tfk"
      },
      "outputs": [
        {
          "data": {
            "text/plain": [
              "state\n",
              "South Dakota    10.583512\n",
              "North Dakota     9.537565\n",
              "Montana          6.736171\n",
              "Wyoming          5.768079\n",
              "Alaska           1.087509\n",
              "dtype: float64"
            ]
          },
          "execution_count": 34,
          "metadata": {},
          "output_type": "execute_result"
        }
      ],
      "source": [
        "density.tail()"
      ]
    },
    {
      "cell_type": "markdown",
      "metadata": {
        "id": "rNEZdA_x_Tfk"
      },
      "source": [
        "We see that the least dense state, by far, is Alaska, averaging slightly over one resident per square mile.\n",
        "\n",
        "This type of messy data merging is a common task when trying to answer questions using real-world data sources.\n",
        "I hope that this example has given you an idea of the ways you can combine tools we've covered in order to gain insight from your data!"
      ]
    },
    {
      "cell_type": "markdown",
      "metadata": {
        "id": "KRP-b8nA_Tfl"
      },
      "source": [
        "<!--NAVIGATION-->\n",
        "< [Combining Datasets: Concat and Append](03.06-Concat-And-Append.ipynb) | [Contents](Index.ipynb) | [Aggregation and Grouping](03.08-Aggregation-and-Grouping.ipynb) >\n",
        "\n",
        "<a href=\"https://colab.research.google.com/github/jakevdp/PythonDataScienceHandbook/blob/master/notebooks/03.07-Merge-and-Join.ipynb\"><img align=\"left\" src=\"https://colab.research.google.com/assets/colab-badge.svg\" alt=\"Open in Colab\" title=\"Open and Execute in Google Colaboratory\"></a>\n"
      ]
    },
    {
      "cell_type": "markdown",
      "metadata": {
        "id": "pDSUVqANhBAN"
      },
      "source": [
        "# Handling Missing Data"
      ]
    },
    {
      "cell_type": "markdown",
      "metadata": {
        "id": "whY3rv2zhBAO"
      },
      "source": [
        "The difference between data found in many tutorials and data in the real world is that real-world data is rarely clean and homogeneous.\n",
        "In particular, many interesting datasets will have some amount of data missing.\n",
        "To make matters even more complicated, different data sources may indicate missing data in different ways.\n",
        "\n",
        "In this section, we will discuss some general considerations for missing data, discuss how Pandas chooses to represent it, and demonstrate some built-in Pandas tools for handling missing data in Python.\n",
        "Here and throughout the book, we'll refer to missing data in general as *null*, *NaN*, or *NA* values."
      ]
    },
    {
      "cell_type": "markdown",
      "metadata": {
        "id": "p7nsWKozhBAQ"
      },
      "source": [
        "## Trade-Offs in Missing Data Conventions\n",
        "\n",
        "There are a number of schemes that have been developed to indicate the presence of missing data in a table or DataFrame.\n",
        "Generally, they revolve around one of two strategies: using a *mask* that globally indicates missing values, or choosing a *sentinel value* that indicates a missing entry.\n",
        "\n",
        "In the masking approach, the mask might be an entirely separate Boolean array, or it may involve appropriation of one bit in the data representation to locally indicate the null status of a value.\n",
        "\n",
        "In the sentinel approach, the sentinel value could be some data-specific convention, such as indicating a missing integer value with -9999 or some rare bit pattern, or it could be a more global convention, such as indicating a missing floating-point value with NaN (Not a Number), a special value which is part of the IEEE floating-point specification.\n",
        "\n",
        "None of these approaches is without trade-offs: use of a separate mask array requires allocation of an additional Boolean array, which adds overhead in both storage and computation. A sentinel value reduces the range of valid values that can be represented, and may require extra (often non-optimized) logic in CPU and GPU arithmetic. Common special values like NaN are not available for all data types.\n",
        "\n",
        "As in most cases where no universally optimal choice exists, different languages and systems use different conventions.\n",
        "For example, the R language uses reserved bit patterns within each data type as sentinel values indicating missing data, while the SciDB system uses an extra byte attached to every cell which indicates a NA state."
      ]
    },
    {
      "cell_type": "markdown",
      "metadata": {
        "id": "iM-lgZaAhBAR"
      },
      "source": [
        "## Missing Data in Pandas\n",
        "\n",
        "The way in which Pandas handles missing values is constrained by its reliance on the NumPy package, which does not have a built-in notion of NA values for non-floating-point data types.\n",
        "\n",
        "Pandas could have followed R's lead in specifying bit patterns for each individual data type to indicate nullness, but this approach turns out to be rather unwieldy.\n",
        "While R contains four basic data types, NumPy supports *far* more than this: for example, while R has a single integer type, NumPy supports *fourteen* basic integer types once you account for available precisions, signedness, and endianness of the encoding.\n",
        "Reserving a specific bit pattern in all available NumPy types would lead to an unwieldy amount of overhead in special-casing various operations for various types, likely even requiring a new fork of the NumPy package. Further, for the smaller data types (such as 8-bit integers), sacrificing a bit to use as a mask will significantly reduce the range of values it can represent.\n",
        "\n",
        "NumPy does have support for masked arrays – that is, arrays that have a separate Boolean mask array attached for marking data as \"good\" or \"bad.\"\n",
        "Pandas could have derived from this, but the overhead in both storage, computation, and code maintenance makes that an unattractive choice.\n",
        "\n",
        "With these constraints in mind, Pandas chose to use sentinels for missing data, and further chose to use two already-existing Python null values: the special floating-point ``NaN`` value, and the Python ``None`` object.\n",
        "This choice has some side effects, as we will see, but in practice ends up being a good compromise in most cases of interest."
      ]
    },
    {
      "cell_type": "markdown",
      "metadata": {
        "id": "woytd-cBhBAY"
      },
      "source": [
        "### ``NaN``: Missing numerical data\n",
        "\n",
        "The other missing data representation, ``NaN`` (acronym for *Not a Number*), is different; it is a special floating-point value recognized by all systems that use the standard IEEE floating-point representation:"
      ]
    },
    {
      "cell_type": "code",
      "execution_count": 35,
      "metadata": {
        "colab": {
          "base_uri": "https://localhost:8080/"
        },
        "id": "F2bYrZKNhBAZ",
        "outputId": "c4120f03-f61a-4ab1-b449-f7a16ad85465"
      },
      "outputs": [
        {
          "data": {
            "text/plain": [
              "dtype('float64')"
            ]
          },
          "execution_count": 35,
          "metadata": {},
          "output_type": "execute_result"
        }
      ],
      "source": [
        "vals2 = np.array([1, np.nan, 3, 4])\n",
        "vals2.dtype"
      ]
    },
    {
      "cell_type": "code",
      "execution_count": 36,
      "metadata": {
        "colab": {
          "base_uri": "https://localhost:8080/"
        },
        "id": "2BgdebMChBAa",
        "outputId": "5c910b44-980a-4664-b8a6-5bb0e1d0e120"
      },
      "outputs": [
        {
          "data": {
            "text/plain": [
              "nan"
            ]
          },
          "execution_count": 36,
          "metadata": {},
          "output_type": "execute_result"
        }
      ],
      "source": [
        "1 + np.nan"
      ]
    },
    {
      "cell_type": "code",
      "execution_count": 37,
      "metadata": {
        "colab": {
          "base_uri": "https://localhost:8080/"
        },
        "id": "VZbMdxLZhBAb",
        "outputId": "087401b1-fc78-44b6-9e03-c8ff0da92e08"
      },
      "outputs": [
        {
          "data": {
            "text/plain": [
              "nan"
            ]
          },
          "execution_count": 37,
          "metadata": {},
          "output_type": "execute_result"
        }
      ],
      "source": [
        "0 *  np.nan"
      ]
    },
    {
      "cell_type": "markdown",
      "metadata": {
        "id": "VPOm6TvfhBAh"
      },
      "source": [
        "## Operating on Null Values\n",
        "\n",
        "As we have seen, Pandas treats ``None`` and ``NaN`` as essentially interchangeable for indicating missing or null values.\n",
        "To facilitate this convention, there are several useful methods for detecting, removing, and replacing null values in Pandas data structures.\n",
        "They are:\n",
        "\n",
        "- ``isnull()``: Generate a boolean mask indicating missing values\n",
        "- ``notnull()``: Opposite of ``isnull()``\n",
        "- ``dropna()``: Return a filtered version of the data\n",
        "- ``fillna()``: Return a copy of the data with missing values filled or imputed\n",
        "\n",
        "We will conclude this section with a brief exploration and demonstration of these routines."
      ]
    },
    {
      "cell_type": "markdown",
      "metadata": {
        "id": "KixgmBqphBAh"
      },
      "source": [
        "### Detecting null values\n",
        "Pandas data structures have two useful methods for detecting null data: ``isnull()`` and ``notnull()``.\n",
        "Either one will return a Boolean mask over the data. For example:"
      ]
    },
    {
      "cell_type": "code",
      "execution_count": 38,
      "metadata": {
        "collapsed": true,
        "id": "LLHrAXC-hBAi"
      },
      "outputs": [],
      "source": [
        "data = pd.Series([1, np.nan, 'hello', None])"
      ]
    },
    {
      "cell_type": "code",
      "execution_count": 39,
      "metadata": {
        "colab": {
          "base_uri": "https://localhost:8080/"
        },
        "id": "M33z81T1hBAi",
        "outputId": "b9e5138f-7903-46fd-df0c-a104f94ef1c0"
      },
      "outputs": [
        {
          "data": {
            "text/plain": [
              "0    False\n",
              "1     True\n",
              "2    False\n",
              "3     True\n",
              "dtype: bool"
            ]
          },
          "execution_count": 39,
          "metadata": {},
          "output_type": "execute_result"
        }
      ],
      "source": [
        "data.isnull()"
      ]
    },
    {
      "cell_type": "code",
      "execution_count": 40,
      "metadata": {
        "colab": {
          "base_uri": "https://localhost:8080/"
        },
        "id": "O2cVDtpuhBAk",
        "outputId": "58b04dab-04c6-46cc-e260-388ae612beb7"
      },
      "outputs": [
        {
          "data": {
            "text/plain": [
              "0        1\n",
              "2    hello\n",
              "dtype: object"
            ]
          },
          "execution_count": 40,
          "metadata": {},
          "output_type": "execute_result"
        }
      ],
      "source": [
        "data.dropna()"
      ]
    },
    {
      "cell_type": "markdown",
      "metadata": {
        "id": "r6igx7YxhBAk"
      },
      "source": [
        "For a ``DataFrame``, there are more options.\n",
        "Consider the following ``DataFrame``:"
      ]
    },
    {
      "cell_type": "code",
      "execution_count": 41,
      "metadata": {
        "colab": {
          "base_uri": "https://localhost:8080/",
          "height": 143
        },
        "id": "gfNCwoLShBAl",
        "outputId": "9f78c151-0cfa-4424-e677-1c29e3c02486"
      },
      "outputs": [
        {
          "data": {
            "text/html": [
              "<div>\n",
              "<style scoped>\n",
              "    .dataframe tbody tr th:only-of-type {\n",
              "        vertical-align: middle;\n",
              "    }\n",
              "\n",
              "    .dataframe tbody tr th {\n",
              "        vertical-align: top;\n",
              "    }\n",
              "\n",
              "    .dataframe thead th {\n",
              "        text-align: right;\n",
              "    }\n",
              "</style>\n",
              "<table border=\"1\" class=\"dataframe\">\n",
              "  <thead>\n",
              "    <tr style=\"text-align: right;\">\n",
              "      <th></th>\n",
              "      <th>0</th>\n",
              "      <th>1</th>\n",
              "      <th>2</th>\n",
              "    </tr>\n",
              "  </thead>\n",
              "  <tbody>\n",
              "    <tr>\n",
              "      <th>0</th>\n",
              "      <td>1.0</td>\n",
              "      <td>NaN</td>\n",
              "      <td>2</td>\n",
              "    </tr>\n",
              "    <tr>\n",
              "      <th>1</th>\n",
              "      <td>2.0</td>\n",
              "      <td>3.0</td>\n",
              "      <td>5</td>\n",
              "    </tr>\n",
              "    <tr>\n",
              "      <th>2</th>\n",
              "      <td>NaN</td>\n",
              "      <td>4.0</td>\n",
              "      <td>6</td>\n",
              "    </tr>\n",
              "  </tbody>\n",
              "</table>\n",
              "</div>"
            ],
            "text/plain": [
              "     0    1  2\n",
              "0  1.0  NaN  2\n",
              "1  2.0  3.0  5\n",
              "2  NaN  4.0  6"
            ]
          },
          "execution_count": 41,
          "metadata": {},
          "output_type": "execute_result"
        }
      ],
      "source": [
        "df = pd.DataFrame([[1,      np.nan, 2],\n",
        "                   [2,      3,      5],\n",
        "                   [np.nan, 4,      6]])\n",
        "df"
      ]
    },
    {
      "cell_type": "markdown",
      "metadata": {
        "id": "fCaejOTrhBAl"
      },
      "source": [
        "We cannot drop single values from a ``DataFrame``; we can only drop full rows or full columns.\n",
        "Depending on the application, you might want one or the other, so ``dropna()`` gives a number of options for a ``DataFrame``.\n",
        "\n",
        "By default, ``dropna()`` will drop all rows in which *any* null value is present:"
      ]
    },
    {
      "cell_type": "code",
      "execution_count": 42,
      "metadata": {
        "colab": {
          "base_uri": "https://localhost:8080/",
          "height": 80
        },
        "id": "Jx-69gtOhBAm",
        "outputId": "9ce9bb31-d379-485a-e5c3-0c44aab2d8bb"
      },
      "outputs": [
        {
          "data": {
            "text/html": [
              "<div>\n",
              "<style scoped>\n",
              "    .dataframe tbody tr th:only-of-type {\n",
              "        vertical-align: middle;\n",
              "    }\n",
              "\n",
              "    .dataframe tbody tr th {\n",
              "        vertical-align: top;\n",
              "    }\n",
              "\n",
              "    .dataframe thead th {\n",
              "        text-align: right;\n",
              "    }\n",
              "</style>\n",
              "<table border=\"1\" class=\"dataframe\">\n",
              "  <thead>\n",
              "    <tr style=\"text-align: right;\">\n",
              "      <th></th>\n",
              "      <th>0</th>\n",
              "      <th>1</th>\n",
              "      <th>2</th>\n",
              "    </tr>\n",
              "  </thead>\n",
              "  <tbody>\n",
              "    <tr>\n",
              "      <th>1</th>\n",
              "      <td>2.0</td>\n",
              "      <td>3.0</td>\n",
              "      <td>5</td>\n",
              "    </tr>\n",
              "  </tbody>\n",
              "</table>\n",
              "</div>"
            ],
            "text/plain": [
              "     0    1  2\n",
              "1  2.0  3.0  5"
            ]
          },
          "execution_count": 42,
          "metadata": {},
          "output_type": "execute_result"
        }
      ],
      "source": [
        "df.dropna()"
      ]
    },
    {
      "cell_type": "markdown",
      "metadata": {
        "id": "Biv3FtmUhBAm"
      },
      "source": [
        "Alternatively, you can drop NA values along a different axis; ``axis=1`` drops all columns containing a null value:"
      ]
    },
    {
      "cell_type": "code",
      "execution_count": 43,
      "metadata": {
        "colab": {
          "base_uri": "https://localhost:8080/",
          "height": 143
        },
        "id": "Pl9uDkiPhBAm",
        "outputId": "8c7f0a21-fe49-43e8-df39-6be4c14f7c87"
      },
      "outputs": [
        {
          "data": {
            "text/html": [
              "<div>\n",
              "<style scoped>\n",
              "    .dataframe tbody tr th:only-of-type {\n",
              "        vertical-align: middle;\n",
              "    }\n",
              "\n",
              "    .dataframe tbody tr th {\n",
              "        vertical-align: top;\n",
              "    }\n",
              "\n",
              "    .dataframe thead th {\n",
              "        text-align: right;\n",
              "    }\n",
              "</style>\n",
              "<table border=\"1\" class=\"dataframe\">\n",
              "  <thead>\n",
              "    <tr style=\"text-align: right;\">\n",
              "      <th></th>\n",
              "      <th>2</th>\n",
              "    </tr>\n",
              "  </thead>\n",
              "  <tbody>\n",
              "    <tr>\n",
              "      <th>0</th>\n",
              "      <td>2</td>\n",
              "    </tr>\n",
              "    <tr>\n",
              "      <th>1</th>\n",
              "      <td>5</td>\n",
              "    </tr>\n",
              "    <tr>\n",
              "      <th>2</th>\n",
              "      <td>6</td>\n",
              "    </tr>\n",
              "  </tbody>\n",
              "</table>\n",
              "</div>"
            ],
            "text/plain": [
              "   2\n",
              "0  2\n",
              "1  5\n",
              "2  6"
            ]
          },
          "execution_count": 43,
          "metadata": {},
          "output_type": "execute_result"
        }
      ],
      "source": [
        "df.dropna(axis='columns')"
      ]
    },
    {
      "cell_type": "markdown",
      "metadata": {
        "id": "0gDKxR4MhBAn"
      },
      "source": [
        "But this drops some good data as well; you might rather be interested in dropping rows or columns with *all* NA values, or a majority of NA values.\n",
        "This can be specified through the ``how`` or ``thresh`` parameters, which allow fine control of the number of nulls to allow through.\n",
        "\n",
        "The default is ``how='any'``, such that any row or column (depending on the ``axis`` keyword) containing a null value will be dropped.\n",
        "You can also specify ``how='all'``, which will only drop rows/columns that are *all* null values:"
      ]
    },
    {
      "cell_type": "code",
      "execution_count": 44,
      "metadata": {
        "colab": {
          "base_uri": "https://localhost:8080/",
          "height": 143
        },
        "id": "keLY1K4phBAn",
        "outputId": "3187d51b-cb2d-4763-9db1-60f1ce50e837"
      },
      "outputs": [
        {
          "data": {
            "text/html": [
              "<div>\n",
              "<style scoped>\n",
              "    .dataframe tbody tr th:only-of-type {\n",
              "        vertical-align: middle;\n",
              "    }\n",
              "\n",
              "    .dataframe tbody tr th {\n",
              "        vertical-align: top;\n",
              "    }\n",
              "\n",
              "    .dataframe thead th {\n",
              "        text-align: right;\n",
              "    }\n",
              "</style>\n",
              "<table border=\"1\" class=\"dataframe\">\n",
              "  <thead>\n",
              "    <tr style=\"text-align: right;\">\n",
              "      <th></th>\n",
              "      <th>0</th>\n",
              "      <th>1</th>\n",
              "      <th>2</th>\n",
              "      <th>3</th>\n",
              "    </tr>\n",
              "  </thead>\n",
              "  <tbody>\n",
              "    <tr>\n",
              "      <th>0</th>\n",
              "      <td>1.0</td>\n",
              "      <td>NaN</td>\n",
              "      <td>2</td>\n",
              "      <td>NaN</td>\n",
              "    </tr>\n",
              "    <tr>\n",
              "      <th>1</th>\n",
              "      <td>2.0</td>\n",
              "      <td>3.0</td>\n",
              "      <td>5</td>\n",
              "      <td>NaN</td>\n",
              "    </tr>\n",
              "    <tr>\n",
              "      <th>2</th>\n",
              "      <td>NaN</td>\n",
              "      <td>4.0</td>\n",
              "      <td>6</td>\n",
              "      <td>NaN</td>\n",
              "    </tr>\n",
              "  </tbody>\n",
              "</table>\n",
              "</div>"
            ],
            "text/plain": [
              "     0    1  2   3\n",
              "0  1.0  NaN  2 NaN\n",
              "1  2.0  3.0  5 NaN\n",
              "2  NaN  4.0  6 NaN"
            ]
          },
          "execution_count": 44,
          "metadata": {},
          "output_type": "execute_result"
        }
      ],
      "source": [
        "df[3] = np.nan\n",
        "df"
      ]
    },
    {
      "cell_type": "code",
      "execution_count": 45,
      "metadata": {
        "colab": {
          "base_uri": "https://localhost:8080/",
          "height": 143
        },
        "id": "p4TzyOCphBAo",
        "outputId": "5a2db5ec-5e23-4890-e089-d84bde4288ce"
      },
      "outputs": [
        {
          "data": {
            "text/html": [
              "<div>\n",
              "<style scoped>\n",
              "    .dataframe tbody tr th:only-of-type {\n",
              "        vertical-align: middle;\n",
              "    }\n",
              "\n",
              "    .dataframe tbody tr th {\n",
              "        vertical-align: top;\n",
              "    }\n",
              "\n",
              "    .dataframe thead th {\n",
              "        text-align: right;\n",
              "    }\n",
              "</style>\n",
              "<table border=\"1\" class=\"dataframe\">\n",
              "  <thead>\n",
              "    <tr style=\"text-align: right;\">\n",
              "      <th></th>\n",
              "      <th>0</th>\n",
              "      <th>1</th>\n",
              "      <th>2</th>\n",
              "    </tr>\n",
              "  </thead>\n",
              "  <tbody>\n",
              "    <tr>\n",
              "      <th>0</th>\n",
              "      <td>1.0</td>\n",
              "      <td>NaN</td>\n",
              "      <td>2</td>\n",
              "    </tr>\n",
              "    <tr>\n",
              "      <th>1</th>\n",
              "      <td>2.0</td>\n",
              "      <td>3.0</td>\n",
              "      <td>5</td>\n",
              "    </tr>\n",
              "    <tr>\n",
              "      <th>2</th>\n",
              "      <td>NaN</td>\n",
              "      <td>4.0</td>\n",
              "      <td>6</td>\n",
              "    </tr>\n",
              "  </tbody>\n",
              "</table>\n",
              "</div>"
            ],
            "text/plain": [
              "     0    1  2\n",
              "0  1.0  NaN  2\n",
              "1  2.0  3.0  5\n",
              "2  NaN  4.0  6"
            ]
          },
          "execution_count": 45,
          "metadata": {},
          "output_type": "execute_result"
        }
      ],
      "source": [
        "df.dropna(axis='columns', how='all')"
      ]
    },
    {
      "cell_type": "markdown",
      "metadata": {
        "id": "luSKfRs3hBAo"
      },
      "source": [
        "For finer-grained control, the ``thresh`` parameter lets you specify a minimum number of non-null values for the row/column to be kept:"
      ]
    },
    {
      "cell_type": "code",
      "execution_count": 46,
      "metadata": {
        "colab": {
          "base_uri": "https://localhost:8080/",
          "height": 80
        },
        "id": "UBmfRCSyhBAp",
        "outputId": "7d36083b-5482-455c-8cdf-fc29b56f37b7"
      },
      "outputs": [
        {
          "data": {
            "text/html": [
              "<div>\n",
              "<style scoped>\n",
              "    .dataframe tbody tr th:only-of-type {\n",
              "        vertical-align: middle;\n",
              "    }\n",
              "\n",
              "    .dataframe tbody tr th {\n",
              "        vertical-align: top;\n",
              "    }\n",
              "\n",
              "    .dataframe thead th {\n",
              "        text-align: right;\n",
              "    }\n",
              "</style>\n",
              "<table border=\"1\" class=\"dataframe\">\n",
              "  <thead>\n",
              "    <tr style=\"text-align: right;\">\n",
              "      <th></th>\n",
              "      <th>0</th>\n",
              "      <th>1</th>\n",
              "      <th>2</th>\n",
              "      <th>3</th>\n",
              "    </tr>\n",
              "  </thead>\n",
              "  <tbody>\n",
              "    <tr>\n",
              "      <th>1</th>\n",
              "      <td>2.0</td>\n",
              "      <td>3.0</td>\n",
              "      <td>5</td>\n",
              "      <td>NaN</td>\n",
              "    </tr>\n",
              "  </tbody>\n",
              "</table>\n",
              "</div>"
            ],
            "text/plain": [
              "     0    1  2   3\n",
              "1  2.0  3.0  5 NaN"
            ]
          },
          "execution_count": 46,
          "metadata": {},
          "output_type": "execute_result"
        }
      ],
      "source": [
        "df.dropna(axis='rows', thresh=3)"
      ]
    },
    {
      "cell_type": "markdown",
      "metadata": {
        "id": "LX6PlQFJhBAp"
      },
      "source": [
        "Here the first and last row have been dropped, because they contain only two non-null values."
      ]
    },
    {
      "cell_type": "markdown",
      "metadata": {
        "id": "vsj-CsEShBAp"
      },
      "source": [
        "### Filling null values\n",
        "\n",
        "Sometimes rather than dropping NA values, you'd rather replace them with a valid value.\n",
        "This value might be a single number like zero, or it might be some sort of imputation or interpolation from the good values.\n",
        "You could do this in-place using the ``isnull()`` method as a mask, but because it is such a common operation Pandas provides the ``fillna()`` method, which returns a copy of the array with the null values replaced.\n",
        "\n",
        "Consider the following ``Series``:"
      ]
    },
    {
      "cell_type": "code",
      "execution_count": 47,
      "metadata": {
        "colab": {
          "base_uri": "https://localhost:8080/"
        },
        "id": "ICaygEgthBAq",
        "outputId": "d72755a5-bd12-4205-956b-eef15c775435"
      },
      "outputs": [
        {
          "data": {
            "text/plain": [
              "a    1.0\n",
              "b    NaN\n",
              "c    2.0\n",
              "d    NaN\n",
              "e    3.0\n",
              "dtype: float64"
            ]
          },
          "execution_count": 47,
          "metadata": {},
          "output_type": "execute_result"
        }
      ],
      "source": [
        "data = pd.Series([1, np.nan, 2, None, 3], index=list('abcde'))\n",
        "data"
      ]
    },
    {
      "cell_type": "markdown",
      "metadata": {
        "id": "cv20rZxUhBAq"
      },
      "source": [
        "We can fill NA entries with a single value, such as zero:"
      ]
    },
    {
      "cell_type": "code",
      "execution_count": 48,
      "metadata": {
        "colab": {
          "base_uri": "https://localhost:8080/"
        },
        "id": "NjBoS6BlhBAq",
        "outputId": "fd48428c-7c39-43ff-ad05-539f9a8fff00"
      },
      "outputs": [
        {
          "data": {
            "text/plain": [
              "a    1.0\n",
              "b    0.0\n",
              "c    2.0\n",
              "d    0.0\n",
              "e    3.0\n",
              "dtype: float64"
            ]
          },
          "execution_count": 48,
          "metadata": {},
          "output_type": "execute_result"
        }
      ],
      "source": [
        "data.fillna(0)"
      ]
    },
    {
      "cell_type": "markdown",
      "metadata": {
        "id": "Wl4X6sAshBAr"
      },
      "source": [
        "We can specify a forward-fill to propagate the previous value forward:"
      ]
    },
    {
      "cell_type": "code",
      "execution_count": 49,
      "metadata": {
        "colab": {
          "base_uri": "https://localhost:8080/"
        },
        "id": "ThkAMhpGhBAr",
        "outputId": "73b9fecd-e62b-4572-b217-f6447faf4600"
      },
      "outputs": [
        {
          "name": "stderr",
          "output_type": "stream",
          "text": [
            "C:\\Users\\dkChRiVe\\AppData\\Local\\Temp\\ipykernel_3864\\3316037056.py:2: FutureWarning: Series.fillna with 'method' is deprecated and will raise in a future version. Use obj.ffill() or obj.bfill() instead.\n",
            "  data.fillna(method='ffill')\n"
          ]
        },
        {
          "data": {
            "text/plain": [
              "a    1.0\n",
              "b    1.0\n",
              "c    2.0\n",
              "d    2.0\n",
              "e    3.0\n",
              "dtype: float64"
            ]
          },
          "execution_count": 49,
          "metadata": {},
          "output_type": "execute_result"
        }
      ],
      "source": [
        "# forward-fill\n",
        "data.fillna(method='ffill')"
      ]
    },
    {
      "cell_type": "markdown",
      "metadata": {
        "id": "__Mvxy6rhBAr"
      },
      "source": [
        "Or we can specify a back-fill to propagate the next values backward:"
      ]
    },
    {
      "cell_type": "code",
      "execution_count": 50,
      "metadata": {
        "colab": {
          "base_uri": "https://localhost:8080/"
        },
        "id": "ZRsJ78iShBAs",
        "outputId": "ece3ea50-d8f2-49ed-ee08-65a214e3eb8c"
      },
      "outputs": [
        {
          "name": "stderr",
          "output_type": "stream",
          "text": [
            "C:\\Users\\dkChRiVe\\AppData\\Local\\Temp\\ipykernel_3864\\692461307.py:2: FutureWarning: Series.fillna with 'method' is deprecated and will raise in a future version. Use obj.ffill() or obj.bfill() instead.\n",
            "  data.fillna(method='bfill')\n"
          ]
        },
        {
          "data": {
            "text/plain": [
              "a    1.0\n",
              "b    2.0\n",
              "c    2.0\n",
              "d    3.0\n",
              "e    3.0\n",
              "dtype: float64"
            ]
          },
          "execution_count": 50,
          "metadata": {},
          "output_type": "execute_result"
        }
      ],
      "source": [
        "# back-fill\n",
        "data.fillna(method='bfill')"
      ]
    },
    {
      "cell_type": "markdown",
      "metadata": {
        "collapsed": true,
        "id": "zRmC3Y-NhBAs"
      },
      "source": [
        "For ``DataFrame``s, the options are similar, but we can also specify an ``axis`` along which the fills take place:"
      ]
    },
    {
      "cell_type": "code",
      "execution_count": 51,
      "metadata": {
        "colab": {
          "base_uri": "https://localhost:8080/",
          "height": 143
        },
        "id": "LJgFkZK_hBAt",
        "outputId": "21b38c45-788e-4669-8b0f-f15506508fff"
      },
      "outputs": [
        {
          "data": {
            "text/html": [
              "<div>\n",
              "<style scoped>\n",
              "    .dataframe tbody tr th:only-of-type {\n",
              "        vertical-align: middle;\n",
              "    }\n",
              "\n",
              "    .dataframe tbody tr th {\n",
              "        vertical-align: top;\n",
              "    }\n",
              "\n",
              "    .dataframe thead th {\n",
              "        text-align: right;\n",
              "    }\n",
              "</style>\n",
              "<table border=\"1\" class=\"dataframe\">\n",
              "  <thead>\n",
              "    <tr style=\"text-align: right;\">\n",
              "      <th></th>\n",
              "      <th>0</th>\n",
              "      <th>1</th>\n",
              "      <th>2</th>\n",
              "      <th>3</th>\n",
              "    </tr>\n",
              "  </thead>\n",
              "  <tbody>\n",
              "    <tr>\n",
              "      <th>0</th>\n",
              "      <td>1.0</td>\n",
              "      <td>NaN</td>\n",
              "      <td>2</td>\n",
              "      <td>NaN</td>\n",
              "    </tr>\n",
              "    <tr>\n",
              "      <th>1</th>\n",
              "      <td>2.0</td>\n",
              "      <td>3.0</td>\n",
              "      <td>5</td>\n",
              "      <td>NaN</td>\n",
              "    </tr>\n",
              "    <tr>\n",
              "      <th>2</th>\n",
              "      <td>NaN</td>\n",
              "      <td>4.0</td>\n",
              "      <td>6</td>\n",
              "      <td>NaN</td>\n",
              "    </tr>\n",
              "  </tbody>\n",
              "</table>\n",
              "</div>"
            ],
            "text/plain": [
              "     0    1  2   3\n",
              "0  1.0  NaN  2 NaN\n",
              "1  2.0  3.0  5 NaN\n",
              "2  NaN  4.0  6 NaN"
            ]
          },
          "execution_count": 51,
          "metadata": {},
          "output_type": "execute_result"
        }
      ],
      "source": [
        "df"
      ]
    },
    {
      "cell_type": "code",
      "execution_count": 52,
      "metadata": {
        "colab": {
          "base_uri": "https://localhost:8080/",
          "height": 143
        },
        "id": "B_BOk1t6hBAu",
        "outputId": "77586f8c-0603-4648-b3ae-d296ef11d212"
      },
      "outputs": [
        {
          "name": "stderr",
          "output_type": "stream",
          "text": [
            "C:\\Users\\dkChRiVe\\AppData\\Local\\Temp\\ipykernel_3864\\901808322.py:1: FutureWarning: DataFrame.fillna with 'method' is deprecated and will raise in a future version. Use obj.ffill() or obj.bfill() instead.\n",
            "  df.fillna(method='ffill', axis=1)\n"
          ]
        },
        {
          "data": {
            "text/html": [
              "<div>\n",
              "<style scoped>\n",
              "    .dataframe tbody tr th:only-of-type {\n",
              "        vertical-align: middle;\n",
              "    }\n",
              "\n",
              "    .dataframe tbody tr th {\n",
              "        vertical-align: top;\n",
              "    }\n",
              "\n",
              "    .dataframe thead th {\n",
              "        text-align: right;\n",
              "    }\n",
              "</style>\n",
              "<table border=\"1\" class=\"dataframe\">\n",
              "  <thead>\n",
              "    <tr style=\"text-align: right;\">\n",
              "      <th></th>\n",
              "      <th>0</th>\n",
              "      <th>1</th>\n",
              "      <th>2</th>\n",
              "      <th>3</th>\n",
              "    </tr>\n",
              "  </thead>\n",
              "  <tbody>\n",
              "    <tr>\n",
              "      <th>0</th>\n",
              "      <td>1.0</td>\n",
              "      <td>1.0</td>\n",
              "      <td>2.0</td>\n",
              "      <td>2.0</td>\n",
              "    </tr>\n",
              "    <tr>\n",
              "      <th>1</th>\n",
              "      <td>2.0</td>\n",
              "      <td>3.0</td>\n",
              "      <td>5.0</td>\n",
              "      <td>5.0</td>\n",
              "    </tr>\n",
              "    <tr>\n",
              "      <th>2</th>\n",
              "      <td>NaN</td>\n",
              "      <td>4.0</td>\n",
              "      <td>6.0</td>\n",
              "      <td>6.0</td>\n",
              "    </tr>\n",
              "  </tbody>\n",
              "</table>\n",
              "</div>"
            ],
            "text/plain": [
              "     0    1    2    3\n",
              "0  1.0  1.0  2.0  2.0\n",
              "1  2.0  3.0  5.0  5.0\n",
              "2  NaN  4.0  6.0  6.0"
            ]
          },
          "execution_count": 52,
          "metadata": {},
          "output_type": "execute_result"
        }
      ],
      "source": [
        "df.fillna(method='ffill', axis=1)"
      ]
    },
    {
      "cell_type": "markdown",
      "metadata": {
        "id": "sJ1TYKK5hBAu"
      },
      "source": [
        "Notice that if a previous value is not available during a forward fill, the NA value remains."
      ]
    },
    {
      "cell_type": "markdown",
      "metadata": {
        "id": "adQvu4FihBAu"
      },
      "source": [
        "<!--NAVIGATION-->\n",
        "< [Operating on Data in Pandas](03.03-Operations-in-Pandas.ipynb) | [Contents](Index.ipynb) | [Hierarchical Indexing](03.05-Hierarchical-Indexing.ipynb) >\n",
        "\n",
        "<a href=\"https://colab.research.google.com/github/jakevdp/PythonDataScienceHandbook/blob/master/notebooks/03.04-Missing-Values.ipynb\"><img align=\"left\" src=\"https://colab.research.google.com/assets/colab-badge.svg\" alt=\"Open in Colab\" title=\"Open and Execute in Google Colaboratory\"></a>\n"
      ]
    }
  ],
  "metadata": {
    "anaconda-cloud": {},
    "colab": {
      "provenance": []
    },
    "kernelspec": {
      "display_name": "Python 3",
      "language": "python",
      "name": "python3"
    },
    "language_info": {
      "codemirror_mode": {
        "name": "ipython",
        "version": 3
      },
      "file_extension": ".py",
      "mimetype": "text/x-python",
      "name": "python",
      "nbconvert_exporter": "python",
      "pygments_lexer": "ipython3",
      "version": "3.12.4"
    }
  },
  "nbformat": 4,
  "nbformat_minor": 0
}
